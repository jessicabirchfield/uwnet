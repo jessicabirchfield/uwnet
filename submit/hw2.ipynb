{
  "nbformat": 4,
  "nbformat_minor": 0,
  "metadata": {
    "accelerator": "GPU",
    "colab": {
      "name": "hw2.ipynb",
      "provenance": [],
      "collapsed_sections": []
    },
    "kernelspec": {
      "display_name": "Python 3",
      "language": "python",
      "name": "python3"
    },
    "language_info": {
      "codemirror_mode": {
        "name": "ipython",
        "version": 3
      },
      "file_extension": ".py",
      "mimetype": "text/x-python",
      "name": "python",
      "nbconvert_exporter": "python",
      "pygments_lexer": "ipython3",
      "version": "3.7.3"
    }
  },
  "cells": [
    {
      "cell_type": "markdown",
      "metadata": {
        "id": "S2IaITBP0f5R"
      },
      "source": [
        "# Homework 2\n",
        "In this homework, we will explore language generation using character-level RNNs. Sounds awesome, right???\n",
        "\n",
        "A few notes at the beginning:\n",
        "- It might be useful for you to read the whole assignment before beginning. Especially the last two sections so you know what to record for turning in.\n",
        "- Much of the required knowledge in this (and past) homeworks about Python, PyTorch, etc. are not explained fully here. Instead, we expect you to use the existing documentation, search engines, Stack Overflow, etc. for implementation details.\n",
        "- That being said, we have listed several functions in parts of the homework where knowing those functions exist would be especially useful. However you will still need to read the docs on how to specifically use the functions.\n",
        "\n",
        "# Part 0: Initial setup\n",
        "You should recognize this code from last time.\n"
      ]
    },
    {
      "cell_type": "code",
      "metadata": {
        "id": "pi5Gq_3uK0BY",
        "outputId": "adf87b68-b04a-4c79-b8d7-df1ce6160e56",
        "colab": {
          "base_uri": "https://localhost:8080/"
        }
      },
      "source": [
        "import torch\n",
        "print('Version', torch.__version__)\n",
        "print('CUDA enabled:', torch.cuda.is_available())\n",
        "  \n",
        "# Running this should then print out:\n",
        "# Version 1.7.0+cu101 (or something like this)\n",
        "# CUDA enabled: True"
      ],
      "execution_count": null,
      "outputs": [
        {
          "output_type": "stream",
          "text": [
            "Version 1.7.0+cu101\n",
            "CUDA enabled: True\n"
          ],
          "name": "stdout"
        }
      ]
    },
    {
      "cell_type": "code",
      "metadata": {
        "id": "6t3ZIEll0pr-",
        "outputId": "ed1a15b0-0fca-444b-e1fb-3be44f92bd91",
        "colab": {
          "base_uri": "https://localhost:8080/"
        }
      },
      "source": [
        "from google.colab import drive\n",
        "drive.mount('/gdrive')\n",
        "!ls /gdrive"
      ],
      "execution_count": null,
      "outputs": [
        {
          "output_type": "stream",
          "text": [
            "Drive already mounted at /gdrive; to attempt to forcibly remount, call drive.mount(\"/gdrive\", force_remount=True).\n",
            "'My Drive'\n"
          ],
          "name": "stdout"
        }
      ]
    },
    {
      "cell_type": "markdown",
      "metadata": {
        "id": "PEzPNAIY0vkm"
      },
      "source": [
        "# Part 1: Upload the dataset\n",
        "We will be using the complete text of Harry Potter as our corpus. We will provide it for you in a not-very-well-formatted way.\n",
        "Run this code to set up the homework3 files.\n",
        "\n"
      ]
    },
    {
      "cell_type": "code",
      "metadata": {
        "id": "CLVJPc_90vsB"
      },
      "source": [
        "import os\n",
        "BASE_PATH = '/gdrive/My Drive/colab_files/hw2/'\n",
        "if not os.path.exists(BASE_PATH):\n",
        "    os.makedirs(BASE_PATH)\n",
        "DATA_PATH = '/content/'\n",
        "\n",
        "if not os.path.exists(os.path.join(DATA_PATH, 'harry_potter.txt')):\n",
        "    os.chdir(BASE_PATH)\n",
        "    !wget https://courses.cs.washington.edu/courses/cse599g1/19au/files/homework3.tar.gz\n",
        "    !tar -zxvf homework3.tar.gz\n",
        "    !rm homework3.tar.gz\n",
        "    !cp pt_util.py /content\n",
        "    !cp harry_potter.txt /content\n",
        "os.chdir('/content')"
      ],
      "execution_count": null,
      "outputs": []
    },
    {
      "cell_type": "code",
      "metadata": {
        "id": "hd1Qx66s19Pl"
      },
      "source": [
        "\n",
        "\n",
        "import torch\n",
        "import torch.nn as nn\n",
        "from torchvision import datasets\n",
        "from torchvision import transforms\n",
        "import numpy as np\n",
        "import torch.nn.functional as F\n",
        "import torch.optim as optim\n",
        "import sys\n",
        "import pickle\n",
        "import re\n",
        "import pt_util\n",
        "import math"
      ],
      "execution_count": null,
      "outputs": []
    },
    {
      "cell_type": "markdown",
      "metadata": {
        "id": "AxIvm7h62tfx"
      },
      "source": [
        "#Part 2: Preprocessing the data\n",
        "In previous homeworks, we have provided a cleaned version of the data. But this time you'll have to do some of that cleaning yourselves.\n",
        "\n",
        "Hints:\n",
        "- train_text and test_text should contain the class indices for the character tokens from the data file. For example, if the text was **`\"ABA CDBE\"`**, the token version would be a numpy array with contents `[0, 1, 0, 2, 3, 4, 1, 5]`\n",
        "- The harry_potter.txt file has weird spacing. You might want to replace all the whitespace characters (space, \\n, \\t, etc.) in the file with the space character.\n",
        "- You should output two files. One for training and one for testing. The training should be the first 80% of the characters.\n",
        "- voc2ind is a map from character to the index of the class for that character. There is no predefined vocabulary, but you will need to be consistent across all tasks that use the vocabulary. For the example above, the voc2ind would be `{'A': 0, 'B': 1, ' ': 2, 'C': 3, 'D': 4, 'E': 5}`\n",
        "- ind2voc is the inverse of voc2ind\n",
        "\n"
      ]
    },
    {
      "cell_type": "code",
      "metadata": {
        "id": "6oZq_S6k3GpB"
      },
      "source": [
        "def prepare_data(data_path):\n",
        "    with open(data_path) as f:\n",
        "        # This reads all the data from the file, but does not do any processing on it.\n",
        "        data = f.read()\n",
        "    \n",
        "    # TODO Add more preprocessing\n",
        "    data = re.sub(r\"[\\n\\t\\s]\", \" \", data)\n",
        "    \n",
        "    voc2ind = {}\n",
        "    \n",
        "    # Compute voc2ind and transform the data into an integer representation of the tokens.\n",
        "    index = 0\n",
        "    for char in data:\n",
        "      if char not in voc2ind:\n",
        "        voc2ind[char] = index\n",
        "        index += 1\n",
        "\n",
        "    ind2voc = {val: key for key, val in voc2ind.items()}\n",
        "\n",
        "    data_text = []\n",
        "    for char in data:\n",
        "      data_text.append(voc2ind[char])\n",
        "\n",
        "    length = (int) (len(data_text) * 0.8)\n",
        "    train_text = data_text[0:length]\n",
        "    test_text = data_text[length:]\n",
        "\n",
        "    pickle.dump({'tokens': train_text, 'ind2voc': ind2voc, 'voc2ind':voc2ind}, open(DATA_PATH + 'harry_potter_chars_train.pkl', 'wb'))\n",
        "    pickle.dump({'tokens': test_text, 'ind2voc': ind2voc, 'voc2ind':voc2ind}, open(DATA_PATH + 'harry_potter_chars_test.pkl', 'wb'))\n",
        "\n",
        "prepare_data(DATA_PATH + 'harry_potter.txt')\n",
        "\n",
        "\n",
        "class Vocabulary(object):\n",
        "    def __init__(self, data_file):\n",
        "        with open(data_file, 'rb') as data_file:\n",
        "            dataset = pickle.load(data_file)\n",
        "        self.ind2voc = dataset['ind2voc']\n",
        "        self.voc2ind = dataset['voc2ind']\n",
        "\n",
        "    # Returns a string representation of the tokens.\n",
        "    def array_to_words(self, arr):\n",
        "        return ''.join([self.ind2voc[int(ind)] for ind in arr])\n",
        "\n",
        "    # Returns a torch tensor representing each token in words.\n",
        "    def words_to_array(self, words):\n",
        "        return torch.LongTensor([self.voc2ind[word] for word in words])\n",
        "\n",
        "    # Returns the size of the vocabulary.\n",
        "    def __len__(self):\n",
        "        return len(self.voc2ind)"
      ],
      "execution_count": null,
      "outputs": []
    },
    {
      "cell_type": "markdown",
      "metadata": {
        "id": "kzX1tUv8ilYV"
      },
      "source": [
        "#Part 3: Loading the data\n",
        "This is possibly the trickiest part of this homework. In the past, batches were not correlated with each other, and the data within a single minibatch was also not correlated, so you could basically draw randomly from the dataset. That is not the case here. Instead, you should return sequences from the dataset.\n",
        "\n",
        "Your instructions are to implement the following. First, imagine splitting the dataset into N chunks where N is the batch_size and the chunks are contiguous parts of the data. For each batch, you should return one sequence from each of the chunks. The batches should also be sequential an example is described below.\n",
        "\n",
        "The data is 20 characters long `[1, 2, 3, ...20]`. The batch size is `2` and the sequence length is `4`\n",
        "- The 1st batch should consist of  `(data =  [[1, 2, 3, 4]; [11, 12, 13, 14]], labels = [[2, 3, 4, 5]; [12, 13, 14, 15]])`\n",
        "- The 2nd batch should consist of `(data =  [[5, 6, 7, 8]; [15, 16, 17, 18]], labels = [[6, 7, 8, 9]; [16, 17, 18, 19]])`\n",
        "- The 3rd batch should consist of `(data =  [[9]; [19]], labels = [[10]; [20]])`\n",
        "- There is no 4th batch.\n",
        "\n",
        "Hints:\n",
        "- To work with the rest of the code, your len(dataset) should be a multiple of the batch_size. \n",
        "- Removing the last bit to make the data the proper shape will probably give better results than padding with 0s.\n",
        "- It is OK to have one batch be shorter than the others as long as all entries in that batch are the same length.\n",
        "- Notice that the last label in one batch is the first data in the next batch. Be careful of off-by-one errors.\n",
        "\n"
      ]
    },
    {
      "cell_type": "code",
      "metadata": {
        "id": "44v6o0JwiwXk"
      },
      "source": [
        "class HarryPotterDataset(torch.utils.data.Dataset):\n",
        "    def __init__(self, data_file, sequence_length, batch_size):\n",
        "        super(HarryPotterDataset, self).__init__()\n",
        "\n",
        "        self.sequence_length = sequence_length\n",
        "        self.batch_size = batch_size\n",
        "        self.vocab = Vocabulary(data_file)\n",
        "\n",
        "        self.dataset = None\n",
        "        self.tokens = None\n",
        "        self.dataset_sorted = None\n",
        "        self.len_subdivision = 0\n",
        "        self.num_unique_seq = 0 \n",
        "\n",
        "        with open(data_file, 'rb') as data_pkl:\n",
        "            self.dataset = pickle.load(data_pkl)\n",
        "\n",
        "        self.tokens = self.dataset['tokens']\n",
        "        print(\"length of tokens:\", len(self.tokens))\n",
        "        # TODO: Any preprocessing on the data to get it to the right shape.\n",
        "        if len(self.tokens) % self.batch_size != 0:\n",
        "          new_len = (int) (self.batch_size * (len(self.tokens) / self.batch_size))\n",
        "          self.tokens = self.tokens[0:new_len]\n",
        "\n",
        "        self.len_subdivision = (int) (len(self.tokens) / self.batch_size)\n",
        "        self.num_unique_seq = self.batch_size * math.ceil((float) (self.len_subdivision-1) / self.sequence_length)\n",
        "\n",
        "        self.dataset_sorted = []\n",
        "        for i in range(0, (int) (self.num_unique_seq / self.batch_size)):  # 1-3\n",
        "          for batch in range(self.batch_size): # 0-1\n",
        "            array = []\n",
        "            for seq in range(self.sequence_length + 1): # 0-4\n",
        "              index = batch * self.len_subdivision + i * self.sequence_length + seq\n",
        "              if index < (batch + 1) * self.len_subdivision:\n",
        "                array.append(self.tokens[index])\n",
        "            self.dataset_sorted.append(array)\n",
        "\n",
        "    def __len__(self):\n",
        "        # TODO return the number of unique sequences you have, not the number of characters.\n",
        "        return self.num_unique_seq\n",
        "\n",
        "    def __getitem__(self, idx):\n",
        "        # Return the data and label for a character sequence as described above.\n",
        "        # The data and labels should be torch long tensors.\n",
        "        # You should return a single entry for the batch using the idx to decide which chunk you are \n",
        "        # in and how far down in the chunk you are.\n",
        "        \n",
        "        # TODO\n",
        "        data = self.dataset_sorted[idx]\n",
        "        return torch.LongTensor(data[:-1]), torch.LongTensor(data[1:])\n",
        "\n",
        "    def vocab_size(self):\n",
        "        return len(self.vocab)"
      ],
      "execution_count": null,
      "outputs": []
    },
    {
      "cell_type": "code",
      "metadata": {
        "id": "Pc5JR2iYuxTm",
        "outputId": "2d85c53a-7d8d-4994-de23-ab7c400b812c",
        "colab": {
          "base_uri": "https://localhost:8080/"
        }
      },
      "source": [
        "data_train = HarryPotterDataset(DATA_PATH + 'harry_potter_chars_train.pkl', 4, 2)\n",
        "\n",
        "print(data_train.__len__())\n",
        "print(data_train.__getitem__(0))\n",
        "print(data_train.__getitem__(1))\n",
        "print(data_train.__getitem__(2))\n",
        "print(data_train.__getitem__(3))\n",
        "print(data_train.__getitem__(4))\n",
        "print(data_train.__getitem__(5))\n",
        "print(data_train.__getitem__(6))\n",
        "print(data_train.__getitem__(7))"
      ],
      "execution_count": null,
      "outputs": [
        {
          "output_type": "stream",
          "text": [
            "length of tokens: 5000121\n",
            "1250030\n",
            "(tensor([0, 1, 2, 2]), tensor([1, 2, 2, 3]))\n",
            "(tensor([13, 14, 15,  4]), tensor([14, 15,  4, 15]))\n",
            "(tensor([3, 4, 5, 6]), tensor([4, 5, 6, 7]))\n",
            "(tensor([15, 11,  1, 10]), tensor([11,  1, 10,  6]))\n",
            "(tensor([7, 7, 8, 2]), tensor([7, 8, 2, 4]))\n",
            "(tensor([ 6, 40,  3, 34]), tensor([40,  3, 34,  4]))\n",
            "(tensor([ 4,  1,  9, 10]), tensor([ 1,  9, 10,  4]))\n",
            "(tensor([ 4, 15,  7, 32]), tensor([15,  7, 32, 37]))\n"
          ],
          "name": "stdout"
        }
      ]
    },
    {
      "cell_type": "markdown",
      "metadata": {
        "id": "8kYKDZoj2jCV"
      },
      "source": [
        "# Part 4: Defining the Network\n",
        "This time we will provide a network that should already get pretty good performance. You will still need to write the forward pass and inference functions. You may also choose to modify the network to try and get better performance.\n",
        "\n",
        "__BE CAREFUL:__ We have specified that the data will be fed in as batch_first. Look at the documentation if you are confused about the implications of this as well as how to call it for the forward pass. https://pytorch.org/docs/stable/nn.html#torch.nn.GRU\n",
        "    \n"
      ]
    },
    {
      "cell_type": "code",
      "metadata": {
        "id": "mO21UXLj2ixn"
      },
      "source": [
        "TEMPERATURE = 0.5\n",
        "\n",
        "class HarryPotterNet(nn.Module):\n",
        "    def __init__(self, vocab_size, feature_size):\n",
        "        super(HarryPotterNet, self).__init__()\n",
        "        self.vocab_size = vocab_size\n",
        "        self.feature_size = feature_size\n",
        "        self.encoder = nn.Embedding(self.vocab_size, self.feature_size)\n",
        "\n",
        "        self.gru = nn.GRU(self.feature_size, self.feature_size, batch_first=True)\n",
        "        self.decoder = nn.Linear(self.feature_size, self.vocab_size)\n",
        "\n",
        "        # This shares the encoder and decoder weights as described in lecture.\n",
        "        self.decoder.weight = self.encoder.weight\n",
        "        self.decoder.bias.data.zero_()\n",
        "        \n",
        "        self.best_accuracy = -1\n",
        "    \n",
        "    def forward(self, x, hidden_state=None):\n",
        "        # we're pretty sure this is sus\n",
        "        batch_size = x.shape[0]\n",
        "        sequence_length = x.shape[1]\n",
        "  \n",
        "        # TODO finish defining the forward pass.\n",
        "        # You should return the output from the decoder as well as the hidden state given by the gru.\n",
        "        x = self.encoder(x)\n",
        "        x, hidden_state = self.gru(x, hidden_state)\n",
        "        x = self.decoder(x)\n",
        "        return x, hidden_state\n",
        "\n",
        "    # This defines the function that gives a probability distribution and implements the temperature computation.\n",
        "    def inference(self, x, hidden_state=None, temperature=1):\n",
        "        x = x.view(-1, 1)\n",
        "        x, hidden_state = self.forward(x, hidden_state)\n",
        "        x = x.view(1, -1)\n",
        "        x = x / max(temperature, 1e-20)\n",
        "        x = F.softmax(x, dim=1)\n",
        "        return x, hidden_state\n",
        "\n",
        "    # Predefined loss function\n",
        "    def loss(self, prediction, label, reduction='mean'):\n",
        "        loss_val = F.cross_entropy(prediction.view(-1, self.vocab_size), label.view(-1), reduction=reduction)\n",
        "        return loss_val\n",
        "\n",
        "    # Saves the current model\n",
        "    def save_model(self, file_path, num_to_keep=1):\n",
        "        pt_util.save(self, file_path, num_to_keep)\n",
        "\n",
        "    # Saves the best model so far\n",
        "    def save_best_model(self, accuracy, file_path, num_to_keep=1):\n",
        "        if accuracy > self.best_accuracy:\n",
        "            self.save_model(file_path, num_to_keep)\n",
        "            self.best_accuracy = accuracy\n",
        "\n",
        "    def load_model(self, file_path):\n",
        "        pt_util.restore(self, file_path)\n",
        "\n",
        "    def load_last_model(self, dir_path):\n",
        "        return pt_util.restore_latest(self, dir_path)"
      ],
      "execution_count": null,
      "outputs": []
    },
    {
      "cell_type": "markdown",
      "metadata": {
        "id": "iEQZIoB0jY5h"
      },
      "source": [
        "#Part 5: Character Generation\n",
        "\n",
        "In class we discussed three algorithms for creating sequences.\n",
        "1. Max: Choose the most likely value\n",
        "2. Sample: Sample from the distribution output by the network.\n",
        "3. Beam Search: Sample from the distribution and use the Beam Search algorithm.\n",
        "\n",
        "The beam search algorithm is as follows:\n",
        "```\n",
        "1. Initialize the beam list with the single existing empty beam\n",
        "2. Repeat for the sequence length:\n",
        "    1. For each beam in the beam list:\n",
        "        1. Compute the next distribution over the output space for that state\n",
        "        2. Sample from the distribution with replacement\n",
        "        3. For each sample:\n",
        "            1. Compute its score\n",
        "            2. Record its hidden state and chosen value\n",
        "        4. Add all the samples to the new beam list      \n",
        "     2. Rank the new beam list\n",
        "     3. Throw out all but the top N beams\n",
        " 3. Return the top beam's chosen values.\n",
        "```\n",
        "\n",
        "\n",
        "Hints:\n",
        "- np.random.choice and torch.multinomial will both help with the sampling as they can take in a weighted probability distribution and sample from that distribution.\n",
        "- For beam search you will need to keep a running score of the likelihood of each sequence. If you multiply the likelihoods, you will encounter float underflow. Instead, you should add the log likelihoods.\n",
        "- For beam search, you will need to keep track of multiple hidden states related to which branch you are currently expanding.\n",
        "- For beam search, you should search over the beam, but only return the top result in the end.\n",
        "- It may be useful to do the training part before the character generation part so you have some model to test.\n",
        "- Feel free to play around with the `BEAM_WIDTH`.\n"
      ]
    },
    {
      "cell_type": "code",
      "metadata": {
        "id": "9XTxy4eq3UYR"
      },
      "source": [
        "TEMPERATURE = 0.1\n",
        "BEAM_WIDTH = 10\n",
        "\n",
        "import copy\n",
        "\n",
        "def max_sampling_strategy(sequence_length, model, output, hidden, vocab):\n",
        "    outputs = []\n",
        "    for ii in range(sequence_length):\n",
        "      max_val = torch.argmax(output)\n",
        "      outputs.append(max_val)\n",
        "      output, hidden = model.inference(max_val, hidden)\n",
        "    return outputs\n",
        "    \n",
        "def sample_sampling_strategy(sequence_length, model, output, hidden, vocab):\n",
        "    outputs = []\n",
        "    for ii in range(sequence_length):\n",
        "      max_val = np.random.choice(output.shape[1], 1, p=output.flatten().cpu().numpy())\n",
        "      outputs.append(max_val[0])\n",
        "      output, hidden = model.inference(torch.tensor(max_val[0]).to(device), hidden)\n",
        "    return outputs\n",
        "\n",
        "def beam_sampling_strategy(sequence_length, beam_width, model, output, hidden, vocab):\n",
        "    outputs = []\n",
        "    beams = [([], output, hidden, 0)]\n",
        "    for ii in range(sequence_length):\n",
        "      new_beams = []\n",
        "      for beam in beams:\n",
        "        # first time\n",
        "        if len(beam[0]) == 0:\n",
        "          max_val = np.random.choice(output.shape[1], 1, p=output.flatten().cpu().numpy())\n",
        "          output, hidden = model.inference(torch.tensor(max_val[0]).to(device), hidden)\n",
        "        # every other time\n",
        "        else:\n",
        "          output, hidden = model.inference(torch.tensor(beam[0][-1]).to(device), beam[2])\n",
        "        for n in range(beam_width):\n",
        "          new_beam = list(copy.deepcopy(beam)) # maybe check l8r\n",
        "          max_val = np.random.choice(output.shape[1], 1, p=output.flatten().cpu().numpy())\n",
        "          new_beam[0].append(max_val[0])\n",
        "          new_beam[1] = output\n",
        "          new_beam[2] = hidden\n",
        "          new_beam[3] = np.log(output.flatten().cpu().numpy()[max_val[0]])\n",
        "          new_beams.append(tuple(new_beam))\n",
        "      sorted(new_beams, key=lambda x: x[3])\n",
        "      beams = new_beams[:beam_width]\n",
        "\n",
        "    outputs = beams[0][0]\n",
        "    return outputs\n",
        "\n",
        "\n",
        "def generate_language(model, device, seed_words, sequence_length, vocab, sampling_strategy='max', beam_width=BEAM_WIDTH):\n",
        "    model.eval()\n",
        "\n",
        "    with torch.no_grad():\n",
        "        seed_words_arr = vocab.words_to_array(seed_words)\n",
        "\n",
        "        # Computes the initial hidden state from the prompt (seed words).\n",
        "        hidden = None\n",
        "        for ind in seed_words_arr:\n",
        "            data = ind.to(device)\n",
        "            output, hidden = model.inference(data, hidden)\n",
        "        \n",
        "        if sampling_strategy == 'max':\n",
        "            outputs = max_sampling_strategy(sequence_length, model, output, hidden, vocab)\n",
        "\n",
        "        elif sampling_strategy == 'sample':\n",
        "            outputs = sample_sampling_strategy(sequence_length, model, output, hidden, vocab)\n",
        "\n",
        "        elif sampling_strategy == 'beam':\n",
        "            outputs = beam_sampling_strategy(sequence_length, beam_width, model, output, hidden, vocab)\n",
        "\n",
        "\n",
        "        return vocab.array_to_words(seed_words_arr.tolist() + outputs)"
      ],
      "execution_count": null,
      "outputs": []
    },
    {
      "cell_type": "markdown",
      "metadata": {
        "id": "Havsk_RJi_i5"
      },
      "source": [
        "# Part 6: Training\n",
        "Again, we are providing training code for you. Have a look at the train function though as it implements the exact forward approximate backward computation, which may be of interest to you. You will still need to add the perplexity computation (read more in part 9 about how to do this)."
      ]
    },
    {
      "cell_type": "code",
      "metadata": {
        "id": "L0Wq8hRy0UEX"
      },
      "source": [
        "import tqdm\n",
        "def repackage_hidden(h):\n",
        "    \"\"\"Wraps hidden states in new Tensors, to detach them from their history.\"\"\"\n",
        "    if isinstance(h, torch.Tensor):\n",
        "        return h.detach()\n",
        "    else:\n",
        "        return tuple(repackage_hidden(v) for v in h)\n",
        "\n",
        "def train(model, device, optimizer, train_loader, lr, epoch, log_interval):\n",
        "    model.train()\n",
        "    losses = []\n",
        "    hidden = None\n",
        "    for batch_idx, (data, label) in enumerate(tqdm.tqdm(train_loader)):\n",
        "        data, label = data.to(device), label.to(device)\n",
        "        # Separates the hidden state across batches. \n",
        "        # Otherwise the backward would try to go all the way to the beginning every time.\n",
        "        if hidden is not None:\n",
        "            hidden = repackage_hidden(hidden)\n",
        "        optimizer.zero_grad()\n",
        "        output, hidden = model(data)\n",
        "        pred = output.max(-1)[1]\n",
        "        loss = model.loss(output, label)\n",
        "        losses.append(loss.item())\n",
        "        loss.backward()\n",
        "        optimizer.step()\n",
        "        if batch_idx % log_interval == 0:\n",
        "            print('Train Epoch: {} [{}/{} ({:.0f}%)]\\tLoss: {:.6f}'.format(\n",
        "                epoch, batch_idx * len(data), len(train_loader.dataset),\n",
        "                100. * batch_idx / len(train_loader), loss.item()))\n",
        "    print(\"\\nperplexity: \", np.exp(np.mean(losses)))\n",
        "    perplexity = np.exp(np.mean(losses))\n",
        "    return np.mean(losses), perplexity\n",
        "\n",
        "\n",
        "def test(model, device, test_loader):\n",
        "    model.eval()\n",
        "    test_loss = 0\n",
        "    correct = 0\n",
        "\n",
        "    with torch.no_grad():\n",
        "        hidden = None\n",
        "        for batch_idx, (data, label) in enumerate(test_loader):\n",
        "            data, label = data.to(device), label.to(device)\n",
        "            output, hidden = model(data, hidden)\n",
        "            test_loss += model.loss(output, label, reduction='mean').item()\n",
        "            pred = output.max(-1)[1]\n",
        "            correct_mask = pred.eq(label.view_as(pred))\n",
        "            num_correct = correct_mask.sum().item()\n",
        "            correct += num_correct\n",
        "            # Comment this out to avoid printing test results\n",
        "            if batch_idx % 10 == 0:\n",
        "                print('Input\\t%s\\nGT\\t%s\\npred\\t%s\\n\\n' % (\n",
        "                    test_loader.dataset.vocab.array_to_words(data[0]),\n",
        "                    test_loader.dataset.vocab.array_to_words(label[0]),\n",
        "                    test_loader.dataset.vocab.array_to_words(pred[0])))\n",
        "\n",
        "    test_loss /= len(test_loader)\n",
        "    test_accuracy = 100. * correct / (len(test_loader.dataset) * test_loader.dataset.sequence_length)\n",
        "    perplexity = np.exp(np.mean(test_loss))\n",
        "\n",
        "    print('\\nTest set: Average loss: {:.4f}, Accuracy: {}/{} ({:.0f}%)\\n'.format(\n",
        "        test_loss, correct, len(test_loader.dataset) * test_loader.dataset.sequence_length,\n",
        "        100. * correct / (len(test_loader.dataset) * test_loader.dataset.sequence_length)))\n",
        "    return test_loss, test_accuracy, perplexity"
      ],
      "execution_count": null,
      "outputs": []
    },
    {
      "cell_type": "code",
      "metadata": {
        "id": "66T-Ylkg0fn1",
        "outputId": "e9a18946-f091-4536-9a07-6eae2472ecb0",
        "colab": {
          "base_uri": "https://localhost:8080/",
          "height": 1000
        }
      },
      "source": [
        "def main():\n",
        "    SEQUENCE_LENGTH = 100\n",
        "    BATCH_SIZE = 256\n",
        "    FEATURE_SIZE = 512\n",
        "    TEST_BATCH_SIZE = 256\n",
        "    EPOCHS = 20\n",
        "    LEARNING_RATE = 0.005\n",
        "    WEIGHT_DECAY = 0.0005\n",
        "    USE_CUDA = True\n",
        "    PRINT_INTERVAL = 10\n",
        "    LOG_PATH = DATA_PATH + '/logs/log41.pkl'\n",
        "\n",
        "\n",
        "    data_train = HarryPotterDataset(DATA_PATH + 'harry_potter_chars_train.pkl', SEQUENCE_LENGTH, BATCH_SIZE)\n",
        "    data_test = HarryPotterDataset(DATA_PATH + 'harry_potter_chars_test.pkl', SEQUENCE_LENGTH, TEST_BATCH_SIZE)\n",
        "\n",
        "    vocab = data_train.vocab\n",
        "\n",
        "    use_cuda = USE_CUDA and torch.cuda.is_available()\n",
        "\n",
        "    device = torch.device(\"cuda\" if use_cuda else \"cpu\")\n",
        "    print('Using device', device)\n",
        "    import multiprocessing\n",
        "    num_workers = multiprocessing.cpu_count()\n",
        "    print('num workers:', num_workers)\n",
        "\n",
        "    kwargs = {'num_workers': num_workers,\n",
        "              'pin_memory': True} if use_cuda else {}\n",
        "\n",
        "    print(\"checking data_train:\", len(data_train))\n",
        "    print(\"checking data_test:\", len(data_test))\n",
        "\n",
        "    train_loader = torch.utils.data.DataLoader(data_train, batch_size=BATCH_SIZE,\n",
        "                                               shuffle=False, **kwargs)\n",
        "    test_loader = torch.utils.data.DataLoader(data_test, batch_size=TEST_BATCH_SIZE,\n",
        "                                              shuffle=False, **kwargs)\n",
        "    \n",
        "    print(\"checking train_loader:\", len(train_loader))\n",
        "    print(\"checking test_loader:\", len(test_loader))\n",
        "\n",
        "    model = HarryPotterNet(data_train.vocab_size(), FEATURE_SIZE).to(device)\n",
        "\n",
        "    print(\"after model\")\n",
        "\n",
        "    # Adam is an optimizer like SGD but a bit fancier. It tends to work faster and better than SGD.\n",
        "    # We will talk more about different optimization methods in class.\n",
        "    optimizer = optim.Adam(model.parameters(), lr=LEARNING_RATE, weight_decay=WEIGHT_DECAY)\n",
        "    start_epoch = model.load_last_model(DATA_PATH + 'checkpoints')\n",
        "\n",
        "    start_epoch = 0\n",
        "\n",
        "    print(\"before train\")\n",
        "\n",
        "    train_losses, test_losses, test_accuracies = pt_util.read_log(LOG_PATH, ([], [], []))\n",
        "    train_perplexities = []\n",
        "    test_perplexities = []\n",
        "\n",
        "    print(\"before test\")\n",
        "    test_loss, test_accuracy, test_perplexity = test(model, device, test_loader)\n",
        "\n",
        "    test_losses.append((start_epoch, test_loss))\n",
        "    test_accuracies.append((start_epoch, test_accuracy))\n",
        "\n",
        "    try:\n",
        "        for epoch in range(start_epoch, EPOCHS + 1):\n",
        "            lr = LEARNING_RATE * np.power(0.25, (int(epoch / 6)))\n",
        "            train_loss, train_perplexity = train(model, device, optimizer, train_loader, lr, epoch, PRINT_INTERVAL)\n",
        "            test_loss, test_accuracy, test_perplexity = test(model, device, test_loader)\n",
        "            train_losses.append((epoch, train_loss))\n",
        "            test_losses.append((epoch, test_loss))\n",
        "            test_accuracies.append((epoch, test_accuracy))\n",
        "            train_perplexities.append((epoch, train_perplexity))\n",
        "            test_perplexities.append((epoch, test_perplexity))\n",
        "            pt_util.write_log(LOG_PATH, (train_losses, test_losses, test_accuracies))\n",
        "            model.save_best_model(test_accuracy, DATA_PATH + 'checkpoints/%03d.pt' % epoch)\n",
        "            seed_words = 'Harry Potter, Voldemort, and Dumbledore walk into a bar. '\n",
        "            generated_sentence = generate_language(model, device, seed_words, 200, vocab, 'max')\n",
        "            print('generated max\\t\\t', generated_sentence)\n",
        "            for ii in range(10):\n",
        "                generated_sentence = generate_language(model, device, seed_words, 200, vocab, 'sample')\n",
        "                print('generated sample\\t', generated_sentence)\n",
        "            generated_sentence = generate_language(model, device, seed_words, 200, vocab, 'beam')\n",
        "            print('generated beam\\t\\t', generated_sentence)\n",
        "            print('')\n",
        "\n",
        "    except KeyboardInterrupt as ke:\n",
        "        print('Interrupted')\n",
        "    except:\n",
        "        import traceback\n",
        "        traceback.print_exc()\n",
        "    finally:\n",
        "        print('Saving final model')\n",
        "        model.save_model(DATA_PATH + 'checkpoints/%03d.pt' % epoch, 0)\n",
        "        ep, val = zip(*train_losses)\n",
        "        pt_util.plot(ep, val, 'Train loss', 'Epoch', 'Error')\n",
        "        ep, val = zip(*test_losses)\n",
        "        pt_util.plot(ep, val, 'Test loss', 'Epoch', 'Error')\n",
        "        ep, val = zip(*test_accuracies)\n",
        "        pt_util.plot(ep, val, 'Test accuracy', 'Epoch', 'Error')\n",
        "        ep, val = zip(*train_perplexities)\n",
        "        pt_util.plot(ep, val, 'Train Perplexity', 'Epoch', 'Error')\n",
        "        ep, val = zip(*test_perplexities)\n",
        "        pt_util.plot(ep, val, 'Test Perplexity', 'Epoch', 'Error')\n",
        "        return model, vocab, device\n",
        "\n",
        "final_model, vocab, device = main()"
      ],
      "execution_count": null,
      "outputs": [
        {
          "output_type": "stream",
          "text": [
            "length of tokens: 5000121\n",
            "length of tokens: 1250031\n",
            "Using device cuda\n",
            "num workers: 2\n",
            "checking data_train: 50176\n",
            "checking data_test: 12544\n",
            "checking train_loader: 196\n",
            "checking test_loader: 49\n",
            "after model\n",
            "before train\n",
            "before test\n",
            "Input\tonly way left to get water, because Voldemort had planned it so ... He flung himself over to the edg\n",
            "GT\tnly way left to get water, because Voldemort had planned it so ... He flung himself over to the edge\n",
            "pred\t^)){^S0t^XJJY^0^^^J0^SS00s`3t hy0SyISw)_JJ^)Y^^0X^^I0{99y^eP^y^^33jj^^^jX^kSS^e^-yIJ^^JJsS&^^0^^^^^J\n",
            "\n",
            "\n",
            "Input\ts that had his arm. It released him, falling backward into the water with a splash; he scrambled to \n",
            "GT\t that had his arm. It released him, falling backward into the water with a splash; he scrambled to h\n",
            "pred\tSS&^000^0y^^}-IyXy33^)^^s)J yyyI^e--3JPP)PkPS{PMskMyXXPk&^^0^^^Sy00sSSSk^^0^ykI0y}-e^^^SJXyy-)Jy^0^^\n",
            "\n",
            "\n",
            "Input\tath, and his feet left the ground as they lifted him and began to carry him, slowly and surely, back\n",
            "GT\tth, and his feet left the ground as they lifted him and began to carry him, slowly and surely, back \n",
            "pred\ty0m`3 {{^^}-IJJJY`IJJY^0^^^^S^^k^^0yI0^^Y^Ie(Ps^^^e-^0{{^{)^0{I0^^^0XXYX^}}-3yI)S)t^0{{^{SSswYJ`t Ms\n",
            "\n",
            "\n",
            "Input\t . . . Dumbledore scooped the locket from the bottom of the stone basin and stowed it inside his rob\n",
            "GT\t. . . Dumbledore scooped the locket from the bottom of the stone basin and stowed it inside his robe\n",
            "pred\tI3^j^j^j^^-tJ^_)s^yJw_kJJ^0^^^I)wss0^pS_^^0^^^{)000^^^J^0^^^y&0)w^{ yek^0{{^{&)ks^^e&^ek{e-J^^e-IS){\n",
            "\n",
            "\n",
            "Input\t\"sir, I forgot -- about fire -- they were coming at me and I panicked --\" \"Quite understandable,\" mu\n",
            "GT\tsir, I forgot -- about fire -- they were coming at me and I panicked --\" \"Quite understandable,\" mur\n",
            "pred\t3}ee`3{^J^^5_0^0t^0t_^0^^PPs^`t`0^^Y^S^Ss^h^^ekPS000^y^y{y^{^^ kkkps^^ttt^8t^eks^^S^JSyY0kyy{)Jw$3^^\n",
            "\n",
            "\n"
          ],
          "name": "stdout"
        },
        {
          "output_type": "stream",
          "text": [
            "\r  0%|          | 0/196 [00:00<?, ?it/s]"
          ],
          "name": "stderr"
        },
        {
          "output_type": "stream",
          "text": [
            "\n",
            "Test set: Average loss: 4.4905, Accuracy: 7090/1254400 (1%)\n",
            "\n"
          ],
          "name": "stdout"
        },
        {
          "output_type": "stream",
          "text": [
            "\r  1%|          | 1/196 [00:00<00:35,  5.47it/s]"
          ],
          "name": "stderr"
        },
        {
          "output_type": "stream",
          "text": [
            "Train Epoch: 0 [0/50176 (0%)]\tLoss: 4.490549\n"
          ],
          "name": "stdout"
        },
        {
          "output_type": "stream",
          "text": [
            "  7%|▋         | 13/196 [00:01<00:17, 10.19it/s]"
          ],
          "name": "stderr"
        },
        {
          "output_type": "stream",
          "text": [
            "Train Epoch: 0 [2560/50176 (5%)]\tLoss: 2.704665\n"
          ],
          "name": "stdout"
        },
        {
          "output_type": "stream",
          "text": [
            " 12%|█▏        | 23/196 [00:02<00:15, 11.15it/s]"
          ],
          "name": "stderr"
        },
        {
          "output_type": "stream",
          "text": [
            "Train Epoch: 0 [5120/50176 (10%)]\tLoss: 2.365529\n"
          ],
          "name": "stdout"
        },
        {
          "output_type": "stream",
          "text": [
            " 17%|█▋        | 33/196 [00:02<00:14, 11.35it/s]"
          ],
          "name": "stderr"
        },
        {
          "output_type": "stream",
          "text": [
            "Train Epoch: 0 [7680/50176 (15%)]\tLoss: 2.171095\n"
          ],
          "name": "stdout"
        },
        {
          "output_type": "stream",
          "text": [
            " 22%|██▏       | 43/196 [00:03<00:13, 11.55it/s]"
          ],
          "name": "stderr"
        },
        {
          "output_type": "stream",
          "text": [
            "Train Epoch: 0 [10240/50176 (20%)]\tLoss: 2.037168\n"
          ],
          "name": "stdout"
        },
        {
          "output_type": "stream",
          "text": [
            " 27%|██▋       | 53/196 [00:04<00:12, 11.65it/s]"
          ],
          "name": "stderr"
        },
        {
          "output_type": "stream",
          "text": [
            "Train Epoch: 0 [12800/50176 (26%)]\tLoss: 1.950859\n"
          ],
          "name": "stdout"
        },
        {
          "output_type": "stream",
          "text": [
            " 32%|███▏      | 63/196 [00:05<00:11, 11.52it/s]"
          ],
          "name": "stderr"
        },
        {
          "output_type": "stream",
          "text": [
            "Train Epoch: 0 [15360/50176 (31%)]\tLoss: 1.896191\n"
          ],
          "name": "stdout"
        },
        {
          "output_type": "stream",
          "text": [
            " 37%|███▋      | 73/196 [00:06<00:10, 11.51it/s]"
          ],
          "name": "stderr"
        },
        {
          "output_type": "stream",
          "text": [
            "Train Epoch: 0 [17920/50176 (36%)]\tLoss: 1.838316\n"
          ],
          "name": "stdout"
        },
        {
          "output_type": "stream",
          "text": [
            " 42%|████▏     | 83/196 [00:07<00:09, 11.48it/s]"
          ],
          "name": "stderr"
        },
        {
          "output_type": "stream",
          "text": [
            "Train Epoch: 0 [20480/50176 (41%)]\tLoss: 1.762518\n"
          ],
          "name": "stdout"
        },
        {
          "output_type": "stream",
          "text": [
            " 47%|████▋     | 93/196 [00:08<00:08, 11.52it/s]"
          ],
          "name": "stderr"
        },
        {
          "output_type": "stream",
          "text": [
            "Train Epoch: 0 [23040/50176 (46%)]\tLoss: 1.729658\n"
          ],
          "name": "stdout"
        },
        {
          "output_type": "stream",
          "text": [
            " 53%|█████▎    | 103/196 [00:09<00:08, 11.31it/s]"
          ],
          "name": "stderr"
        },
        {
          "output_type": "stream",
          "text": [
            "Train Epoch: 0 [25600/50176 (51%)]\tLoss: 1.699653\n"
          ],
          "name": "stdout"
        },
        {
          "output_type": "stream",
          "text": [
            " 58%|█████▊    | 113/196 [00:09<00:07, 11.41it/s]"
          ],
          "name": "stderr"
        },
        {
          "output_type": "stream",
          "text": [
            "Train Epoch: 0 [28160/50176 (56%)]\tLoss: 1.719784\n"
          ],
          "name": "stdout"
        },
        {
          "output_type": "stream",
          "text": [
            " 63%|██████▎   | 123/196 [00:10<00:06, 11.49it/s]"
          ],
          "name": "stderr"
        },
        {
          "output_type": "stream",
          "text": [
            "Train Epoch: 0 [30720/50176 (61%)]\tLoss: 1.645976\n"
          ],
          "name": "stdout"
        },
        {
          "output_type": "stream",
          "text": [
            " 68%|██████▊   | 133/196 [00:11<00:05, 11.39it/s]"
          ],
          "name": "stderr"
        },
        {
          "output_type": "stream",
          "text": [
            "Train Epoch: 0 [33280/50176 (66%)]\tLoss: 1.615190\n"
          ],
          "name": "stdout"
        },
        {
          "output_type": "stream",
          "text": [
            " 73%|███████▎  | 143/196 [00:12<00:04, 11.31it/s]"
          ],
          "name": "stderr"
        },
        {
          "output_type": "stream",
          "text": [
            "Train Epoch: 0 [35840/50176 (71%)]\tLoss: 1.610687\n"
          ],
          "name": "stdout"
        },
        {
          "output_type": "stream",
          "text": [
            " 78%|███████▊  | 153/196 [00:13<00:03, 11.23it/s]"
          ],
          "name": "stderr"
        },
        {
          "output_type": "stream",
          "text": [
            "Train Epoch: 0 [38400/50176 (77%)]\tLoss: 1.596577\n"
          ],
          "name": "stdout"
        },
        {
          "output_type": "stream",
          "text": [
            " 83%|████████▎ | 163/196 [00:14<00:02, 11.20it/s]"
          ],
          "name": "stderr"
        },
        {
          "output_type": "stream",
          "text": [
            "Train Epoch: 0 [40960/50176 (82%)]\tLoss: 1.596588\n"
          ],
          "name": "stdout"
        },
        {
          "output_type": "stream",
          "text": [
            " 88%|████████▊ | 173/196 [00:15<00:02, 11.36it/s]"
          ],
          "name": "stderr"
        },
        {
          "output_type": "stream",
          "text": [
            "Train Epoch: 0 [43520/50176 (87%)]\tLoss: 1.562557\n"
          ],
          "name": "stdout"
        },
        {
          "output_type": "stream",
          "text": [
            " 93%|█████████▎| 183/196 [00:16<00:01, 11.25it/s]"
          ],
          "name": "stderr"
        },
        {
          "output_type": "stream",
          "text": [
            "Train Epoch: 0 [46080/50176 (92%)]\tLoss: 1.559550\n"
          ],
          "name": "stdout"
        },
        {
          "output_type": "stream",
          "text": [
            " 98%|█████████▊| 193/196 [00:17<00:00, 11.32it/s]"
          ],
          "name": "stderr"
        },
        {
          "output_type": "stream",
          "text": [
            "Train Epoch: 0 [48640/50176 (97%)]\tLoss: 1.592345\n"
          ],
          "name": "stdout"
        },
        {
          "output_type": "stream",
          "text": [
            "100%|██████████| 196/196 [00:17<00:00, 11.34it/s]"
          ],
          "name": "stderr"
        },
        {
          "output_type": "stream",
          "text": [
            "\n",
            "perplexity:  6.9133351198336035\n"
          ],
          "name": "stdout"
        },
        {
          "output_type": "stream",
          "text": [
            "\n"
          ],
          "name": "stderr"
        },
        {
          "output_type": "stream",
          "text": [
            "Input\tonly way left to get water, because Voldemort had planned it so ... He flung himself over to the edg\n",
            "GT\tnly way left to get water, because Voldemort had planned it so ... He flung himself over to the edge\n",
            "pred\tney was aitt th het tascri aucause teldemort wad tuacced tn wamt . ae dootg tim elf tuer th she dnge\n",
            "\n",
            "\n",
            "Input\ts that had his arm. It released him, falling backward into the water with a splash; he scrambled to \n",
            "GT\t that had his arm. It released him, falling backward into the water with a splash; he scrambled to h\n",
            "pred\t whet hed tam fnm  \"  wealated tim  hocling aeck ardstnto the salcrntath h steant  te saraneled to h\n",
            "\n",
            "\n",
            "Input\tath, and his feet left the ground as they lifted him and began to carry him, slowly and surely, back\n",
            "GT\tth, and his feet left the ground as they lifted him and began to carry him, slowly and surely, back \n",
            "pred\tkhe and tem fiet aitt the sround tn the  wikt d tim and sefan to honti aam  haiwly and surp i  auck \n",
            "\n",
            "\n",
            "Input\t . . . Dumbledore scooped the locket from the bottom of the stone basin and stowed it inside his rob\n",
            "GT\t. . . Dumbledore scooped the locket from the bottom of the stone basin and stowed it inside his robe\n",
            "pred\t\" . . .umbledore warrded the diok d aoom the sootenetf the scane wecsngtnd suanad tn wntide tim fooe\n",
            "\n",
            "\n",
            "Input\t\"sir, I forgot -- about fire -- they were coming at me and I panicked --\" \"Quite understandable,\" mu\n",
            "GT\tsir, I forgot -- about fire -- they were coming at me and I panicked --\" \"Quite understandable,\" mur\n",
            "pred\tIade a diuket t- hnout tons a- hhe  ware noueng tn te tnd s dunine d t-  \"Iuid  tnderstand ile   sas\n",
            "\n",
            "\n",
            "\n",
            "Test set: Average loss: 1.5604, Accuracy: 674954/1254400 (54%)\n",
            "\n",
            "Saved /content/checkpoints/000.pt\n",
            "\n",
            "generated max\t\t Harry Potter, Voldemort, and Dumbledore walk into a bar. \"I don't know when he was standing to him and surprised the door was standing to him and surprised the standing to him and surprised the standing to him and surprised the standing to him and surprised\n",
            "generated sample\t Harry Potter, Voldemort, and Dumbledore walk into a bar. \"~enk the bettene him, he arence but flicks and inying to shook purnteded anything tight the could turning like.  \"Hand did no everyfley smude firs-direjent bit and it were sideaded unfore word comate\n",
            "generated sample\t Harry Potter, Voldemort, and Dumbledore walk into a bar. Who remest kept againing whereneg, that.... I do not but ashed looking feckard voice suppossed him gast the smy before abby trumbedhing in large he'se but off hum.\"  \"What Snape, much me, They agause \n",
            "generated sample\t Harry Potter, Voldemort, and Dumbledore walk into a bar. Nometure doors doors offiling the zitten them. \"I don't know, imposshing becond vanic!\" Madam Harry, and High ough this lain and werled firthmerned cloked the wands and scarround apportessed to Hagrid\n",
            "generated sample\t Harry Potter, Voldemort, and Dumbledore walk into a bar. Snape couldn't the down them and ghost and his fungerest by inning envition off Weeling wonside Picked he was definvoring which well. Harry and teacher the furrelly in,\" said Madame time scrizend-lest\n",
            "generated sample\t Harry Potter, Voldemort, and Dumbledore walk into a bar. What memore time he said in for innlite handsoparing out of Nevils with paintly. \"yeah, but hishered now poicing to Bether's wand turned to his spect down vice prope shart, didn't sure purcents!! It t\n",
            "generated sample\t Harry Potter, Voldemort, and Dumbledore walk into a bar. Barning another warding intle. Heaking suggs ibacturise the born. Neazinsweriberound contridhtely was tungule that try and Dumbledownstapting Pirmustrabe and of going and schollent sown to shorthe Ext\n",
            "generated sample\t Harry Potter, Voldemort, and Dumbledore walk into a bar. \"Thands, as then?\" Mudley from Snape throunk wanting the Cupogle walljing. Lod you, lying wizard his voice apprincesson Deach you, well, thember how tomany. He wanting mentoice dunfioutenttant it pock\n",
            "generated sample\t Harry Potter, Voldemort, and Dumbledore walk into a bar. Couldering spotters, he askinumed his fact his head here unglessons into the first once, purcone floouting out' Mcanagro-\" \" Yoo?\" \"Just your pounting adrity Tragnacciush Blanch, Infice here to the lo\n",
            "generated sample\t Harry Potter, Voldemort, and Dumbledore walk into a bar. \"Ahazking scame before!\" Luffling afted woldedble surpried partmain, him mus, foorsed thimselve back work?\" Harry founterning to his been brounded can the cilving firs than it's Verpo. \"You sitQing br\n",
            "generated sample\t Harry Potter, Voldemort, and Dumbledore walk into a bar. Therew were grest pounning tensuardistand Madime and aid lernond never now was hand glinteded attenternone? Harry said igning at Them some back and the Dumpate comaraned on the might, whas Silerying S\n"
          ],
          "name": "stdout"
        },
        {
          "output_type": "stream",
          "text": [
            "\r  0%|          | 0/196 [00:00<?, ?it/s]"
          ],
          "name": "stderr"
        },
        {
          "output_type": "stream",
          "text": [
            "generated beam\t\t Harry Potter, Voldemort, and Dumbledore walk into a bar. ingle walking up into his what I distrden and doing Snape. \"Go ancuidite Ministuniccy Madmagan't seemed to housed. \"Verent were't like dismineding; he cannus Mab fight it....\"Cmunger Volday?\" \"I don'.\n",
            "\n"
          ],
          "name": "stdout"
        },
        {
          "output_type": "stream",
          "text": [
            "  2%|▏         | 3/196 [00:00<00:38,  5.06it/s]"
          ],
          "name": "stderr"
        },
        {
          "output_type": "stream",
          "text": [
            "Train Epoch: 1 [0/50176 (0%)]\tLoss: 1.562594\n"
          ],
          "name": "stdout"
        },
        {
          "output_type": "stream",
          "text": [
            "  7%|▋         | 13/196 [00:01<00:19,  9.35it/s]"
          ],
          "name": "stderr"
        },
        {
          "output_type": "stream",
          "text": [
            "Train Epoch: 1 [2560/50176 (5%)]\tLoss: 1.511065\n"
          ],
          "name": "stdout"
        },
        {
          "output_type": "stream",
          "text": [
            " 12%|█▏        | 23/196 [00:02<00:15, 10.86it/s]"
          ],
          "name": "stderr"
        },
        {
          "output_type": "stream",
          "text": [
            "Train Epoch: 1 [5120/50176 (10%)]\tLoss: 1.556599\n"
          ],
          "name": "stdout"
        },
        {
          "output_type": "stream",
          "text": [
            " 17%|█▋        | 33/196 [00:03<00:14, 11.10it/s]"
          ],
          "name": "stderr"
        },
        {
          "output_type": "stream",
          "text": [
            "Train Epoch: 1 [7680/50176 (15%)]\tLoss: 1.540139\n"
          ],
          "name": "stdout"
        },
        {
          "output_type": "stream",
          "text": [
            " 22%|██▏       | 43/196 [00:03<00:13, 11.21it/s]"
          ],
          "name": "stderr"
        },
        {
          "output_type": "stream",
          "text": [
            "Train Epoch: 1 [10240/50176 (20%)]\tLoss: 1.519257\n"
          ],
          "name": "stdout"
        },
        {
          "output_type": "stream",
          "text": [
            " 27%|██▋       | 53/196 [00:04<00:12, 11.18it/s]"
          ],
          "name": "stderr"
        },
        {
          "output_type": "stream",
          "text": [
            "Train Epoch: 1 [12800/50176 (26%)]\tLoss: 1.509253\n"
          ],
          "name": "stdout"
        },
        {
          "output_type": "stream",
          "text": [
            " 32%|███▏      | 63/196 [00:05<00:11, 11.10it/s]"
          ],
          "name": "stderr"
        },
        {
          "output_type": "stream",
          "text": [
            "Train Epoch: 1 [15360/50176 (31%)]\tLoss: 1.516245\n"
          ],
          "name": "stdout"
        },
        {
          "output_type": "stream",
          "text": [
            " 37%|███▋      | 73/196 [00:06<00:10, 11.22it/s]"
          ],
          "name": "stderr"
        },
        {
          "output_type": "stream",
          "text": [
            "Train Epoch: 1 [17920/50176 (36%)]\tLoss: 1.511936\n"
          ],
          "name": "stdout"
        },
        {
          "output_type": "stream",
          "text": [
            " 42%|████▏     | 83/196 [00:07<00:10, 11.09it/s]"
          ],
          "name": "stderr"
        },
        {
          "output_type": "stream",
          "text": [
            "Train Epoch: 1 [20480/50176 (41%)]\tLoss: 1.477010\n"
          ],
          "name": "stdout"
        },
        {
          "output_type": "stream",
          "text": [
            " 47%|████▋     | 93/196 [00:08<00:09, 11.10it/s]"
          ],
          "name": "stderr"
        },
        {
          "output_type": "stream",
          "text": [
            "Train Epoch: 1 [23040/50176 (46%)]\tLoss: 1.495270\n"
          ],
          "name": "stdout"
        },
        {
          "output_type": "stream",
          "text": [
            " 53%|█████▎    | 103/196 [00:09<00:08, 11.18it/s]"
          ],
          "name": "stderr"
        },
        {
          "output_type": "stream",
          "text": [
            "Train Epoch: 1 [25600/50176 (51%)]\tLoss: 1.565437\n"
          ],
          "name": "stdout"
        },
        {
          "output_type": "stream",
          "text": [
            " 58%|█████▊    | 113/196 [00:10<00:07, 11.23it/s]"
          ],
          "name": "stderr"
        },
        {
          "output_type": "stream",
          "text": [
            "Train Epoch: 1 [28160/50176 (56%)]\tLoss: 1.507427\n"
          ],
          "name": "stdout"
        },
        {
          "output_type": "stream",
          "text": [
            " 63%|██████▎   | 123/196 [00:11<00:06, 11.04it/s]"
          ],
          "name": "stderr"
        },
        {
          "output_type": "stream",
          "text": [
            "Train Epoch: 1 [30720/50176 (61%)]\tLoss: 1.481352\n"
          ],
          "name": "stdout"
        },
        {
          "output_type": "stream",
          "text": [
            " 68%|██████▊   | 133/196 [00:12<00:05, 11.02it/s]"
          ],
          "name": "stderr"
        },
        {
          "output_type": "stream",
          "text": [
            "Train Epoch: 1 [33280/50176 (66%)]\tLoss: 1.453499\n"
          ],
          "name": "stdout"
        },
        {
          "output_type": "stream",
          "text": [
            " 73%|███████▎  | 143/196 [00:12<00:04, 11.11it/s]"
          ],
          "name": "stderr"
        },
        {
          "output_type": "stream",
          "text": [
            "Train Epoch: 1 [35840/50176 (71%)]\tLoss: 1.465197\n"
          ],
          "name": "stdout"
        },
        {
          "output_type": "stream",
          "text": [
            " 78%|███████▊  | 153/196 [00:13<00:03, 11.01it/s]"
          ],
          "name": "stderr"
        },
        {
          "output_type": "stream",
          "text": [
            "Train Epoch: 1 [38400/50176 (77%)]\tLoss: 1.501376\n"
          ],
          "name": "stdout"
        },
        {
          "output_type": "stream",
          "text": [
            " 83%|████████▎ | 163/196 [00:14<00:02, 11.01it/s]"
          ],
          "name": "stderr"
        },
        {
          "output_type": "stream",
          "text": [
            "Train Epoch: 1 [40960/50176 (82%)]\tLoss: 1.522334\n"
          ],
          "name": "stdout"
        },
        {
          "output_type": "stream",
          "text": [
            " 88%|████████▊ | 173/196 [00:15<00:02, 11.06it/s]"
          ],
          "name": "stderr"
        },
        {
          "output_type": "stream",
          "text": [
            "Train Epoch: 1 [43520/50176 (87%)]\tLoss: 1.470279\n"
          ],
          "name": "stdout"
        },
        {
          "output_type": "stream",
          "text": [
            " 93%|█████████▎| 183/196 [00:16<00:01, 10.92it/s]"
          ],
          "name": "stderr"
        },
        {
          "output_type": "stream",
          "text": [
            "Train Epoch: 1 [46080/50176 (92%)]\tLoss: 1.471609\n"
          ],
          "name": "stdout"
        },
        {
          "output_type": "stream",
          "text": [
            " 98%|█████████▊| 193/196 [00:17<00:00, 10.98it/s]"
          ],
          "name": "stderr"
        },
        {
          "output_type": "stream",
          "text": [
            "Train Epoch: 1 [48640/50176 (97%)]\tLoss: 1.473748\n"
          ],
          "name": "stdout"
        },
        {
          "output_type": "stream",
          "text": [
            "100%|██████████| 196/196 [00:17<00:00, 11.02it/s]"
          ],
          "name": "stderr"
        },
        {
          "output_type": "stream",
          "text": [
            "\n",
            "perplexity:  4.468443960450427\n"
          ],
          "name": "stdout"
        },
        {
          "output_type": "stream",
          "text": [
            "\n"
          ],
          "name": "stderr"
        },
        {
          "output_type": "stream",
          "text": [
            "Input\tonly way left to get water, because Voldemort had planned it so ... He flung himself over to the edg\n",
            "GT\tnly way left to get water, because Voldemort had planned it so ... He flung himself over to the edge\n",
            "pred\tn y ths titt th hit thtcr  autause holdemort wad tlacted tn womt . aa diitg tim elf tner th hhe mnge\n",
            "\n",
            "\n",
            "Input\ts that had his arm. It released him, falling backward into the water with a splash; he scrambled to \n",
            "GT\t that had his arm. It released him, falling backward into the water with a splash; he scrambled to h\n",
            "pred\t what hed tam hlm  \"t wealase  tim  hocling tack ard tnto the saler thth h lteant  he haraneled th h\n",
            "\n",
            "\n",
            "Input\tath, and his feet left the ground as they lifted him and began to carry him, slowly and surely, back\n",
            "GT\tth, and his feet left the ground as they lifted him and began to carry him, slowly and surely, back \n",
            "pred\tth  hnd tes hiel sitt the sround tn the  woke d tim and hefan th horri aim  hhiwly atd ttrp y  huck \n",
            "\n",
            "\n",
            "Input\t . . . Dumbledore scooped the locket from the bottom of the stone basin and stowed it inside his rob\n",
            "GT\t. . . Dumbledore scooped the locket from the bottom of the stone basin and stowed it inside his robe\n",
            "pred\tH . . .umbledore wtrnled the siok t aoom the soytln of the stane oacingtnd ttapar tn wnttde tim fibe\n",
            "\n",
            "\n",
            "Input\t\"sir, I forgot -- about fire -- they were coming at me and I panicked --\" \"Quite understandable,\" mu\n",
            "GT\tsir, I forgot -- about fire -- they were coming at me and I panicked --\" \"Quite understandable,\" mur\n",
            "pred\tIan  y diu ot t  Inout tors y  Ihe  ware soneng tt te tnd t dontn  d t\"  \"Iuit  tnderstand rle   sat\n",
            "\n",
            "\n",
            "\n",
            "Test set: Average loss: 1.4734, Accuracy: 703985/1254400 (56%)\n",
            "\n",
            "Saved /content/checkpoints/001.pt\n",
            "\n",
            "generated max\t\t Harry Potter, Voldemort, and Dumbledore walk into a bar. Harry had not the standing the stands of the stairs and the stands of the stairs and the stands of the stairs and the stands of the stairs and the standing on the stairs and the standing on the stairs\n",
            "generated sample\t Harry Potter, Voldemort, and Dumbledore walk into a bar. Hermione what wasn a nigscle and Benthe Harry. Voldemort way, him a visible tall be all once look liming the badly homeing. There was stuping the wall. Hag in Krumm and Stable had rand him that Harry \n",
            "generated sample\t Harry Potter, Voldemort, and Dumbledore walk into a bar. A lost throut what was wanted through. Nistrate him just bemgement a lime were.\" Fan/ intently through the him robes. He convected the door . . the father what?\" he shis talk at Madam Ron ables. Bock'\n",
            "generated sample\t Harry Potter, Voldemort, and Dumbledore walk into a bar. Ron and Prevest had into him, had a filing glass, graved punning? It have Lowed the stamier opon the point and a ropped inted it. Harry,  Harry expect portening were him and the Snape was string about\n",
            "generated sample\t Harry Potter, Voldemort, and Dumbledore walk into a bar. His.\" Harry tried on orm out of his strance plaught, crrinkson and Proff hollaxed in the sond charse whis that he chapped at he never saw Ron and its many like her whismps. \"Ih's vavin's have not what\n",
            "generated sample\t Harry Potter, Voldemort, and Dumbledore walk into a bar. What they not think unsUnce what I they,\" he got with the through a long you.\" \"Attah oncy me down,\" he said to the lift the Miniagall happily,\" canged through of the lips and snapped behind Intwastes\n",
            "generated sample\t Harry Potter, Voldemort, and Dumbledore walk into a bar.  Harry looked that shuddershants they would father Boven with what me look look the worder. Gt. What his leg him not taken if Hermional Blacky to Dumbledore, he think he was dring into the toe on Hoag\n",
            "generated sample\t Harry Potter, Voldemort, and Dumbledore walk into a bar. Ink a vinisps the orner Snape had intenter whimps looking blood off Snyfest escause the limp had wanted the often a lop and closeling in her mine, were staning noise.  \"Mudustants!\" he shoully.  Hagri\n",
            "generated sample\t Harry Potter, Voldemort, and Dumbledore walk into a bar. Harry ponserible three him! Harry pans wouldon him him innogsed inside the morning place, the step and his fincels as defere the himself on the where Propessor Magical Or on Profice, sprinting plate a\n",
            "generated sample\t Harry Potter, Voldemort, and Dumbledore walk into a bar. Bazing her still next to one what was closed I got the names ?\" He sweeping Hagrid's kup of nosing his edfellor of Harry!\" Ron was Rubledore nangs to the slimping voice still clap and Buddle Will wros\n",
            "generated sample\t Harry Potter, Voldemort, and Dumbledore walk into a bar. Ron the Sirst a continuting His right the spiting up. \"O can evabout Snape one of his teach one the fillenor, cleculty have him, like that one Lizim, Non's might try in the motiony eyes monish Flach l\n"
          ],
          "name": "stdout"
        },
        {
          "output_type": "stream",
          "text": [
            "\r  0%|          | 0/196 [00:00<?, ?it/s]"
          ],
          "name": "stderr"
        },
        {
          "output_type": "stream",
          "text": [
            "generated beam\t\t Harry Potter, Voldemort, and Dumbledore walk into a bar. ou here, don't cliquity.\" Gefore had not can't be sling into Ron all this Hould of disappoaratite the of carrived\" his had him doessing. He knok him foor \"There's about in the tell of I magice forward\n",
            "\n"
          ],
          "name": "stdout"
        },
        {
          "output_type": "stream",
          "text": [
            "  1%|          | 2/196 [00:00<00:38,  4.99it/s]"
          ],
          "name": "stderr"
        },
        {
          "output_type": "stream",
          "text": [
            "Train Epoch: 2 [0/50176 (0%)]\tLoss: 1.471086\n"
          ],
          "name": "stdout"
        },
        {
          "output_type": "stream",
          "text": [
            "  7%|▋         | 13/196 [00:01<00:18,  9.64it/s]"
          ],
          "name": "stderr"
        },
        {
          "output_type": "stream",
          "text": [
            "Train Epoch: 2 [2560/50176 (5%)]\tLoss: 1.454177\n"
          ],
          "name": "stdout"
        },
        {
          "output_type": "stream",
          "text": [
            " 12%|█▏        | 23/196 [00:02<00:15, 10.89it/s]"
          ],
          "name": "stderr"
        },
        {
          "output_type": "stream",
          "text": [
            "Train Epoch: 2 [5120/50176 (10%)]\tLoss: 1.486653\n"
          ],
          "name": "stdout"
        },
        {
          "output_type": "stream",
          "text": [
            " 17%|█▋        | 33/196 [00:03<00:14, 11.09it/s]"
          ],
          "name": "stderr"
        },
        {
          "output_type": "stream",
          "text": [
            "Train Epoch: 2 [7680/50176 (15%)]\tLoss: 1.473083\n"
          ],
          "name": "stdout"
        },
        {
          "output_type": "stream",
          "text": [
            " 22%|██▏       | 43/196 [00:04<00:13, 11.11it/s]"
          ],
          "name": "stderr"
        },
        {
          "output_type": "stream",
          "text": [
            "Train Epoch: 2 [10240/50176 (20%)]\tLoss: 1.503416\n"
          ],
          "name": "stdout"
        },
        {
          "output_type": "stream",
          "text": [
            " 27%|██▋       | 53/196 [00:04<00:12, 11.19it/s]"
          ],
          "name": "stderr"
        },
        {
          "output_type": "stream",
          "text": [
            "Train Epoch: 2 [12800/50176 (26%)]\tLoss: 1.455450\n"
          ],
          "name": "stdout"
        },
        {
          "output_type": "stream",
          "text": [
            " 32%|███▏      | 63/196 [00:05<00:11, 11.23it/s]"
          ],
          "name": "stderr"
        },
        {
          "output_type": "stream",
          "text": [
            "Train Epoch: 2 [15360/50176 (31%)]\tLoss: 1.454233\n"
          ],
          "name": "stdout"
        },
        {
          "output_type": "stream",
          "text": [
            " 37%|███▋      | 73/196 [00:06<00:11, 11.03it/s]"
          ],
          "name": "stderr"
        },
        {
          "output_type": "stream",
          "text": [
            "Train Epoch: 2 [17920/50176 (36%)]\tLoss: 1.467338\n"
          ],
          "name": "stdout"
        },
        {
          "output_type": "stream",
          "text": [
            " 42%|████▏     | 83/196 [00:07<00:10, 11.01it/s]"
          ],
          "name": "stderr"
        },
        {
          "output_type": "stream",
          "text": [
            "Train Epoch: 2 [20480/50176 (41%)]\tLoss: 1.451749\n"
          ],
          "name": "stdout"
        },
        {
          "output_type": "stream",
          "text": [
            " 47%|████▋     | 93/196 [00:08<00:09, 11.14it/s]"
          ],
          "name": "stderr"
        },
        {
          "output_type": "stream",
          "text": [
            "Train Epoch: 2 [23040/50176 (46%)]\tLoss: 1.460928\n"
          ],
          "name": "stdout"
        },
        {
          "output_type": "stream",
          "text": [
            " 53%|█████▎    | 103/196 [00:09<00:08, 11.04it/s]"
          ],
          "name": "stderr"
        },
        {
          "output_type": "stream",
          "text": [
            "Train Epoch: 2 [25600/50176 (51%)]\tLoss: 1.471288\n"
          ],
          "name": "stdout"
        },
        {
          "output_type": "stream",
          "text": [
            " 58%|█████▊    | 113/196 [00:10<00:07, 11.11it/s]"
          ],
          "name": "stderr"
        },
        {
          "output_type": "stream",
          "text": [
            "Train Epoch: 2 [28160/50176 (56%)]\tLoss: 1.473207\n"
          ],
          "name": "stdout"
        },
        {
          "output_type": "stream",
          "text": [
            " 63%|██████▎   | 123/196 [00:11<00:06, 11.01it/s]"
          ],
          "name": "stderr"
        },
        {
          "output_type": "stream",
          "text": [
            "Train Epoch: 2 [30720/50176 (61%)]\tLoss: 1.449855\n"
          ],
          "name": "stdout"
        },
        {
          "output_type": "stream",
          "text": [
            " 68%|██████▊   | 133/196 [00:12<00:05, 11.00it/s]"
          ],
          "name": "stderr"
        },
        {
          "output_type": "stream",
          "text": [
            "Train Epoch: 2 [33280/50176 (66%)]\tLoss: 1.426882\n"
          ],
          "name": "stdout"
        },
        {
          "output_type": "stream",
          "text": [
            " 73%|███████▎  | 143/196 [00:13<00:04, 11.02it/s]"
          ],
          "name": "stderr"
        },
        {
          "output_type": "stream",
          "text": [
            "Train Epoch: 2 [35840/50176 (71%)]\tLoss: 1.456023\n"
          ],
          "name": "stdout"
        },
        {
          "output_type": "stream",
          "text": [
            " 78%|███████▊  | 153/196 [00:13<00:03, 10.96it/s]"
          ],
          "name": "stderr"
        },
        {
          "output_type": "stream",
          "text": [
            "Train Epoch: 2 [38400/50176 (77%)]\tLoss: 1.464797\n"
          ],
          "name": "stdout"
        },
        {
          "output_type": "stream",
          "text": [
            " 83%|████████▎ | 163/196 [00:14<00:02, 11.02it/s]"
          ],
          "name": "stderr"
        },
        {
          "output_type": "stream",
          "text": [
            "Train Epoch: 2 [40960/50176 (82%)]\tLoss: 1.479797\n"
          ],
          "name": "stdout"
        },
        {
          "output_type": "stream",
          "text": [
            " 88%|████████▊ | 173/196 [00:15<00:02, 10.93it/s]"
          ],
          "name": "stderr"
        },
        {
          "output_type": "stream",
          "text": [
            "Train Epoch: 2 [43520/50176 (87%)]\tLoss: 1.444572\n"
          ],
          "name": "stdout"
        },
        {
          "output_type": "stream",
          "text": [
            " 93%|█████████▎| 183/196 [00:16<00:01, 10.99it/s]"
          ],
          "name": "stderr"
        },
        {
          "output_type": "stream",
          "text": [
            "Train Epoch: 2 [46080/50176 (92%)]\tLoss: 1.470156\n"
          ],
          "name": "stdout"
        },
        {
          "output_type": "stream",
          "text": [
            " 98%|█████████▊| 193/196 [00:17<00:00, 10.96it/s]"
          ],
          "name": "stderr"
        },
        {
          "output_type": "stream",
          "text": [
            "Train Epoch: 2 [48640/50176 (97%)]\tLoss: 1.501348\n"
          ],
          "name": "stdout"
        },
        {
          "output_type": "stream",
          "text": [
            "100%|██████████| 196/196 [00:17<00:00, 10.94it/s]"
          ],
          "name": "stderr"
        },
        {
          "output_type": "stream",
          "text": [
            "\n",
            "perplexity:  4.322060375711527\n"
          ],
          "name": "stdout"
        },
        {
          "output_type": "stream",
          "text": [
            "\n"
          ],
          "name": "stderr"
        },
        {
          "output_type": "stream",
          "text": [
            "Input\tonly way left to get water, because Voldemort had planned it so ... He flung himself over to the edg\n",
            "GT\tnly way left to get water, because Voldemort had planned it so ... He flung himself over to the edge\n",
            "pred\tney ohs aitt hh hot hhter  aufause holdemort wad nuacted tn womt . aa wiitg tim elf oner th hhe snge\n",
            "\n",
            "\n",
            "Input\ts that had his arm. It released him, falling backward into the water with a splash; he scrambled to \n",
            "GT\t that had his arm. It released him, falling backward into the water with a splash; he scrambled to h\n",
            "pred\t what hed sas srm  \"t wemecsed tim  hriling aack ard anto the saler ohth h pueatt  he saraneled oh h\n",
            "\n",
            "\n",
            "Input\tath, and his feet left the ground as they lifted him and began to carry him, slowly and surely, back\n",
            "GT\tth, and his feet left the ground as they lifted him and began to carry him, slowly and surely, back \n",
            "pred\tth  and ses maet sitt hhe sround st the  witeed him and sugan to hotei ais  hhiwly atd surp y  auck \n",
            "\n",
            "\n",
            "Input\t . . . Dumbledore scooped the locket from the bottom of the stone basin and stowed it inside his rob\n",
            "GT\t. . . Dumbledore scooped the locket from the bottom of the stone basin and stowed it inside his robe\n",
            "pred\t\" . . .umbledore waruded ihe siok d ooom hhe sayten of the stane sacinghnd suaped hn wntide his mioe\n",
            "\n",
            "\n",
            "Input\t\"sir, I forgot -- about fire -- they were coming at me and I panicked --\" \"Quite understandable,\" mu\n",
            "GT\tsir, I forgot -- about fire -- they were coming at me and I panicked --\" \"Quite understandable,\" mur\n",
            "pred\tIad, i wiugot t\"\"Inout hors w\"\"Ihe  ware soueng tt ty,and s wustceed i\"\" \"Iuit  hpderstant tle   sut\n",
            "\n",
            "\n",
            "\n",
            "Test set: Average loss: 1.4730, Accuracy: 704628/1254400 (56%)\n",
            "\n",
            "Saved /content/checkpoints/002.pt\n",
            "\n",
            "generated max\t\t Harry Potter, Voldemort, and Dumbledore walk into a bar. \"I say a first class what he said something in a point of the stairs of the stairs of the stairs of the stairs of the stairs of the stairs of the stairs of the stairs of the stairs of the stairs of th\n",
            "generated sample\t Harry Potter, Voldemort, and Dumbledore walk into a bar. You crabbed where sumbled at Krush what I acced the I,CspTrime Propertomscrive?\" said Ron and Magain Dursleys left ripidly.  \"That hope whered up dobbilide sevel sive-I can't rigo ovie us Blast was ha\n",
            "generated sample\t Harry Potter, Voldemort, and Dumbledore walk into a bar. . .\" \"She sade you walk been clyturer-had /ou dane, after be if your not faced. But why haved as she's rips,\" slooking Minangly, what he huddened this upberious Must ErviNed Harry. She gran atle addic\n",
            "generated sample\t Harry Potter, Voldemort, and Dumbledore walk into a bar.  \"Ro middle wate wonge'll say Bur%\" he sidgercased something in Snape last into the while 3nathert. \"Ashady, saying ...\" \"Dich', who move bring something off him,\" said Goxdling Varget.. \"On the rois,\n",
            "generated sample\t Harry Potter, Voldemort, and Dumbledore walk into a bar. \"Ang where Harry Che mouter were you are or Coming's never simport that mying joinet died, what itter Agable heffled any invorvation of course. That was sliffing into the laughon that sheh was crouchi\n",
            "generated sample\t Harry Potter, Voldemort, and Dumbledore walk into a bar. He paganing crumeding out of the cage was into the kizp spirt. ... it was ever shrelchion inter bog's that as Vodden dione out to such himself Why didn't think you think him,\" hut very wastent to Malf\n",
            "generated sample\t Harry Potter, Voldemort, and Dumbledore walk into a bar. Bet not clate all hursed up himpered ond ten shatle. \"Yux my whap you suppased twice will d Herple Shraid?\" Harry hundring firsly. \"Let me,\" he said Mrs. Mugg' looked upforted into his walm sorttuning\n",
            "generated sample\t Harry Potter, Voldemort, and Dumbledore walk into a bar. Snape had stoeped a laugh, sick well nex purived.\"  Slughous scred understandfing, and waited him.\" Fnee might not gut a one mind shappound to stremp breaked excapantly. Hermione sure went the crobbei\n",
            "generated sample\t Harry Potter, Voldemort, and Dumbledore walk into a bar.  \"Yut dall, that!\" Ron allowked the day.\" \"Did Lupin Khrim mutticall way snatile be day on the wordfrat Day. Halk whared out a four old of class watchen; sudden surpers. The Judley shrooked intervebli\n",
            "generated sample\t Harry Potter, Voldemort, and Dumbledore walk into a bar. Dudleys jeving up, whis four tends of hagrid shy Giving watched hurry's feiling door indisturation. Harry out a court fiffing the some swrew levt more Crowks,\" said his miss atteeny; hazbered. He roop\n",
            "generated sample\t Harry Potter, Voldemort, and Dumbledore walk into a bar. Crimb Who liffejed in a which scaping running up that any undersenal Everelione blup for Lupina, Hagnapi, was insiving have heard a vilook. He's make?\" Cratchanned out of the corrifqual that into Crif\n"
          ],
          "name": "stdout"
        },
        {
          "output_type": "stream",
          "text": [
            "\r  0%|          | 0/196 [00:00<?, ?it/s]"
          ],
          "name": "stderr"
        },
        {
          "output_type": "stream",
          "text": [
            "generated beam\t\t Harry Potter, Voldemort, and Dumbledore walk into a bar. This SnIThart --\" Stapport, Itsenve!\" Harry could him as he ased Ron the oten whimself casing his upon but the kilgorvifor while his bed. Snape. All whole had culping his ribe watcut Harry Frunt quiet\n",
            "\n"
          ],
          "name": "stdout"
        },
        {
          "output_type": "stream",
          "text": [
            "  1%|          | 2/196 [00:00<00:39,  4.92it/s]"
          ],
          "name": "stderr"
        },
        {
          "output_type": "stream",
          "text": [
            "Train Epoch: 3 [0/50176 (0%)]\tLoss: 1.469541\n"
          ],
          "name": "stdout"
        },
        {
          "output_type": "stream",
          "text": [
            "  6%|▌         | 12/196 [00:01<00:20,  9.14it/s]"
          ],
          "name": "stderr"
        },
        {
          "output_type": "stream",
          "text": [
            "Train Epoch: 3 [2560/50176 (5%)]\tLoss: 1.431023\n"
          ],
          "name": "stdout"
        },
        {
          "output_type": "stream",
          "text": [
            " 11%|█         | 22/196 [00:02<00:16, 10.72it/s]"
          ],
          "name": "stderr"
        },
        {
          "output_type": "stream",
          "text": [
            "Train Epoch: 3 [5120/50176 (10%)]\tLoss: 1.473616\n"
          ],
          "name": "stdout"
        },
        {
          "output_type": "stream",
          "text": [
            " 16%|█▋        | 32/196 [00:03<00:14, 10.97it/s]"
          ],
          "name": "stderr"
        },
        {
          "output_type": "stream",
          "text": [
            "Train Epoch: 3 [7680/50176 (15%)]\tLoss: 1.455475\n"
          ],
          "name": "stdout"
        },
        {
          "output_type": "stream",
          "text": [
            " 21%|██▏       | 42/196 [00:03<00:14, 10.99it/s]"
          ],
          "name": "stderr"
        },
        {
          "output_type": "stream",
          "text": [
            "Train Epoch: 3 [10240/50176 (20%)]\tLoss: 1.453542\n"
          ],
          "name": "stdout"
        },
        {
          "output_type": "stream",
          "text": [
            " 27%|██▋       | 52/196 [00:04<00:13, 10.88it/s]"
          ],
          "name": "stderr"
        },
        {
          "output_type": "stream",
          "text": [
            "Train Epoch: 3 [12800/50176 (26%)]\tLoss: 1.444871\n"
          ],
          "name": "stdout"
        },
        {
          "output_type": "stream",
          "text": [
            " 32%|███▏      | 62/196 [00:05<00:12, 10.78it/s]"
          ],
          "name": "stderr"
        },
        {
          "output_type": "stream",
          "text": [
            "Train Epoch: 3 [15360/50176 (31%)]\tLoss: 1.456458\n"
          ],
          "name": "stdout"
        },
        {
          "output_type": "stream",
          "text": [
            " 37%|███▋      | 72/196 [00:06<00:11, 10.87it/s]"
          ],
          "name": "stderr"
        },
        {
          "output_type": "stream",
          "text": [
            "Train Epoch: 3 [17920/50176 (36%)]\tLoss: 1.452838\n"
          ],
          "name": "stdout"
        },
        {
          "output_type": "stream",
          "text": [
            " 42%|████▏     | 82/196 [00:07<00:10, 10.97it/s]"
          ],
          "name": "stderr"
        },
        {
          "output_type": "stream",
          "text": [
            "Train Epoch: 3 [20480/50176 (41%)]\tLoss: 1.445795\n"
          ],
          "name": "stdout"
        },
        {
          "output_type": "stream",
          "text": [
            " 47%|████▋     | 92/196 [00:08<00:09, 10.76it/s]"
          ],
          "name": "stderr"
        },
        {
          "output_type": "stream",
          "text": [
            "Train Epoch: 3 [23040/50176 (46%)]\tLoss: 1.440677\n"
          ],
          "name": "stdout"
        },
        {
          "output_type": "stream",
          "text": [
            " 52%|█████▏    | 102/196 [00:09<00:08, 10.84it/s]"
          ],
          "name": "stderr"
        },
        {
          "output_type": "stream",
          "text": [
            "Train Epoch: 3 [25600/50176 (51%)]\tLoss: 1.469701\n"
          ],
          "name": "stdout"
        },
        {
          "output_type": "stream",
          "text": [
            " 57%|█████▋    | 112/196 [00:10<00:07, 10.90it/s]"
          ],
          "name": "stderr"
        },
        {
          "output_type": "stream",
          "text": [
            "Train Epoch: 3 [28160/50176 (56%)]\tLoss: 1.449315\n"
          ],
          "name": "stdout"
        },
        {
          "output_type": "stream",
          "text": [
            " 62%|██████▏   | 122/196 [00:11<00:06, 10.93it/s]"
          ],
          "name": "stderr"
        },
        {
          "output_type": "stream",
          "text": [
            "Train Epoch: 3 [30720/50176 (61%)]\tLoss: 1.433706\n"
          ],
          "name": "stdout"
        },
        {
          "output_type": "stream",
          "text": [
            " 67%|██████▋   | 132/196 [00:12<00:05, 10.94it/s]"
          ],
          "name": "stderr"
        },
        {
          "output_type": "stream",
          "text": [
            "Train Epoch: 3 [33280/50176 (66%)]\tLoss: 1.425738\n"
          ],
          "name": "stdout"
        },
        {
          "output_type": "stream",
          "text": [
            " 72%|███████▏  | 142/196 [00:13<00:04, 10.93it/s]"
          ],
          "name": "stderr"
        },
        {
          "output_type": "stream",
          "text": [
            "Train Epoch: 3 [35840/50176 (71%)]\tLoss: 1.483937\n"
          ],
          "name": "stdout"
        },
        {
          "output_type": "stream",
          "text": [
            " 78%|███████▊  | 152/196 [00:14<00:04, 10.80it/s]"
          ],
          "name": "stderr"
        },
        {
          "output_type": "stream",
          "text": [
            "Train Epoch: 3 [38400/50176 (77%)]\tLoss: 1.440490\n"
          ],
          "name": "stdout"
        },
        {
          "output_type": "stream",
          "text": [
            " 83%|████████▎ | 162/196 [00:15<00:03, 10.89it/s]"
          ],
          "name": "stderr"
        },
        {
          "output_type": "stream",
          "text": [
            "Train Epoch: 3 [40960/50176 (82%)]\tLoss: 1.449835\n"
          ],
          "name": "stdout"
        },
        {
          "output_type": "stream",
          "text": [
            " 88%|████████▊ | 172/196 [00:15<00:02, 10.91it/s]"
          ],
          "name": "stderr"
        },
        {
          "output_type": "stream",
          "text": [
            "Train Epoch: 3 [43520/50176 (87%)]\tLoss: 1.429876\n"
          ],
          "name": "stdout"
        },
        {
          "output_type": "stream",
          "text": [
            " 93%|█████████▎| 182/196 [00:16<00:01, 10.74it/s]"
          ],
          "name": "stderr"
        },
        {
          "output_type": "stream",
          "text": [
            "Train Epoch: 3 [46080/50176 (92%)]\tLoss: 1.451132\n"
          ],
          "name": "stdout"
        },
        {
          "output_type": "stream",
          "text": [
            " 98%|█████████▊| 192/196 [00:17<00:00, 10.78it/s]"
          ],
          "name": "stderr"
        },
        {
          "output_type": "stream",
          "text": [
            "Train Epoch: 3 [48640/50176 (97%)]\tLoss: 1.470385\n"
          ],
          "name": "stdout"
        },
        {
          "output_type": "stream",
          "text": [
            "100%|██████████| 196/196 [00:18<00:00, 10.81it/s]"
          ],
          "name": "stderr"
        },
        {
          "output_type": "stream",
          "text": [
            "\n",
            "perplexity:  4.249712979040218\n"
          ],
          "name": "stdout"
        },
        {
          "output_type": "stream",
          "text": [
            "\n"
          ],
          "name": "stderr"
        },
        {
          "output_type": "stream",
          "text": [
            "Input\tonly way left to get water, because Voldemort had planned it so ... He flung himself over to the edg\n",
            "GT\tnly way left to get water, because Voldemort had planned it so ... He flung himself over to the edge\n",
            "pred\tu y ohs titt th hot thlcr  aufause holdemort wad nuacted tn womt . ae diang tim elf ofer th the dnge\n",
            "\n",
            "\n",
            "Input\ts that had his arm. It released him, falling backward into the water with a splash; he scrambled to \n",
            "GT\t that had his arm. It released him, falling backward into the water with a splash; he scrambled to h\n",
            "pred\t mhat hed bes mlm  \"t weaiased tim  aoiling alck ard tnto the saler ahth h ltiats  oe saranbled oh h\n",
            "\n",
            "\n",
            "Input\tath, and his feet left the ground as they lifted him and began to carry him, slowly and surely, back\n",
            "GT\tth, and his feet left the ground as they lifted him and began to carry him, slowly and surely, back \n",
            "pred\tdh  and tes miet aift the slound on the  witeed tim and segan to holry aim  ahiwly atd strp y  auck \n",
            "\n",
            "\n",
            "Input\t . . . Dumbledore scooped the locket from the bottom of the stone basin and stowed it inside his rob\n",
            "GT\t. . . Dumbledore scooped the locket from the bottom of the stone basin and stowed it inside his robe\n",
            "pred\t\" . . .umbledore strrled ohe diok d aoom the soytln of the stane slgingtnd stapid tn wntide tim mobe\n",
            "\n",
            "\n",
            "Input\t\"sir, I forgot -- about fire -- they were coming at me and I panicked --\" \"Quite understandable,\" mu\n",
            "GT\tsir, I forgot -- about fire -- they were coming at me and I panicked --\" \"Quite understandable,\" mur\n",
            "pred\tIor, y wiugot t  Inout tons y-\"Ihe  were soueng tn ty tnd s wunts ed t-  \"Iurt  ysaerstant nle   set\n",
            "\n",
            "\n",
            "\n",
            "Test set: Average loss: 1.4440, Accuracy: 713977/1254400 (57%)\n",
            "\n",
            "Saved /content/checkpoints/003.pt\n",
            "\n",
            "generated max\t\t Harry Potter, Voldemort, and Dumbledore walk into a bar. \"I did you mean the second that you mean the second that you mean the second that you mean the second that you mean the second that you mean the second that you mean the second that you mean the secon\n",
            "generated sample\t Harry Potter, Voldemort, and Dumbledore walk into a bar. \"No: Ucabbe some of them, you can you were slightly.   Harry 'very like him, sortying, uring Snape,\" very same you tent ten musore Fred and Knowd Nom Mirius fox, as though how did why were fory minus \n",
            "generated sample\t Harry Potter, Voldemort, and Dumbledore walk into a bar. \"Is desertacin any unnation a lot - billoring ut?\"  \"Ohe shippant, Mrs,\" Neraive alone he looked a large now over himself of thewwall boy, and red agars plans and it envely smiling dragles wink everyt\n",
            "generated sample\t Harry Potter, Voldemort, and Dumbledore walk into a bar. Ago alone' he read some goy back reason the something life by the rest of the left of that Hallow nervou and when he madeds the wall on them closed his time set of the dack of himselfew live the destr\n",
            "generated sample\t Harry Potter, Voldemort, and Dumbledore walk into a bar. Ron listen into the swile of Pood lings of ard. They are the plyt nor thunds of conficious --\" Harry sat down. Irming on on the room. .  \"--- I finish that's aboun the other, did it fort, Me. EAa Dran\n",
            "generated sample\t Harry Potter, Voldemort, and Dumbledore walk into a bar. It y onter than end would will know it in mysalong live of the stand on tip op Mr.\" Harry. \"I mise that you any stall on Ron will blowed the doon, Hagrid, shily nane roared his pincor, twickering else\n",
            "generated sample\t Harry Potter, Voldemort, and Dumbledore walk into a bar.  \"He diling you mean in the cussile, there. And he cup to the chatine of Sirius?\" which trous my ther his feet, holding, but back was unbagned to wina blood able. But to stup aile within and other cli\n",
            "generated sample\t Harry Potter, Voldemort, and Dumbledore walk into a bar. Eyes mean quest have.\"  \"Oh, not anot the deeps. \"Low remember - I d'you me in Hermy,\" said Harry untaringly, hermione med uplage chairs closed very slitterness moard. Harry couting eying this agan on\n",
            "generated sample\t Harry Potter, Voldemort, and Dumbledore walk into a bar.  \"Mr. WaGes that?\" you've gives shorting move to way. - Ron can't you and the neck be an out of the parplet. \"Tay!\" said George, recooded part for why, but his mount for eniful vields be's brode that \n",
            "generated sample\t Harry Potter, Voldemort, and Dumbledore walk into a bar. \"Hapon them.  \"Is neggle to four us,\" run \"Thash where yer next munishing down the bag you --not reacling me,\" he said in Mrs. Peanly Rot mutter think that yeh neats will dixand that year who does lik\n",
            "generated sample\t Harry Potter, Voldemort, and Dumbledore walk into a bar. \"He's dest, you come choolowed for wherefien what mayily knoch downine, he does not if?\" said the mugh they stood up at Hogwarts's. He's mean. \"Oh newt you well. Will you don't alone have juft sound h\n"
          ],
          "name": "stdout"
        },
        {
          "output_type": "stream",
          "text": [
            "\r  0%|          | 0/196 [00:00<?, ?it/s]"
          ],
          "name": "stderr"
        },
        {
          "output_type": "stream",
          "text": [
            "generated beam\t\t Harry Potter, Voldemort, and Dumbledore walk into a bar. \"It's a Nicking Snaper, myatter on I bed paxe on the 4or both? Flupt who'lly you morning face of back   \"-- the four year new Hagrid. Unable twins slip me back and ours wate their els. You can was sta\n",
            "\n"
          ],
          "name": "stdout"
        },
        {
          "output_type": "stream",
          "text": [
            "  1%|          | 2/196 [00:00<00:39,  4.93it/s]"
          ],
          "name": "stderr"
        },
        {
          "output_type": "stream",
          "text": [
            "Train Epoch: 4 [0/50176 (0%)]\tLoss: 1.444045\n"
          ],
          "name": "stdout"
        },
        {
          "output_type": "stream",
          "text": [
            "  6%|▌         | 12/196 [00:01<00:20,  9.13it/s]"
          ],
          "name": "stderr"
        },
        {
          "output_type": "stream",
          "text": [
            "Train Epoch: 4 [2560/50176 (5%)]\tLoss: 1.502796\n"
          ],
          "name": "stdout"
        },
        {
          "output_type": "stream",
          "text": [
            " 11%|█         | 22/196 [00:02<00:16, 10.58it/s]"
          ],
          "name": "stderr"
        },
        {
          "output_type": "stream",
          "text": [
            "Train Epoch: 4 [5120/50176 (10%)]\tLoss: 1.501059\n"
          ],
          "name": "stdout"
        },
        {
          "output_type": "stream",
          "text": [
            " 16%|█▋        | 32/196 [00:03<00:15, 10.76it/s]"
          ],
          "name": "stderr"
        },
        {
          "output_type": "stream",
          "text": [
            "Train Epoch: 4 [7680/50176 (15%)]\tLoss: 1.444460\n"
          ],
          "name": "stdout"
        },
        {
          "output_type": "stream",
          "text": [
            " 21%|██▏       | 42/196 [00:04<00:14, 10.93it/s]"
          ],
          "name": "stderr"
        },
        {
          "output_type": "stream",
          "text": [
            "Train Epoch: 4 [10240/50176 (20%)]\tLoss: 1.429699\n"
          ],
          "name": "stdout"
        },
        {
          "output_type": "stream",
          "text": [
            " 27%|██▋       | 52/196 [00:04<00:13, 10.85it/s]"
          ],
          "name": "stderr"
        },
        {
          "output_type": "stream",
          "text": [
            "Train Epoch: 4 [12800/50176 (26%)]\tLoss: 1.424279\n"
          ],
          "name": "stdout"
        },
        {
          "output_type": "stream",
          "text": [
            " 32%|███▏      | 62/196 [00:05<00:12, 10.85it/s]"
          ],
          "name": "stderr"
        },
        {
          "output_type": "stream",
          "text": [
            "Train Epoch: 4 [15360/50176 (31%)]\tLoss: 1.438614\n"
          ],
          "name": "stdout"
        },
        {
          "output_type": "stream",
          "text": [
            " 37%|███▋      | 72/196 [00:06<00:11, 10.75it/s]"
          ],
          "name": "stderr"
        },
        {
          "output_type": "stream",
          "text": [
            "Train Epoch: 4 [17920/50176 (36%)]\tLoss: 1.445931\n"
          ],
          "name": "stdout"
        },
        {
          "output_type": "stream",
          "text": [
            " 42%|████▏     | 82/196 [00:07<00:10, 10.67it/s]"
          ],
          "name": "stderr"
        },
        {
          "output_type": "stream",
          "text": [
            "Train Epoch: 4 [20480/50176 (41%)]\tLoss: 1.420242\n"
          ],
          "name": "stdout"
        },
        {
          "output_type": "stream",
          "text": [
            " 47%|████▋     | 92/196 [00:08<00:09, 10.85it/s]"
          ],
          "name": "stderr"
        },
        {
          "output_type": "stream",
          "text": [
            "Train Epoch: 4 [23040/50176 (46%)]\tLoss: 1.421047\n"
          ],
          "name": "stdout"
        },
        {
          "output_type": "stream",
          "text": [
            " 52%|█████▏    | 102/196 [00:09<00:08, 10.90it/s]"
          ],
          "name": "stderr"
        },
        {
          "output_type": "stream",
          "text": [
            "Train Epoch: 4 [25600/50176 (51%)]\tLoss: 1.452267\n"
          ],
          "name": "stdout"
        },
        {
          "output_type": "stream",
          "text": [
            " 57%|█████▋    | 112/196 [00:10<00:07, 10.76it/s]"
          ],
          "name": "stderr"
        },
        {
          "output_type": "stream",
          "text": [
            "Train Epoch: 4 [28160/50176 (56%)]\tLoss: 1.450310\n"
          ],
          "name": "stdout"
        },
        {
          "output_type": "stream",
          "text": [
            " 62%|██████▏   | 122/196 [00:11<00:06, 10.82it/s]"
          ],
          "name": "stderr"
        },
        {
          "output_type": "stream",
          "text": [
            "Train Epoch: 4 [30720/50176 (61%)]\tLoss: 1.445761\n"
          ],
          "name": "stdout"
        },
        {
          "output_type": "stream",
          "text": [
            " 67%|██████▋   | 132/196 [00:12<00:05, 10.74it/s]"
          ],
          "name": "stderr"
        },
        {
          "output_type": "stream",
          "text": [
            "Train Epoch: 4 [33280/50176 (66%)]\tLoss: 1.412726\n"
          ],
          "name": "stdout"
        },
        {
          "output_type": "stream",
          "text": [
            " 72%|███████▏  | 142/196 [00:13<00:05, 10.70it/s]"
          ],
          "name": "stderr"
        },
        {
          "output_type": "stream",
          "text": [
            "Train Epoch: 4 [35840/50176 (71%)]\tLoss: 1.425205\n"
          ],
          "name": "stdout"
        },
        {
          "output_type": "stream",
          "text": [
            " 78%|███████▊  | 152/196 [00:14<00:04, 10.75it/s]"
          ],
          "name": "stderr"
        },
        {
          "output_type": "stream",
          "text": [
            "Train Epoch: 4 [38400/50176 (77%)]\tLoss: 1.471071\n"
          ],
          "name": "stdout"
        },
        {
          "output_type": "stream",
          "text": [
            " 83%|████████▎ | 162/196 [00:15<00:03, 10.84it/s]"
          ],
          "name": "stderr"
        },
        {
          "output_type": "stream",
          "text": [
            "Train Epoch: 4 [40960/50176 (82%)]\tLoss: 1.457297\n"
          ],
          "name": "stdout"
        },
        {
          "output_type": "stream",
          "text": [
            " 88%|████████▊ | 172/196 [00:16<00:02, 10.81it/s]"
          ],
          "name": "stderr"
        },
        {
          "output_type": "stream",
          "text": [
            "Train Epoch: 4 [43520/50176 (87%)]\tLoss: 1.439732\n"
          ],
          "name": "stdout"
        },
        {
          "output_type": "stream",
          "text": [
            " 93%|█████████▎| 182/196 [00:16<00:01, 10.71it/s]"
          ],
          "name": "stderr"
        },
        {
          "output_type": "stream",
          "text": [
            "Train Epoch: 4 [46080/50176 (92%)]\tLoss: 1.443716\n"
          ],
          "name": "stdout"
        },
        {
          "output_type": "stream",
          "text": [
            " 98%|█████████▊| 192/196 [00:17<00:00, 10.84it/s]"
          ],
          "name": "stderr"
        },
        {
          "output_type": "stream",
          "text": [
            "Train Epoch: 4 [48640/50176 (97%)]\tLoss: 1.445387\n"
          ],
          "name": "stdout"
        },
        {
          "output_type": "stream",
          "text": [
            "100%|██████████| 196/196 [00:18<00:00, 10.72it/s]"
          ],
          "name": "stderr"
        },
        {
          "output_type": "stream",
          "text": [
            "\n",
            "perplexity:  4.222235987204229\n"
          ],
          "name": "stdout"
        },
        {
          "output_type": "stream",
          "text": [
            "\n"
          ],
          "name": "stderr"
        },
        {
          "output_type": "stream",
          "text": [
            "Input\tonly way left to get water, because Voldemort had planned it so ... He flung himself over to the edg\n",
            "GT\tnly way left to get water, because Voldemort had planned it so ... He flung himself over to the edge\n",
            "pred\tn y oas tott th tot thler  tufause holdemort wad nuacted tn womm.. ae doang tim elf oner th the snge\n",
            "\n",
            "\n",
            "Input\ts that had his arm. It released him, falling backward into the water with a splash; he scrambled to \n",
            "GT\t that had his arm. It released him, falling backward into the water with a splash; he scrambled to h\n",
            "pred\t soat hed ses srm     weaeased tim  toiling aeck ard tnto the saler ohth h ltiatt  oe sarambled oo h\n",
            "\n",
            "\n",
            "Input\tath, and his feet left the ground as they lifted him and began to carry him, slowly and surely, back\n",
            "GT\tth, and his feet left the ground as they lifted him and began to carry him, slowly and surely, back \n",
            "pred\tdh  and tes slet soft the soound on the  wokeed tim and sefan to souei tim  thiwly atd stde y  auck \n",
            "\n",
            "\n",
            "Input\t . . . Dumbledore scooped the locket from the bottom of the stone basin and stowed it inside his rob\n",
            "GT\t. . . Dumbledore scooped the locket from the bottom of the stone basin and stowed it inside his robe\n",
            "pred\t  . . .umbledore soroded toe siok d ooom the soytlm of the scane slcingtnd soapid tn intide tim mobe\n",
            "\n",
            "\n",
            "Input\t\"sir, I forgot -- about fire -- they were coming at me and I panicked --\" \"Quite understandable,\" mu\n",
            "GT\tsir, I forgot -- about fire -- they were coming at me and I panicked --\" \"Quite understandable,\" mur\n",
            "pred\twor, i douget t  tnout tors s- Ihe  were someng tn te,tnd s dustseed t   \"Iutte ssderstand yle   set\n",
            "\n",
            "\n",
            "\n",
            "Test set: Average loss: 1.4345, Accuracy: 716384/1254400 (57%)\n",
            "\n",
            "Saved /content/checkpoints/004.pt\n",
            "\n",
            "generated max\t\t Harry Potter, Voldemort, and Dumbledore walk into a bar.  \"I don't know what you know what you know what you know what you know what you know what you know what you know what you know what you know what you know what you know what you know what you know wha\n",
            "generated sample\t Harry Potter, Voldemort, and Dumbledore walk into a bar. \"For my-forsteched it, which,\" said Ron assed the Day, 'poken new himself degassed, you stood break twy the deepers, who ise people's loss, that through hoping me a teachion on her late was. Harry hea\n",
            "generated sample\t Harry Potter, Voldemort, and Dumbledore walk into a bar. Alause solip whole who halned the way, Parcah on the solistment meet rim into somethowh to the wizurd wondef him you memberted the (ay, that would as stuff about   the offoced. You knew I mutter be th\n",
            "generated sample\t Harry Potter, Voldemort, and Dumbledore walk into a bar. . . . . you're the neast beds new. I don't.  \"   \"It called some where looked to have hear the Is. . live you tolete me first, the tunia!\" Lhe Profe astickly, not annoyed moved into the door womether \n",
            "generated sample\t Harry Potter, Voldemort, and Dumbledore walk into a bar. Potter wors some person fetsing the Gars's Snime surely, ahe could have lose the sibly of the you ridged up. An appiaing to meaten him like that. *\" .   Attembled it the nice that?\" who had repsotured\n",
            "generated sample\t Harry Potter, Voldemort, and Dumbledore walk into a bar. of funny stone, and he regged me thing into interrupt. \"Bhe was severing something, down, Ron's doing Siring, Kumbledore suppose slop into snee? Swasn't you can then?\"  Harry sweered himing. =on black\n",
            "generated sample\t Harry Potter, Voldemort, and Dumbledore walk into a bar. . -\"yes may guing ting him. Professor McHoronanay take to to make closed at his fea beyain in anow The Maggain, his dushad sent on.   -\"Cllat? curts? I sign in the way, Mou-\", all during nevet to a hu\n",
            "generated sample\t Harry Potter, Voldemort, and Dumbledore walk into a bar.   \"Shat we betting me this puilling shiffled these benome smiring bed and recogen up?\" Harry said, someting the same, and he siggened hard, he could's what Harry compents moved like the Fidger of Dele\n",
            "generated sample\t Harry Potter, Voldemort, and Dumbledore walk into a bar. . . sward recessor Drubfat Snape, if the lets rigrese, inter this --robes.\" Othey tayted to stake sheard's had out serietly classress-lime. That iskeepens were?\"  Hermiral waring into the chass was in\n",
            "generated sample\t Harry Potter, Voldemort, and Dumbledore walk into a bar. Attice worts done in. Black, won't had reply, banking dobblink to be refels of blike, disard; you 2an they and repealed me with ince himself, Ron's doing to set it doublet,\" Hers Mudden?\" Ron back wer\n",
            "generated sample\t Harry Potter, Voldemort, and Dumbledore walk into a bar.  Fite opened the  deterticole. the szone rove hispefedly couldered explantating for the word diveves asked reasure his world inforgets to fine enore him ... and this, he said the sexping slugh while u\n"
          ],
          "name": "stdout"
        },
        {
          "output_type": "stream",
          "text": [
            "\r  0%|          | 0/196 [00:00<?, ?it/s]"
          ],
          "name": "stderr"
        },
        {
          "output_type": "stream",
          "text": [
            "generated beam\t\t Harry Potter, Voldemort, and Dumbledore walk into a bar. ood on these mad xood gotant down what don't you kust me this, you've got us.\" Harry's hard as knocolaced througz when this cass. Lording bous if you've got not off worrings fool,\" Harry and Fudwing f\n",
            "\n"
          ],
          "name": "stdout"
        },
        {
          "output_type": "stream",
          "text": [
            "  2%|▏         | 3/196 [00:00<00:37,  5.17it/s]"
          ],
          "name": "stderr"
        },
        {
          "output_type": "stream",
          "text": [
            "Train Epoch: 5 [0/50176 (0%)]\tLoss: 1.427811\n"
          ],
          "name": "stdout"
        },
        {
          "output_type": "stream",
          "text": [
            "  7%|▋         | 13/196 [00:01<00:19,  9.20it/s]"
          ],
          "name": "stderr"
        },
        {
          "output_type": "stream",
          "text": [
            "Train Epoch: 5 [2560/50176 (5%)]\tLoss: 1.408033\n"
          ],
          "name": "stdout"
        },
        {
          "output_type": "stream",
          "text": [
            " 12%|█▏        | 23/196 [00:02<00:16, 10.49it/s]"
          ],
          "name": "stderr"
        },
        {
          "output_type": "stream",
          "text": [
            "Train Epoch: 5 [5120/50176 (10%)]\tLoss: 1.458720\n"
          ],
          "name": "stdout"
        },
        {
          "output_type": "stream",
          "text": [
            " 17%|█▋        | 33/196 [00:03<00:15, 10.85it/s]"
          ],
          "name": "stderr"
        },
        {
          "output_type": "stream",
          "text": [
            "Train Epoch: 5 [7680/50176 (15%)]\tLoss: 1.435655\n"
          ],
          "name": "stdout"
        },
        {
          "output_type": "stream",
          "text": [
            " 22%|██▏       | 43/196 [00:04<00:14, 10.89it/s]"
          ],
          "name": "stderr"
        },
        {
          "output_type": "stream",
          "text": [
            "Train Epoch: 5 [10240/50176 (20%)]\tLoss: 1.418752\n"
          ],
          "name": "stdout"
        },
        {
          "output_type": "stream",
          "text": [
            " 27%|██▋       | 53/196 [00:05<00:13, 10.85it/s]"
          ],
          "name": "stderr"
        },
        {
          "output_type": "stream",
          "text": [
            "Train Epoch: 5 [12800/50176 (26%)]\tLoss: 1.410517\n"
          ],
          "name": "stdout"
        },
        {
          "output_type": "stream",
          "text": [
            " 32%|███▏      | 63/196 [00:05<00:12, 10.78it/s]"
          ],
          "name": "stderr"
        },
        {
          "output_type": "stream",
          "text": [
            "Train Epoch: 5 [15360/50176 (31%)]\tLoss: 1.541001\n"
          ],
          "name": "stdout"
        },
        {
          "output_type": "stream",
          "text": [
            " 37%|███▋      | 73/196 [00:06<00:11, 10.80it/s]"
          ],
          "name": "stderr"
        },
        {
          "output_type": "stream",
          "text": [
            "Train Epoch: 5 [17920/50176 (36%)]\tLoss: 1.499835\n"
          ],
          "name": "stdout"
        },
        {
          "output_type": "stream",
          "text": [
            " 42%|████▏     | 83/196 [00:07<00:10, 10.72it/s]"
          ],
          "name": "stderr"
        },
        {
          "output_type": "stream",
          "text": [
            "Train Epoch: 5 [20480/50176 (41%)]\tLoss: 1.429057\n"
          ],
          "name": "stdout"
        },
        {
          "output_type": "stream",
          "text": [
            " 47%|████▋     | 93/196 [00:08<00:09, 10.67it/s]"
          ],
          "name": "stderr"
        },
        {
          "output_type": "stream",
          "text": [
            "Train Epoch: 5 [23040/50176 (46%)]\tLoss: 1.419144\n"
          ],
          "name": "stdout"
        },
        {
          "output_type": "stream",
          "text": [
            " 53%|█████▎    | 103/196 [00:09<00:08, 10.82it/s]"
          ],
          "name": "stderr"
        },
        {
          "output_type": "stream",
          "text": [
            "Train Epoch: 5 [25600/50176 (51%)]\tLoss: 1.415550\n"
          ],
          "name": "stdout"
        },
        {
          "output_type": "stream",
          "text": [
            " 58%|█████▊    | 113/196 [00:10<00:07, 10.66it/s]"
          ],
          "name": "stderr"
        },
        {
          "output_type": "stream",
          "text": [
            "Train Epoch: 5 [28160/50176 (56%)]\tLoss: 1.433835\n"
          ],
          "name": "stdout"
        },
        {
          "output_type": "stream",
          "text": [
            " 63%|██████▎   | 123/196 [00:11<00:06, 10.64it/s]"
          ],
          "name": "stderr"
        },
        {
          "output_type": "stream",
          "text": [
            "Train Epoch: 5 [30720/50176 (61%)]\tLoss: 1.429636\n"
          ],
          "name": "stdout"
        },
        {
          "output_type": "stream",
          "text": [
            " 68%|██████▊   | 133/196 [00:12<00:05, 10.62it/s]"
          ],
          "name": "stderr"
        },
        {
          "output_type": "stream",
          "text": [
            "Train Epoch: 5 [33280/50176 (66%)]\tLoss: 1.404871\n"
          ],
          "name": "stdout"
        },
        {
          "output_type": "stream",
          "text": [
            " 73%|███████▎  | 143/196 [00:13<00:04, 10.68it/s]"
          ],
          "name": "stderr"
        },
        {
          "output_type": "stream",
          "text": [
            "Train Epoch: 5 [35840/50176 (71%)]\tLoss: 1.418133\n"
          ],
          "name": "stdout"
        },
        {
          "output_type": "stream",
          "text": [
            " 78%|███████▊  | 153/196 [00:14<00:04, 10.64it/s]"
          ],
          "name": "stderr"
        },
        {
          "output_type": "stream",
          "text": [
            "Train Epoch: 5 [38400/50176 (77%)]\tLoss: 1.428783\n"
          ],
          "name": "stdout"
        },
        {
          "output_type": "stream",
          "text": [
            " 83%|████████▎ | 163/196 [00:15<00:03, 10.65it/s]"
          ],
          "name": "stderr"
        },
        {
          "output_type": "stream",
          "text": [
            "Train Epoch: 5 [40960/50176 (82%)]\tLoss: 1.437732\n"
          ],
          "name": "stdout"
        },
        {
          "output_type": "stream",
          "text": [
            " 88%|████████▊ | 173/196 [00:16<00:02, 10.64it/s]"
          ],
          "name": "stderr"
        },
        {
          "output_type": "stream",
          "text": [
            "Train Epoch: 5 [43520/50176 (87%)]\tLoss: 1.414513\n"
          ],
          "name": "stdout"
        },
        {
          "output_type": "stream",
          "text": [
            " 93%|█████████▎| 183/196 [00:17<00:01, 10.71it/s]"
          ],
          "name": "stderr"
        },
        {
          "output_type": "stream",
          "text": [
            "Train Epoch: 5 [46080/50176 (92%)]\tLoss: 1.437282\n"
          ],
          "name": "stdout"
        },
        {
          "output_type": "stream",
          "text": [
            " 98%|█████████▊| 193/196 [00:18<00:00, 10.72it/s]"
          ],
          "name": "stderr"
        },
        {
          "output_type": "stream",
          "text": [
            "Train Epoch: 5 [48640/50176 (97%)]\tLoss: 1.435775\n"
          ],
          "name": "stdout"
        },
        {
          "output_type": "stream",
          "text": [
            "100%|██████████| 196/196 [00:18<00:00, 10.68it/s]"
          ],
          "name": "stderr"
        },
        {
          "output_type": "stream",
          "text": [
            "\n",
            "perplexity:  4.185880341261787\n"
          ],
          "name": "stdout"
        },
        {
          "output_type": "stream",
          "text": [
            "\n"
          ],
          "name": "stderr"
        },
        {
          "output_type": "stream",
          "text": [
            "Input\tonly way left to get water, because Voldemort had planned it so ... He flung himself over to the edg\n",
            "GT\tnly way left to get water, because Voldemort had planned it so ... He flung himself over to the edge\n",
            "pred\tuey whs titt th sot thser  tufause holdemort wad suacted tn womt.. ae wiatg tim elf tuer th the snge\n",
            "\n",
            "\n",
            "Input\ts that had his arm. It released him, falling backward into the water with a splash; he scrambled to \n",
            "GT\t that had his arm. It released him, falling backward into the water with a splash; he scrambled to h\n",
            "pred\t soat hed sem srm   t weaeased tim  hoiling arck ard tnto the saler ohth h btratt  oe sarambled oo h\n",
            "\n",
            "\n",
            "Input\tath, and his feet left the ground as they lifted him and began to carry him, slowly and surely, back\n",
            "GT\tth, and his feet left the ground as they lifted him and began to carry him, slowly and surely, back \n",
            "pred\tdh  and ses siet soft the sround sn the  wokeed tim and selan to soueiiaim  hhiwly atd stde y  auck \n",
            "\n",
            "\n",
            "Input\t . . . Dumbledore scooped the locket from the bottom of the stone basin and stowed it inside his rob\n",
            "GT\t. . . Dumbledore scooped the locket from the bottom of the stone basin and stowed it inside his robe\n",
            "pred\t\" . . .umbledore sorrded toe siok d aoom the soytlm of the stane socinetnd stapad tt wnttde tim mobe\n",
            "\n",
            "\n",
            "Input\t\"sir, I forgot -- about fire -- they were coming at me and I panicked --\" \"Quite understandable,\" mu\n",
            "GT\tsir, I forgot -- about fire -- they were coming at me and I panicked --\" \"Quite understandable,\" mur\n",
            "pred\tIor, a wouget t  Inout tors t- Ihe  ware someng tr te tnd s wusts ed t   \"Iutte ssderstand yle   sut\n",
            "\n",
            "\n",
            "\n",
            "Test set: Average loss: 1.4221, Accuracy: 724009/1254400 (58%)\n",
            "\n",
            "Saved /content/checkpoints/005.pt\n",
            "\n",
            "generated max\t\t Harry Potter, Voldemort, and Dumbledore walk into a bar.  \"I think you can the second that she was starting to see the stairs of the stairs of the stairs of the stairs of the stairs of the stairs of the stairs of the stairs of the stairs of the stairs of th\n",
            "generated sample\t Harry Potter, Voldemort, and Dumbledore walk into a bar. . . . me a roaled amout ruffyen it.\" Harry, and Hermione sone hurried like attache oplense into the mittering edge not forbed one odd to say What he's heart saveral whose shrugks,\" said Sloak, Harry m\n",
            "generated sample\t Harry Potter, Voldemort, and Dumbledore walk into a bar.  \"I'me faces about I migg-arts. Harry Potser the oncelagens were him in conspesson thuse shaky while say Flack..\"   DHat saw She shorted Ugges Romilday.  There rang sloke a McDonagall Orbundars, crimb\n",
            "generated sample\t Harry Potter, Voldemort, and Dumbledore walk into a bar. At the wall. Arriving and looked up the Sortion was swinny up interesal, away made a what somethings nopuinaply food ]aster of Gryffirips.  \"That was the Durslike simss again in a fifel exents willed \n",
            "generated sample\t Harry Potter, Voldemort, and Dumbledore walk into a bar. \"Bet's mayabe stuck Dark'\" Hermione abreeded him selver skqool. He slumbed sharply around them skroned but. Something sax she was as though who his desert mind this sirler near ridement. \"Mr. Dobby to\n",
            "generated sample\t Harry Potter, Voldemort, and Dumbledore walk into a bar. You chosed, Hermione ludger alone thinks, you bad Harry, Shambledore snct say ah they placed you consided it? \"I could return what you think \"  \"That you know hargy turned in the confoltawas, staring \n",
            "generated sample\t Harry Potter, Voldemort, and Dumbledore walk into a bar. Sirius water the cedral what Harry had ready which, had by soffing aman flames to the not had sprunt acho, the doortelies.\" \"S.\" Hermione which throw the door there wisheded everyone. It wasn't on Scr\n",
            "generated sample\t Harry Potter, Voldemort, and Dumbledore walk into a bar. End have concentled out the kins all.\" Hagrid burned interestilicing. \"So,\" showaxperedore purrionally not hurdifler up the wizravies through silvering sharply ord; back to hard the hosepparant of gol\n",
            "generated sample\t Harry Potter, Voldemort, and Dumbledore walk into a bar. Ounlike now could sudden the Qursleys quessing aroun- everythings. Nomes archant Comes -f Ron and her rich minnarsants going to say - everying little properaud isfrained.\"  \"It seams, there was arracq\n",
            "generated sample\t Harry Potter, Voldemort, and Dumbledore walk into a bar. Flong. \"Not after, this tangs!\" said Harry.  \"Flatured then everbered that me the desplose. Bittens, Mrnafs, looking Madame?\" \"But it then, yrough...\" Thomorally shaking hurrier the  time begas furiou\n",
            "generated sample\t Harry Potter, Voldemort, and Dumbledore walk into a bar. . . in the second to go furially inforst course,\" left ofly himselp of chess of Harry orands what Marabagary, who spranged you and sensies ebuliably.\" SHunyering rimes, uf, chortsislessor Mrs. Filgh i\n"
          ],
          "name": "stdout"
        },
        {
          "output_type": "stream",
          "text": [
            "\r  0%|          | 0/196 [00:00<?, ?it/s]"
          ],
          "name": "stderr"
        },
        {
          "output_type": "stream",
          "text": [
            "generated beam\t\t Harry Potter, Voldemort, and Dumbledore walk into a bar. \"And she?\" he sabd forgotten at the varning crows. \"You several all's what you see I'm softess; Somerbeled callfing sound. There yes. I think you must moved take you .. colled it merveled me. you read\n",
            "\n"
          ],
          "name": "stdout"
        },
        {
          "output_type": "stream",
          "text": [
            "  1%|          | 2/196 [00:00<00:38,  5.08it/s]"
          ],
          "name": "stderr"
        },
        {
          "output_type": "stream",
          "text": [
            "Train Epoch: 6 [0/50176 (0%)]\tLoss: 1.418885\n"
          ],
          "name": "stdout"
        },
        {
          "output_type": "stream",
          "text": [
            "  6%|▌         | 12/196 [00:01<00:20,  9.02it/s]"
          ],
          "name": "stderr"
        },
        {
          "output_type": "stream",
          "text": [
            "Train Epoch: 6 [2560/50176 (5%)]\tLoss: 1.406186\n"
          ],
          "name": "stdout"
        },
        {
          "output_type": "stream",
          "text": [
            " 11%|█         | 22/196 [00:02<00:16, 10.48it/s]"
          ],
          "name": "stderr"
        },
        {
          "output_type": "stream",
          "text": [
            "Train Epoch: 6 [5120/50176 (10%)]\tLoss: 1.459651\n"
          ],
          "name": "stdout"
        },
        {
          "output_type": "stream",
          "text": [
            " 16%|█▋        | 32/196 [00:03<00:15, 10.72it/s]"
          ],
          "name": "stderr"
        },
        {
          "output_type": "stream",
          "text": [
            "Train Epoch: 6 [7680/50176 (15%)]\tLoss: 1.422063\n"
          ],
          "name": "stdout"
        },
        {
          "output_type": "stream",
          "text": [
            " 21%|██▏       | 42/196 [00:04<00:14, 10.80it/s]"
          ],
          "name": "stderr"
        },
        {
          "output_type": "stream",
          "text": [
            "Train Epoch: 6 [10240/50176 (20%)]\tLoss: 1.409834\n"
          ],
          "name": "stdout"
        },
        {
          "output_type": "stream",
          "text": [
            " 27%|██▋       | 52/196 [00:04<00:13, 10.79it/s]"
          ],
          "name": "stderr"
        },
        {
          "output_type": "stream",
          "text": [
            "Train Epoch: 6 [12800/50176 (26%)]\tLoss: 1.408112\n"
          ],
          "name": "stdout"
        },
        {
          "output_type": "stream",
          "text": [
            " 32%|███▏      | 62/196 [00:05<00:12, 10.74it/s]"
          ],
          "name": "stderr"
        },
        {
          "output_type": "stream",
          "text": [
            "Train Epoch: 6 [15360/50176 (31%)]\tLoss: 1.438713\n"
          ],
          "name": "stdout"
        },
        {
          "output_type": "stream",
          "text": [
            " 37%|███▋      | 72/196 [00:06<00:11, 10.74it/s]"
          ],
          "name": "stderr"
        },
        {
          "output_type": "stream",
          "text": [
            "Train Epoch: 6 [17920/50176 (36%)]\tLoss: 1.421798\n"
          ],
          "name": "stdout"
        },
        {
          "output_type": "stream",
          "text": [
            " 42%|████▏     | 82/196 [00:07<00:10, 10.67it/s]"
          ],
          "name": "stderr"
        },
        {
          "output_type": "stream",
          "text": [
            "Train Epoch: 6 [20480/50176 (41%)]\tLoss: 1.417110\n"
          ],
          "name": "stdout"
        },
        {
          "output_type": "stream",
          "text": [
            " 47%|████▋     | 92/196 [00:08<00:09, 10.73it/s]"
          ],
          "name": "stderr"
        },
        {
          "output_type": "stream",
          "text": [
            "Train Epoch: 6 [23040/50176 (46%)]\tLoss: 1.431211\n"
          ],
          "name": "stdout"
        },
        {
          "output_type": "stream",
          "text": [
            " 52%|█████▏    | 102/196 [00:09<00:08, 10.68it/s]"
          ],
          "name": "stderr"
        },
        {
          "output_type": "stream",
          "text": [
            "Train Epoch: 6 [25600/50176 (51%)]\tLoss: 1.421696\n"
          ],
          "name": "stdout"
        },
        {
          "output_type": "stream",
          "text": [
            " 57%|█████▋    | 112/196 [00:10<00:07, 10.61it/s]"
          ],
          "name": "stderr"
        },
        {
          "output_type": "stream",
          "text": [
            "Train Epoch: 6 [28160/50176 (56%)]\tLoss: 1.423021\n"
          ],
          "name": "stdout"
        },
        {
          "output_type": "stream",
          "text": [
            " 62%|██████▏   | 122/196 [00:11<00:06, 10.73it/s]"
          ],
          "name": "stderr"
        },
        {
          "output_type": "stream",
          "text": [
            "Train Epoch: 6 [30720/50176 (61%)]\tLoss: 1.412021\n"
          ],
          "name": "stdout"
        },
        {
          "output_type": "stream",
          "text": [
            " 67%|██████▋   | 132/196 [00:12<00:05, 10.78it/s]"
          ],
          "name": "stderr"
        },
        {
          "output_type": "stream",
          "text": [
            "Train Epoch: 6 [33280/50176 (66%)]\tLoss: 1.395317\n"
          ],
          "name": "stdout"
        },
        {
          "output_type": "stream",
          "text": [
            " 72%|███████▏  | 142/196 [00:13<00:05, 10.70it/s]"
          ],
          "name": "stderr"
        },
        {
          "output_type": "stream",
          "text": [
            "Train Epoch: 6 [35840/50176 (71%)]\tLoss: 1.407821\n"
          ],
          "name": "stdout"
        },
        {
          "output_type": "stream",
          "text": [
            " 78%|███████▊  | 152/196 [00:14<00:04, 10.63it/s]"
          ],
          "name": "stderr"
        },
        {
          "output_type": "stream",
          "text": [
            "Train Epoch: 6 [38400/50176 (77%)]\tLoss: 1.405855\n"
          ],
          "name": "stdout"
        },
        {
          "output_type": "stream",
          "text": [
            " 83%|████████▎ | 162/196 [00:15<00:03, 10.68it/s]"
          ],
          "name": "stderr"
        },
        {
          "output_type": "stream",
          "text": [
            "Train Epoch: 6 [40960/50176 (82%)]\tLoss: 1.418985\n"
          ],
          "name": "stdout"
        },
        {
          "output_type": "stream",
          "text": [
            " 88%|████████▊ | 172/196 [00:16<00:02, 10.59it/s]"
          ],
          "name": "stderr"
        },
        {
          "output_type": "stream",
          "text": [
            "Train Epoch: 6 [43520/50176 (87%)]\tLoss: 1.399814\n"
          ],
          "name": "stdout"
        },
        {
          "output_type": "stream",
          "text": [
            " 93%|█████████▎| 182/196 [00:17<00:01, 10.68it/s]"
          ],
          "name": "stderr"
        },
        {
          "output_type": "stream",
          "text": [
            "Train Epoch: 6 [46080/50176 (92%)]\tLoss: 1.437888\n"
          ],
          "name": "stdout"
        },
        {
          "output_type": "stream",
          "text": [
            " 98%|█████████▊| 192/196 [00:18<00:00, 10.65it/s]"
          ],
          "name": "stderr"
        },
        {
          "output_type": "stream",
          "text": [
            "Train Epoch: 6 [48640/50176 (97%)]\tLoss: 1.464424\n"
          ],
          "name": "stdout"
        },
        {
          "output_type": "stream",
          "text": [
            "100%|██████████| 196/196 [00:18<00:00, 10.62it/s]"
          ],
          "name": "stderr"
        },
        {
          "output_type": "stream",
          "text": [
            "\n",
            "perplexity:  4.127401494157091\n"
          ],
          "name": "stdout"
        },
        {
          "output_type": "stream",
          "text": [
            "\n"
          ],
          "name": "stderr"
        },
        {
          "output_type": "stream",
          "text": [
            "Input\tonly way left to get water, because Voldemort had planned it so ... He flung himself over to the edg\n",
            "GT\tnly way left to get water, because Voldemort had planned it so ... He flung himself over to the edge\n",
            "pred\tuey oas iitt th sot thler  tucause yoldemort wad suacted tn iomt.. aarsiang tim elf oner th she snge\n",
            "\n",
            "\n",
            "Input\ts that had his arm. It released him, falling backward into the water with a splash; he scrambled to \n",
            "GT\t that had his arm. It released him, falling backward into the water with a splash; he scrambled to h\n",
            "pred\t mhat sed sem mlm  \"t weaeated tim  hoiling alck ard tnto the saler ohth h stratt  oe sarambeed oo s\n",
            "\n",
            "\n",
            "Input\tath, and his feet left the ground as they lifted him and began to carry him, slowly and surely, back\n",
            "GT\tth, and his feet left the ground as they lifted him and began to carry him, slowly and surely, back \n",
            "pred\tdh  wnd iem miet sitt the soound tn the  wikeed tim ind sefan to soreiiiim  hhiwly ttd stre y  auck \n",
            "\n",
            "\n",
            "Input\t . . . Dumbledore scooped the locket from the bottom of the stone basin and stowed it inside his rob\n",
            "GT\t. . . Dumbledore scooped the locket from the bottom of the stone basin and stowed it inside his robe\n",
            "pred\t\" . . yumbledore sorrded toe siok d ooom the soytlm of the stane socinetnd stapad tt inttde tim mobe\n",
            "\n",
            "\n",
            "Input\t\"sir, I forgot -- about fire -- they were coming at me and I panicked --\" \"Quite understandable,\" mu\n",
            "GT\tsir, I forgot -- about fire -- they were coming at me and I panicked --\" \"Quite understandable,\" mur\n",
            "pred\tIor, y dougot t  ynout yorsny- yher ware soning tn ty tnd s wusts ed t   \"Iurte ssderstand tle   sut\n",
            "\n",
            "\n",
            "\n",
            "Test set: Average loss: 1.4533, Accuracy: 710704/1254400 (57%)\n",
            "\n",
            "generated max\t\t Harry Potter, Voldemort, and Dumbledore walk into a bar. \"I want to stay anything in the stairs of the stairs of the stairs of the stairs of the stairs of the stairs of the stairs of the stairs of the stairs of the stairs of the stairs of the stairs of the \n",
            "generated sample\t Harry Potter, Voldemort, and Dumbledore walk into a bar. That they're that of what youngeriou later teap It'll   I that's willsided quiddyelong,\" ssimphed on The blood of clodd place my once. . . like you went everyone finchers croybed it?\" she said expecti\n",
            "generated sample\t Harry Potter, Voldemort, and Dumbledore walk into a bar. \"What?\" She still hoped its from the diary mind to you thinks bit you? I know? Harry's badgest litwer more the willbow to Goods would one the boylot, Gilf you?\"  \"Beachers faced you?\" \"Pactive mi'd yo\n",
            "generated sample\t Harry Potter, Voldemort, and Dumbledore walk into a bar.  \"Mr jut thind beeper do, placed to you?\" said Harry a bittering hoftering her lip puff, who had had jiving that twised mild there my .\" \"What you're nichense to himself...\" shakperened the selent you\n",
            "generated sample\t Harry Potter, Voldemort, and Dumbledore walk into a bar. Tonato the right shall of able, telling off another illegs important imporviing, Ron wondered? I was sorated's brandding her infolving cuSting on what everyone tell you all! I mather indiselt diff whe\n",
            "generated sample\t Harry Potter, Voldemort, and Dumbledore walk into a bar. \"INm you,\" said Slub, still convied him. UKbairfust ever set me time horrible what it if her read, Then secial everything, nichans up which, when you know nodding somethings. Now.\"  Hagrid ru not voic\n",
            "generated sample\t Harry Potter, Voldemort, and Dumbledore walk into a bar. There you've got formations, I want all after here in five who shalled impertacant the %yonagan was on the fleborias scrately classed something abruierely eyes give slow- you not allowed Kirthrey?\"  \"\n",
            "generated sample\t Harry Potter, Voldemort, and Dumbledore walk into a bar.  \" .. bothered it?\" said Snaper, reading by think, why would know shack look,\" said Hagmin sirpently. A fire moved the now, not fine Moyteleff's measley interveteline that then stuped sliggled in the \n",
            "generated sample\t Harry Potter, Voldemort, and Dumbledore walk into a bar.   \"She worrt you, draggoy, you're himsed everything that,\" said Hagrid. Hooking voice at these first clearful behile, you can him itside on --,\" \"Oh!\" said Snape looked into Furble. Erim turned oper t\n",
            "generated sample\t Harry Potter, Voldemort, and Dumbledore walk into a bar. . . all the corner of redictionally over the veest muttering to task you like Professor Obbarans, there was ordec something agains Still withoreboloceping mirrol... so, who could stripped to roading f\n",
            "generated sample\t Harry Potter, Voldemort, and Dumbledore walk into a bar. APatters was pitch mire by here it far a - there was stunned does nogicing the nexploes now, anyoged more impostions on the mastericle of deaths o wast-filling inverenti clainfing the door of the car.\n"
          ],
          "name": "stdout"
        },
        {
          "output_type": "stream",
          "text": [
            "\r  0%|          | 0/196 [00:00<?, ?it/s]"
          ],
          "name": "stderr"
        },
        {
          "output_type": "stream",
          "text": [
            "generated beam\t\t Harry Potter, Voldemort, and Dumbledore walk into a bar. \"  \"What you reacher that's before Snapelle she, six you won't!\" said Hagrid. \"Harry much from Krustachols.\"  \"Welified, he's canstinessor?\" said Harry out on the swileroard. \"It's offention out of th\n",
            "\n"
          ],
          "name": "stdout"
        },
        {
          "output_type": "stream",
          "text": [
            "  1%|          | 2/196 [00:00<00:37,  5.11it/s]"
          ],
          "name": "stderr"
        },
        {
          "output_type": "stream",
          "text": [
            "Train Epoch: 7 [0/50176 (0%)]\tLoss: 1.444025\n"
          ],
          "name": "stdout"
        },
        {
          "output_type": "stream",
          "text": [
            "  6%|▌         | 12/196 [00:01<00:20,  8.99it/s]"
          ],
          "name": "stderr"
        },
        {
          "output_type": "stream",
          "text": [
            "Train Epoch: 7 [2560/50176 (5%)]\tLoss: 1.399645\n"
          ],
          "name": "stdout"
        },
        {
          "output_type": "stream",
          "text": [
            " 11%|█         | 22/196 [00:02<00:16, 10.39it/s]"
          ],
          "name": "stderr"
        },
        {
          "output_type": "stream",
          "text": [
            "Train Epoch: 7 [5120/50176 (10%)]\tLoss: 1.463417\n"
          ],
          "name": "stdout"
        },
        {
          "output_type": "stream",
          "text": [
            " 16%|█▋        | 32/196 [00:03<00:15, 10.69it/s]"
          ],
          "name": "stderr"
        },
        {
          "output_type": "stream",
          "text": [
            "Train Epoch: 7 [7680/50176 (15%)]\tLoss: 1.433945\n"
          ],
          "name": "stdout"
        },
        {
          "output_type": "stream",
          "text": [
            " 21%|██▏       | 42/196 [00:04<00:14, 10.70it/s]"
          ],
          "name": "stderr"
        },
        {
          "output_type": "stream",
          "text": [
            "Train Epoch: 7 [10240/50176 (20%)]\tLoss: 1.402092\n"
          ],
          "name": "stdout"
        },
        {
          "output_type": "stream",
          "text": [
            " 27%|██▋       | 52/196 [00:05<00:13, 10.74it/s]"
          ],
          "name": "stderr"
        },
        {
          "output_type": "stream",
          "text": [
            "Train Epoch: 7 [12800/50176 (26%)]\tLoss: 1.395275\n"
          ],
          "name": "stdout"
        },
        {
          "output_type": "stream",
          "text": [
            " 32%|███▏      | 62/196 [00:05<00:12, 10.70it/s]"
          ],
          "name": "stderr"
        },
        {
          "output_type": "stream",
          "text": [
            "Train Epoch: 7 [15360/50176 (31%)]\tLoss: 1.411276\n"
          ],
          "name": "stdout"
        },
        {
          "output_type": "stream",
          "text": [
            " 37%|███▋      | 72/196 [00:06<00:11, 10.61it/s]"
          ],
          "name": "stderr"
        },
        {
          "output_type": "stream",
          "text": [
            "Train Epoch: 7 [17920/50176 (36%)]\tLoss: 1.432678\n"
          ],
          "name": "stdout"
        },
        {
          "output_type": "stream",
          "text": [
            " 42%|████▏     | 82/196 [00:07<00:10, 10.65it/s]"
          ],
          "name": "stderr"
        },
        {
          "output_type": "stream",
          "text": [
            "Train Epoch: 7 [20480/50176 (41%)]\tLoss: 1.400907\n"
          ],
          "name": "stdout"
        },
        {
          "output_type": "stream",
          "text": [
            " 47%|████▋     | 92/196 [00:08<00:09, 10.66it/s]"
          ],
          "name": "stderr"
        },
        {
          "output_type": "stream",
          "text": [
            "Train Epoch: 7 [23040/50176 (46%)]\tLoss: 1.390483\n"
          ],
          "name": "stdout"
        },
        {
          "output_type": "stream",
          "text": [
            " 52%|█████▏    | 102/196 [00:09<00:08, 10.69it/s]"
          ],
          "name": "stderr"
        },
        {
          "output_type": "stream",
          "text": [
            "Train Epoch: 7 [25600/50176 (51%)]\tLoss: 1.410492\n"
          ],
          "name": "stdout"
        },
        {
          "output_type": "stream",
          "text": [
            " 57%|█████▋    | 112/196 [00:10<00:07, 10.70it/s]"
          ],
          "name": "stderr"
        },
        {
          "output_type": "stream",
          "text": [
            "Train Epoch: 7 [28160/50176 (56%)]\tLoss: 1.414519\n"
          ],
          "name": "stdout"
        },
        {
          "output_type": "stream",
          "text": [
            " 62%|██████▏   | 122/196 [00:11<00:06, 10.60it/s]"
          ],
          "name": "stderr"
        },
        {
          "output_type": "stream",
          "text": [
            "Train Epoch: 7 [30720/50176 (61%)]\tLoss: 1.428578\n"
          ],
          "name": "stdout"
        },
        {
          "output_type": "stream",
          "text": [
            " 67%|██████▋   | 132/196 [00:12<00:06, 10.64it/s]"
          ],
          "name": "stderr"
        },
        {
          "output_type": "stream",
          "text": [
            "Train Epoch: 7 [33280/50176 (66%)]\tLoss: 1.386277\n"
          ],
          "name": "stdout"
        },
        {
          "output_type": "stream",
          "text": [
            " 72%|███████▏  | 142/196 [00:13<00:05, 10.57it/s]"
          ],
          "name": "stderr"
        },
        {
          "output_type": "stream",
          "text": [
            "Train Epoch: 7 [35840/50176 (71%)]\tLoss: 1.436769\n"
          ],
          "name": "stdout"
        },
        {
          "output_type": "stream",
          "text": [
            " 78%|███████▊  | 152/196 [00:14<00:04, 10.64it/s]"
          ],
          "name": "stderr"
        },
        {
          "output_type": "stream",
          "text": [
            "Train Epoch: 7 [38400/50176 (77%)]\tLoss: 1.400788\n"
          ],
          "name": "stdout"
        },
        {
          "output_type": "stream",
          "text": [
            " 83%|████████▎ | 162/196 [00:15<00:03, 10.62it/s]"
          ],
          "name": "stderr"
        },
        {
          "output_type": "stream",
          "text": [
            "Train Epoch: 7 [40960/50176 (82%)]\tLoss: 1.415163\n"
          ],
          "name": "stdout"
        },
        {
          "output_type": "stream",
          "text": [
            " 88%|████████▊ | 172/196 [00:16<00:02, 10.65it/s]"
          ],
          "name": "stderr"
        },
        {
          "output_type": "stream",
          "text": [
            "Train Epoch: 7 [43520/50176 (87%)]\tLoss: 1.397210\n"
          ],
          "name": "stdout"
        },
        {
          "output_type": "stream",
          "text": [
            " 93%|█████████▎| 182/196 [00:17<00:01, 10.64it/s]"
          ],
          "name": "stderr"
        },
        {
          "output_type": "stream",
          "text": [
            "Train Epoch: 7 [46080/50176 (92%)]\tLoss: 1.414036\n"
          ],
          "name": "stdout"
        },
        {
          "output_type": "stream",
          "text": [
            " 98%|█████████▊| 192/196 [00:18<00:00, 10.59it/s]"
          ],
          "name": "stderr"
        },
        {
          "output_type": "stream",
          "text": [
            "Train Epoch: 7 [48640/50176 (97%)]\tLoss: 1.425518\n"
          ],
          "name": "stdout"
        },
        {
          "output_type": "stream",
          "text": [
            "100%|██████████| 196/196 [00:18<00:00, 10.57it/s]"
          ],
          "name": "stderr"
        },
        {
          "output_type": "stream",
          "text": [
            "\n",
            "perplexity:  4.096891444099915\n"
          ],
          "name": "stdout"
        },
        {
          "output_type": "stream",
          "text": [
            "\n"
          ],
          "name": "stderr"
        },
        {
          "output_type": "stream",
          "text": [
            "Input\tonly way left to get water, because Voldemort had planned it so ... He flung himself over to the edg\n",
            "GT\tnly way left to get water, because Voldemort had planned it so ... He flung himself over to the edge\n",
            "pred\tuey shs toat th tot thler  aucause toldemort sad suacted tn womt . ae soang tem elf tner th the snge\n",
            "\n",
            "\n",
            "Input\ts that had his arm. It released him, falling backward into the water with a splash; he scrambled to \n",
            "GT\t that had his arm. It released him, falling backward into the water with a splash; he scrambled to h\n",
            "pred\t shat sed ses srm  \"  weaeased tim  aoiling alck ard tnto the saler ahth h stratt  se sarambled oo h\n",
            "\n",
            "\n",
            "Input\tath, and his feet left the ground as they lifted him and began to carry him, slowly and surely, back\n",
            "GT\tth, and his feet left the ground as they lifted him and began to carry him, slowly and surely, back \n",
            "pred\tdh  and ses saet soat the sround sn the  sokeed tim and sefan to sorei aim  ahiwly atd stde y  auck \n",
            "\n",
            "\n",
            "Input\t . . . Dumbledore scooped the locket from the bottom of the stone basin and stowed it inside his rob\n",
            "GT\t. . . Dumbledore scooped the locket from the bottom of the stone basin and stowed it inside his robe\n",
            "pred\t\" . . .umbledore saroded toe siok d aoom the soytlm of the stane slcin snd staoad tn wntide tim mobe\n",
            "\n",
            "\n",
            "Input\t\"sir, I forgot -- about fire -- they were coming at me and I panicked --\" \"Quite understandable,\" mu\n",
            "GT\tsir, I forgot -- about fire -- they were coming at me and I panicked --\" \"Quite understandable,\" mur\n",
            "pred\tIor, a douget t  Inout tons m- \"he  ware slning sn te tnd s dusts ed t   \"Iuide ssderstand yle   set\n",
            "\n",
            "\n",
            "\n",
            "Test set: Average loss: 1.4215, Accuracy: 726341/1254400 (58%)\n",
            "\n",
            "Saved /content/checkpoints/007.pt\n",
            "\n",
            "generated max\t\t Harry Potter, Voldemort, and Dumbledore walk into a bar. \"I don't see you something something something something something something something something something something something something something something something something something something som\n",
            "generated sample\t Harry Potter, Voldemort, and Dumbledore walk into a bar. \"Meany felt you got you second?\" \"Get and sevent you --\"  I think that I made something my decide again,\" he showed using the frict stunned in a great start informtous jraup, he had torgued the while \n",
            "generated sample\t Harry Potter, Voldemort, and Dumbledore walk into a bar. The sime of those whoard out of his lift, snaping \"out if you enchant boyove gru-ts sever you me to escape here of the Muggle mouthbee    \"who Flish was sobby open. Professor Dumbledore scrambled Krow\n",
            "generated sample\t Harry Potter, Voldemort, and Dumbledore walk into a bar. \"What?\" \"That?\" Snape snipped shakily skmetink Harry anough of chair. I don't sweak in stam to go into a way to the Edgam Hooding scrangled somes and Ponestre amound.. . and he saw \"Hagrid something! \n",
            "generated sample\t Harry Potter, Voldemort, and Dumbledore walk into a bar. . .\"  \" he saw quialis; while the place. \"Anly bad how well,\" said MrAvime Harry. \"And talking -\" Harry.  \"Occan Kargina Merty ~old -'ranstunish Voldemine Frobbett's fea blumins noise that's he siring\n",
            "generated sample\t Harry Potter, Voldemort, and Dumbledore walk into a bar. Mr. Voban. She's shut-form that slyy had had got one of How Dumbledore a mouth o' simpled, he tooked Bolchcement and prowed From Grumfycho, Potter was sale, after almoned Now, who shood her. Ductublet\n",
            "generated sample\t Harry Potter, Voldemort, and Dumbledore walk into a bar. Snappansible somewhere. And who smessiged on the stood at dow round to umutting slips looking at a porten to bed. \"Und you go and a fire sile you meant if it, But I was swalling,\" said Fateril... you \n",
            "generated sample\t Harry Potter, Voldemort, and Dumbledore walk into a bar. Poldowed dropes blulding out a now her bed stuping slipping a standely blunder unding at Dumbledore.  He saw Ron was placing umbroge and interrited mine years, then anopy had alive A mind hurried a Pr\n",
            "generated sample\t Harry Potter, Voldemort, and Dumbledore walk into a bar. I did you know that I wondered Madam Romes down though she not,\" said Harry and his mouth and Frange Unf Mavan and Ron and Hagrid stared almoyted toward ErcGbal\" \"Forg decents in shortling your some -\n",
            "generated sample\t Harry Potter, Voldemort, and Dumbledore walk into a bar. Hermione was slidy flup ornensibeling innocened up and gnown as though he wasned shaving to whet Lou-Harry you lucky Bread time to read Furius Duborise twing you've very dueshered me. And sway on forc\n",
            "generated sample\t Harry Potter, Voldemort, and Dumbledore walk into a bar.  \"Muggles from the {lith I can do bad most. \"That everathag'll be with Harry Now How mean room much like Fille's head moated, that shadong filkher for him, back in the grounds, at now rooks around the\n"
          ],
          "name": "stdout"
        },
        {
          "output_type": "stream",
          "text": [
            "\r  0%|          | 0/196 [00:00<?, ?it/s]"
          ],
          "name": "stderr"
        },
        {
          "output_type": "stream",
          "text": [
            "generated beam\t\t Harry Potter, Voldemort, and Dumbledore walk into a bar. e was dinneling as Dudley beside 1grinnised now Concentrates, cludging to his Hagrif. \"Shadowy, did indeeds more times his mottever read. \"You screed, What a pomeme sideal door of herver metail, \"Harr\n",
            "\n"
          ],
          "name": "stdout"
        },
        {
          "output_type": "stream",
          "text": [
            "  1%|          | 2/196 [00:00<00:40,  4.85it/s]"
          ],
          "name": "stderr"
        },
        {
          "output_type": "stream",
          "text": [
            "Train Epoch: 8 [0/50176 (0%)]\tLoss: 1.416737\n"
          ],
          "name": "stdout"
        },
        {
          "output_type": "stream",
          "text": [
            "  6%|▌         | 12/196 [00:01<00:20,  8.88it/s]"
          ],
          "name": "stderr"
        },
        {
          "output_type": "stream",
          "text": [
            "Train Epoch: 8 [2560/50176 (5%)]\tLoss: 1.392871\n"
          ],
          "name": "stdout"
        },
        {
          "output_type": "stream",
          "text": [
            " 11%|█         | 22/196 [00:02<00:16, 10.30it/s]"
          ],
          "name": "stderr"
        },
        {
          "output_type": "stream",
          "text": [
            "Train Epoch: 8 [5120/50176 (10%)]\tLoss: 1.440098\n"
          ],
          "name": "stdout"
        },
        {
          "output_type": "stream",
          "text": [
            " 16%|█▋        | 32/196 [00:03<00:15, 10.70it/s]"
          ],
          "name": "stderr"
        },
        {
          "output_type": "stream",
          "text": [
            "Train Epoch: 8 [7680/50176 (15%)]\tLoss: 1.425894\n"
          ],
          "name": "stdout"
        },
        {
          "output_type": "stream",
          "text": [
            " 21%|██▏       | 42/196 [00:04<00:14, 10.62it/s]"
          ],
          "name": "stderr"
        },
        {
          "output_type": "stream",
          "text": [
            "Train Epoch: 8 [10240/50176 (20%)]\tLoss: 1.403156\n"
          ],
          "name": "stdout"
        },
        {
          "output_type": "stream",
          "text": [
            " 27%|██▋       | 52/196 [00:05<00:13, 10.67it/s]"
          ],
          "name": "stderr"
        },
        {
          "output_type": "stream",
          "text": [
            "Train Epoch: 8 [12800/50176 (26%)]\tLoss: 1.406050\n"
          ],
          "name": "stdout"
        },
        {
          "output_type": "stream",
          "text": [
            " 32%|███▏      | 62/196 [00:05<00:12, 10.66it/s]"
          ],
          "name": "stderr"
        },
        {
          "output_type": "stream",
          "text": [
            "Train Epoch: 8 [15360/50176 (31%)]\tLoss: 1.399713\n"
          ],
          "name": "stdout"
        },
        {
          "output_type": "stream",
          "text": [
            " 37%|███▋      | 72/196 [00:06<00:11, 10.62it/s]"
          ],
          "name": "stderr"
        },
        {
          "output_type": "stream",
          "text": [
            "Train Epoch: 8 [17920/50176 (36%)]\tLoss: 1.404567\n"
          ],
          "name": "stdout"
        },
        {
          "output_type": "stream",
          "text": [
            " 42%|████▏     | 82/196 [00:07<00:10, 10.62it/s]"
          ],
          "name": "stderr"
        },
        {
          "output_type": "stream",
          "text": [
            "Train Epoch: 8 [20480/50176 (41%)]\tLoss: 1.386733\n"
          ],
          "name": "stdout"
        },
        {
          "output_type": "stream",
          "text": [
            " 47%|████▋     | 92/196 [00:08<00:09, 10.63it/s]"
          ],
          "name": "stderr"
        },
        {
          "output_type": "stream",
          "text": [
            "Train Epoch: 8 [23040/50176 (46%)]\tLoss: 1.407789\n"
          ],
          "name": "stdout"
        },
        {
          "output_type": "stream",
          "text": [
            " 52%|█████▏    | 102/196 [00:09<00:08, 10.65it/s]"
          ],
          "name": "stderr"
        },
        {
          "output_type": "stream",
          "text": [
            "Train Epoch: 8 [25600/50176 (51%)]\tLoss: 1.474358\n"
          ],
          "name": "stdout"
        },
        {
          "output_type": "stream",
          "text": [
            " 57%|█████▋    | 112/196 [00:10<00:07, 10.67it/s]"
          ],
          "name": "stderr"
        },
        {
          "output_type": "stream",
          "text": [
            "Train Epoch: 8 [28160/50176 (56%)]\tLoss: 1.421269\n"
          ],
          "name": "stdout"
        },
        {
          "output_type": "stream",
          "text": [
            " 62%|██████▏   | 122/196 [00:11<00:07, 10.56it/s]"
          ],
          "name": "stderr"
        },
        {
          "output_type": "stream",
          "text": [
            "Train Epoch: 8 [30720/50176 (61%)]\tLoss: 1.396441\n"
          ],
          "name": "stdout"
        },
        {
          "output_type": "stream",
          "text": [
            " 67%|██████▋   | 132/196 [00:12<00:05, 10.67it/s]"
          ],
          "name": "stderr"
        },
        {
          "output_type": "stream",
          "text": [
            "Train Epoch: 8 [33280/50176 (66%)]\tLoss: 1.377027\n"
          ],
          "name": "stdout"
        },
        {
          "output_type": "stream",
          "text": [
            " 72%|███████▏  | 142/196 [00:13<00:05, 10.55it/s]"
          ],
          "name": "stderr"
        },
        {
          "output_type": "stream",
          "text": [
            "Train Epoch: 8 [35840/50176 (71%)]\tLoss: 1.409522\n"
          ],
          "name": "stdout"
        },
        {
          "output_type": "stream",
          "text": [
            " 78%|███████▊  | 152/196 [00:14<00:04, 10.53it/s]"
          ],
          "name": "stderr"
        },
        {
          "output_type": "stream",
          "text": [
            "Train Epoch: 8 [38400/50176 (77%)]\tLoss: 1.389159\n"
          ],
          "name": "stdout"
        },
        {
          "output_type": "stream",
          "text": [
            " 83%|████████▎ | 162/196 [00:15<00:03, 10.60it/s]"
          ],
          "name": "stderr"
        },
        {
          "output_type": "stream",
          "text": [
            "Train Epoch: 8 [40960/50176 (82%)]\tLoss: 1.417753\n"
          ],
          "name": "stdout"
        },
        {
          "output_type": "stream",
          "text": [
            " 88%|████████▊ | 172/196 [00:16<00:02, 10.62it/s]"
          ],
          "name": "stderr"
        },
        {
          "output_type": "stream",
          "text": [
            "Train Epoch: 8 [43520/50176 (87%)]\tLoss: 1.383717\n"
          ],
          "name": "stdout"
        },
        {
          "output_type": "stream",
          "text": [
            " 93%|█████████▎| 182/196 [00:17<00:01, 10.60it/s]"
          ],
          "name": "stderr"
        },
        {
          "output_type": "stream",
          "text": [
            "Train Epoch: 8 [46080/50176 (92%)]\tLoss: 1.415933\n"
          ],
          "name": "stdout"
        },
        {
          "output_type": "stream",
          "text": [
            " 98%|█████████▊| 192/196 [00:18<00:00, 10.60it/s]"
          ],
          "name": "stderr"
        },
        {
          "output_type": "stream",
          "text": [
            "Train Epoch: 8 [48640/50176 (97%)]\tLoss: 1.415884\n"
          ],
          "name": "stdout"
        },
        {
          "output_type": "stream",
          "text": [
            "100%|██████████| 196/196 [00:18<00:00, 10.53it/s]"
          ],
          "name": "stderr"
        },
        {
          "output_type": "stream",
          "text": [
            "\n",
            "perplexity:  4.073101363329757\n"
          ],
          "name": "stdout"
        },
        {
          "output_type": "stream",
          "text": [
            "\n"
          ],
          "name": "stderr"
        },
        {
          "output_type": "stream",
          "text": [
            "Input\tonly way left to get water, because Voldemort had planned it so ... He flung himself over to the edg\n",
            "GT\tnly way left to get water, because Voldemort had planned it so ... He flung himself over to the edge\n",
            "pred\tuey ohl toat th tot thler  aucause yoldemort wad nuacted tn iomt . te woang tim elf ouer th the dnge\n",
            "\n",
            "\n",
            "Input\ts that had his arm. It released him, falling backward into the water with a splash; he scrambled to \n",
            "GT\t that had his arm. It released him, falling backward into the water with a splash; he scrambled to h\n",
            "pred\t Mhet hed bes slm   t weaiated tim  aoiling alck ard tnto the caler ahth h ctlitt  oe sarambled oo t\n",
            "\n",
            "\n",
            "Input\tath, and his feet left the ground as they lifted him and began to carry him, slowly and surely, back\n",
            "GT\tth, and his feet left the ground as they lifted him and began to carry him, slowly and surely, back \n",
            "pred\tdh  and tes mlet aoat the clound on the  wokeed tim and selan to solei aim  ahiwly atd shre y  auck \n",
            "\n",
            "\n",
            "Input\t . . . Dumbledore scooped the locket from the bottom of the stone basin and stowed it inside his rob\n",
            "GT\t. . . Dumbledore scooped the locket from the bottom of the stone basin and stowed it inside his robe\n",
            "pred\t\" . . .umbledore soroled toe diok d ooom the doytlm of the ccane slcin ond shaoad tn antide tim mobe\n",
            "\n",
            "\n",
            "Input\t\"sir, I forgot -- about fire -- they were coming at me and I panicked --\" \"Quite understandable,\" mu\n",
            "GT\tsir, I forgot -- about fire -- they were coming at me and I panicked --\" \"Quite understandable,\" mur\n",
            "pred\tIor, y douget t  Inout yons y- Ihe  ware slling tl te tld t wusts ed t   \"Iuite ssderstand yle   sut\n",
            "\n",
            "\n",
            "\n",
            "Test set: Average loss: 1.4153, Accuracy: 725670/1254400 (58%)\n",
            "\n",
            "generated max\t\t Harry Potter, Voldemort, and Dumbledore walk into a bar.  \"I don't know what you can the door where you can the door where you can the door where you can the door where you can the door where you can the door where you can the door where you can the door wh\n",
            "generated sample\t Harry Potter, Voldemort, and Dumbledore walk into a bar. Hermione Coversable Marvot \"Blass frony four the mouncies in his explacented someliced to what she likes back into her laugh mounting walkily around the tonit worried into the nose, then his glass mak\n",
            "generated sample\t Harry Potter, Voldemort, and Dumbledore walk into a bar. My dog't oncenter attacked to cure you it'lou-jone her traile you faiced near where - That's I both milung when Duck blud's houreden down chappely inter Ministraish --\" \"What's ready now,\" said Harry \n",
            "generated sample\t Harry Potter, Voldemort, and Dumbledore walk into a bar. They even sat jubing alare of him, loosed to ghe.  \"There was in chase. \"Harry you did what that's potticusen and us in dye, ef and you and unfact footain all why I never haven't know anything one of \n",
            "generated sample\t Harry Potter, Voldemort, and Dumbledore walk into a bar. On fiurt of the Muggoms had never seen like a Head-ment once you you alsoke life shall in all those our Mrstal Ectoped I oken't shaped how much mean where the Mile Lurins informed to for sime old... n\n",
            "generated sample\t Harry Potter, Voldemort, and Dumbledore walk into a bar.  \"- huping Snape around it; she only plaser'   \"Oh. I'm only worrible being when Harry scrungs Mrs, Same why here Mrsfaggen hearted out when:! at ellet met, our flashing, the something inforgations th\n",
            "generated sample\t Harry Potter, Voldemort, and Dumbledore walk into a bar. Aback the mouth of the old about up the attomutation wherepereams faced aloualith who had now lyine, so doing another when he Howered Dirtns Lording Malfoyin and boy sucrumbly accountment out of the A\n",
            "generated sample\t Harry Potter, Voldemort, and Dumbledore walk into a bar. He looked and out a ripsing belide some of toor onto the dormitories 'your Prings.\" He drewsed Szeating Ron avodital cloak. \"What defore who sleeped more mettine the twins all read Mr.\" Mum. OR-   tha\n",
            "generated sample\t Harry Potter, Voldemort, and Dumbledore walk into a bar. \"Rur in Pxtunaball!\"  This screamed who hurrily of fier the kinnor glassed untal Harry Harry   I am Coffite hand the sere something very had all refeet you ask the much dooring the day of the coutqeri\n",
            "generated sample\t Harry Potter, Voldemort, and Dumbledore walk into a bar. The libots meath was as he didn't under himself tortune the floor whole of the corridion elf's sitting of almost appeared to second her potien with out or the coursinns. \"You don't know you're I've --\n",
            "generated sample\t Harry Potter, Voldemort, and Dumbledore walk into a bar. \"Shap -\" ICm winnou all give me 'malfoy -- I'll go vinny's feet to /urrys\" I'zenthing. Voyly bedath he hadn't say!\" said Chrosely to a statien swalling. Harry' gotten make a loe of ten as the DrunlyOr\n"
          ],
          "name": "stdout"
        },
        {
          "output_type": "stream",
          "text": [
            "\r  0%|          | 0/196 [00:00<?, ?it/s]"
          ],
          "name": "stderr"
        },
        {
          "output_type": "stream",
          "text": [
            "generated beam\t\t Harry Potter, Voldemort, and Dumbledore walk into a bar. oting blush in the floor of her onk   a bir office, allays and raised. \"Groffind Olftic was sometting me-time Mernice was a gold my face Ron and Ron.\" whispered nor exain howletch hit Harry and Black \n",
            "\n"
          ],
          "name": "stdout"
        },
        {
          "output_type": "stream",
          "text": [
            "  1%|          | 2/196 [00:00<00:38,  5.08it/s]"
          ],
          "name": "stderr"
        },
        {
          "output_type": "stream",
          "text": [
            "Train Epoch: 9 [0/50176 (0%)]\tLoss: 1.408946\n"
          ],
          "name": "stdout"
        },
        {
          "output_type": "stream",
          "text": [
            "  6%|▌         | 12/196 [00:01<00:20,  9.14it/s]"
          ],
          "name": "stderr"
        },
        {
          "output_type": "stream",
          "text": [
            "Train Epoch: 9 [2560/50176 (5%)]\tLoss: 1.386157\n"
          ],
          "name": "stdout"
        },
        {
          "output_type": "stream",
          "text": [
            " 11%|█         | 22/196 [00:02<00:16, 10.47it/s]"
          ],
          "name": "stderr"
        },
        {
          "output_type": "stream",
          "text": [
            "Train Epoch: 9 [5120/50176 (10%)]\tLoss: 1.423954\n"
          ],
          "name": "stdout"
        },
        {
          "output_type": "stream",
          "text": [
            " 16%|█▋        | 32/196 [00:03<00:15, 10.67it/s]"
          ],
          "name": "stderr"
        },
        {
          "output_type": "stream",
          "text": [
            "Train Epoch: 9 [7680/50176 (15%)]\tLoss: 1.411168\n"
          ],
          "name": "stdout"
        },
        {
          "output_type": "stream",
          "text": [
            " 21%|██▏       | 42/196 [00:04<00:14, 10.69it/s]"
          ],
          "name": "stderr"
        },
        {
          "output_type": "stream",
          "text": [
            "Train Epoch: 9 [10240/50176 (20%)]\tLoss: 1.406347\n"
          ],
          "name": "stdout"
        },
        {
          "output_type": "stream",
          "text": [
            " 27%|██▋       | 52/196 [00:04<00:13, 10.70it/s]"
          ],
          "name": "stderr"
        },
        {
          "output_type": "stream",
          "text": [
            "Train Epoch: 9 [12800/50176 (26%)]\tLoss: 1.405359\n"
          ],
          "name": "stdout"
        },
        {
          "output_type": "stream",
          "text": [
            " 32%|███▏      | 62/196 [00:05<00:12, 10.71it/s]"
          ],
          "name": "stderr"
        },
        {
          "output_type": "stream",
          "text": [
            "Train Epoch: 9 [15360/50176 (31%)]\tLoss: 1.408768\n"
          ],
          "name": "stdout"
        },
        {
          "output_type": "stream",
          "text": [
            " 37%|███▋      | 72/196 [00:06<00:11, 10.63it/s]"
          ],
          "name": "stderr"
        },
        {
          "output_type": "stream",
          "text": [
            "Train Epoch: 9 [17920/50176 (36%)]\tLoss: 1.414738\n"
          ],
          "name": "stdout"
        },
        {
          "output_type": "stream",
          "text": [
            " 42%|████▏     | 82/196 [00:07<00:10, 10.67it/s]"
          ],
          "name": "stderr"
        },
        {
          "output_type": "stream",
          "text": [
            "Train Epoch: 9 [20480/50176 (41%)]\tLoss: 1.386212\n"
          ],
          "name": "stdout"
        },
        {
          "output_type": "stream",
          "text": [
            " 47%|████▋     | 92/196 [00:08<00:09, 10.64it/s]"
          ],
          "name": "stderr"
        },
        {
          "output_type": "stream",
          "text": [
            "Train Epoch: 9 [23040/50176 (46%)]\tLoss: 1.387913\n"
          ],
          "name": "stdout"
        },
        {
          "output_type": "stream",
          "text": [
            " 52%|█████▏    | 102/196 [00:09<00:08, 10.64it/s]"
          ],
          "name": "stderr"
        },
        {
          "output_type": "stream",
          "text": [
            "Train Epoch: 9 [25600/50176 (51%)]\tLoss: 1.410535\n"
          ],
          "name": "stdout"
        },
        {
          "output_type": "stream",
          "text": [
            " 57%|█████▋    | 112/196 [00:10<00:07, 10.60it/s]"
          ],
          "name": "stderr"
        },
        {
          "output_type": "stream",
          "text": [
            "Train Epoch: 9 [28160/50176 (56%)]\tLoss: 1.400190\n"
          ],
          "name": "stdout"
        },
        {
          "output_type": "stream",
          "text": [
            " 62%|██████▏   | 122/196 [00:11<00:06, 10.63it/s]"
          ],
          "name": "stderr"
        },
        {
          "output_type": "stream",
          "text": [
            "Train Epoch: 9 [30720/50176 (61%)]\tLoss: 1.392886\n"
          ],
          "name": "stdout"
        },
        {
          "output_type": "stream",
          "text": [
            " 67%|██████▋   | 132/196 [00:12<00:06, 10.53it/s]"
          ],
          "name": "stderr"
        },
        {
          "output_type": "stream",
          "text": [
            "Train Epoch: 9 [33280/50176 (66%)]\tLoss: 1.373500\n"
          ],
          "name": "stdout"
        },
        {
          "output_type": "stream",
          "text": [
            " 72%|███████▏  | 142/196 [00:13<00:05, 10.60it/s]"
          ],
          "name": "stderr"
        },
        {
          "output_type": "stream",
          "text": [
            "Train Epoch: 9 [35840/50176 (71%)]\tLoss: 1.402192\n"
          ],
          "name": "stdout"
        },
        {
          "output_type": "stream",
          "text": [
            " 78%|███████▊  | 152/196 [00:14<00:04, 10.63it/s]"
          ],
          "name": "stderr"
        },
        {
          "output_type": "stream",
          "text": [
            "Train Epoch: 9 [38400/50176 (77%)]\tLoss: 1.412989\n"
          ],
          "name": "stdout"
        },
        {
          "output_type": "stream",
          "text": [
            " 83%|████████▎ | 162/196 [00:15<00:03, 10.60it/s]"
          ],
          "name": "stderr"
        },
        {
          "output_type": "stream",
          "text": [
            "Train Epoch: 9 [40960/50176 (82%)]\tLoss: 1.416867\n"
          ],
          "name": "stdout"
        },
        {
          "output_type": "stream",
          "text": [
            " 88%|████████▊ | 172/196 [00:16<00:02, 10.60it/s]"
          ],
          "name": "stderr"
        },
        {
          "output_type": "stream",
          "text": [
            "Train Epoch: 9 [43520/50176 (87%)]\tLoss: 1.385963\n"
          ],
          "name": "stdout"
        },
        {
          "output_type": "stream",
          "text": [
            " 93%|█████████▎| 182/196 [00:17<00:01, 10.61it/s]"
          ],
          "name": "stderr"
        },
        {
          "output_type": "stream",
          "text": [
            "Train Epoch: 9 [46080/50176 (92%)]\tLoss: 1.415939\n"
          ],
          "name": "stdout"
        },
        {
          "output_type": "stream",
          "text": [
            " 98%|█████████▊| 192/196 [00:18<00:00, 10.50it/s]"
          ],
          "name": "stderr"
        },
        {
          "output_type": "stream",
          "text": [
            "Train Epoch: 9 [48640/50176 (97%)]\tLoss: 1.422915\n"
          ],
          "name": "stdout"
        },
        {
          "output_type": "stream",
          "text": [
            "100%|██████████| 196/196 [00:18<00:00, 10.58it/s]"
          ],
          "name": "stderr"
        },
        {
          "output_type": "stream",
          "text": [
            "\n",
            "perplexity:  4.0534295723919005\n"
          ],
          "name": "stdout"
        },
        {
          "output_type": "stream",
          "text": [
            "\n"
          ],
          "name": "stderr"
        },
        {
          "output_type": "stream",
          "text": [
            "Input\tonly way left to get water, because Voldemort had planned it so ... He flung himself over to the edg\n",
            "GT\tnly way left to get water, because Voldemort had planned it so ... He flung himself over to the edge\n",
            "pred\tuey ohn tiat th tot thlcr  aucause holdemort wad buanted tn womt.. aa woang oim elf ouer th the onge\n",
            "\n",
            "\n",
            "Input\ts that had his arm. It released him, falling backward into the water with a splash; he scrambled to \n",
            "GT\t that had his arm. It released him, falling backward into the water with a splash; he scrambled to h\n",
            "pred\t Mhat hed bas elm  \"t weaiase  tim  aoiling aack ard anto the caler ahth h ctiint  oa harambled oo h\n",
            "\n",
            "\n",
            "Input\tath, and his feet left the ground as they lifted him and began to carry him, slowly and surely, back\n",
            "GT\tth, and his feet left the ground as they lifted him and began to carry him, slowly and surely, back \n",
            "pred\tdh  and hes eiet aott the cround an the  wokeed tim and sufan to holei aim  ahiwly and shre y  auck \n",
            "\n",
            "\n",
            "Input\t . . . Dumbledore scooped the locket from the bottom of the stone basin and stowed it inside his rob\n",
            "GT\t. . . Dumbledore scooped the locket from the bottom of the stone basin and stowed it inside his robe\n",
            "pred\t\" . . .umbledore waroled toe oiok d ooom the coytlm of the ccane socin ond hhaoad an antide tim cobe\n",
            "\n",
            "\n",
            "Input\t\"sir, I forgot -- about fire -- they were coming at me and I panicked --\" \"Quite understandable,\" mu\n",
            "GT\tsir, I forgot -- about fire -- they were coming at me and I panicked --\" \"Quite understandable,\" mur\n",
            "pred\tIor, a wougot t  Inout yons y- Ihe 'ware soning tn ta tny t wunts ed t-  \"Iuiee ssderstand yle   sut\n",
            "\n",
            "\n",
            "\n",
            "Test set: Average loss: 1.4168, Accuracy: 723869/1254400 (58%)\n",
            "\n",
            "generated max\t\t Harry Potter, Voldemort, and Dumbledore walk into a bar. \"I want to stay on the one of the could some of the could some of the could some of the could some of the could some of the could some of the could some of the could some of the could some of the coul\n",
            "generated sample\t Harry Potter, Voldemort, and Dumbledore walk into a bar. \"Are's some cool -  \"Ore your offer?\" Harry could, and the low, and alard Fabile something and mucied the foot of every you'g our office Hersless, doing your mouth again and pause,\" he said,slithering\n",
            "generated sample\t Harry Potter, Voldemort, and Dumbledore walk into a bar. \"Bum any only that Rot's clamus only by the could sat on the house,\" said Hagrid, and She was lie4 of them does, Howld had have byen on'  \"You'll deat have force yould take - I could seven Aone of the\n",
            "generated sample\t Harry Potter, Voldemort, and Dumbledore walk into a bar. \"Oh 'you, Hermione broin wourd? I'm rather, you're not worried tiggas. It sevected everything I Fung think until you funny happist a large champers --\" \"Things you who''ll just,\" Harry knecfing a coil\n",
            "generated sample\t Harry Potter, Voldemort, and Dumbledore walk into a bar. Where as ever Snicelancy and though someone of the cast, it's about shake shake here, 2iven while some horrie: it? Ind he turned to take at all;orous?\" but he doesn haze a plan an yourmione say as sor\n",
            "generated sample\t Harry Potter, Voldemort, and Dumbledore walk into a bar. Harry had but to go biy into any boye and as any, Slibmy's'\"  \"O blab. Any anyhing How,\" who had simpled atter the door while valfolously at my dead, jumbed at Snaul groubly tautber after he had not t\n",
            "generated sample\t Harry Potter, Voldemort, and Dumbledore walk into a bar. \"Affort any one of. Putters something down I have you retions Krabbe somenow- when you?\" Harry -don't thinn any ame like to purvy will boy anoon and euch me glan one which, Dumbledore in sluch off for\n",
            "generated sample\t Harry Potter, Voldemort, and Dumbledore walk into a bar. Not Harry had condered her out the ddort.  It was good and worrion, and -  Ron's deeping meeting the minut of the attempt?\" The sick olrectiant fove-their until. Hermione was turning undoubh her once \n",
            "generated sample\t Harry Potter, Voldemort, and Dumbledore walk into a bar.  much that was hard and enterent in the boy' : I would have you's say that different,\" said Harry.  \"I'm were all, anything ...\" They alive put Hall ripuision.\" \"What's worring into something. I'm'loo\n",
            "generated sample\t Harry Potter, Voldemort, and Dumbledore walk into a bar. \"I could hoice that she looked out of the different moutt, he howed again. Hoomen side of cloom.\"  \"It must remaine worried miving   patch Woull And I'm doing Hogwart again into the old.\" \"What?\" he s\n",
            "generated sample\t Harry Potter, Voldemort, and Dumbledore walk into a bar. \"You're supposed cooking und the air ear. His knord wantered more information the Flic(sels?\" you yunlin Snough when you say around the Infelcus Looding Ond of hale to going to jup. \"Oh yes - why shru\n"
          ],
          "name": "stdout"
        },
        {
          "output_type": "stream",
          "text": [
            "\r  0%|          | 0/196 [00:00<?, ?it/s]"
          ],
          "name": "stderr"
        },
        {
          "output_type": "stream",
          "text": [
            "generated beam\t\t Harry Potter, Voldemort, and Dumbledore walk into a bar. Crouch know what on him as his owness and say,\" said Harry aquding alropced at the lip around, and rod out in the wah him. Thd same Time was sispibe. A his much he fing see about on the tail. Harry ha\n",
            "\n"
          ],
          "name": "stdout"
        },
        {
          "output_type": "stream",
          "text": [
            "  1%|          | 2/196 [00:00<00:38,  5.04it/s]"
          ],
          "name": "stderr"
        },
        {
          "output_type": "stream",
          "text": [
            "Train Epoch: 10 [0/50176 (0%)]\tLoss: 1.412173\n"
          ],
          "name": "stdout"
        },
        {
          "output_type": "stream",
          "text": [
            "  6%|▌         | 12/196 [00:01<00:20,  9.04it/s]"
          ],
          "name": "stderr"
        },
        {
          "output_type": "stream",
          "text": [
            "Train Epoch: 10 [2560/50176 (5%)]\tLoss: 1.381241\n"
          ],
          "name": "stdout"
        },
        {
          "output_type": "stream",
          "text": [
            " 11%|█         | 22/196 [00:02<00:16, 10.46it/s]"
          ],
          "name": "stderr"
        },
        {
          "output_type": "stream",
          "text": [
            "Train Epoch: 10 [5120/50176 (10%)]\tLoss: 1.439845\n"
          ],
          "name": "stdout"
        },
        {
          "output_type": "stream",
          "text": [
            " 16%|█▋        | 32/196 [00:03<00:15, 10.57it/s]"
          ],
          "name": "stderr"
        },
        {
          "output_type": "stream",
          "text": [
            "Train Epoch: 10 [7680/50176 (15%)]\tLoss: 1.398655\n"
          ],
          "name": "stdout"
        },
        {
          "output_type": "stream",
          "text": [
            " 21%|██▏       | 42/196 [00:04<00:14, 10.65it/s]"
          ],
          "name": "stderr"
        },
        {
          "output_type": "stream",
          "text": [
            "Train Epoch: 10 [10240/50176 (20%)]\tLoss: 1.379243\n"
          ],
          "name": "stdout"
        },
        {
          "output_type": "stream",
          "text": [
            " 27%|██▋       | 52/196 [00:05<00:13, 10.48it/s]"
          ],
          "name": "stderr"
        },
        {
          "output_type": "stream",
          "text": [
            "Train Epoch: 10 [12800/50176 (26%)]\tLoss: 1.376334\n"
          ],
          "name": "stdout"
        },
        {
          "output_type": "stream",
          "text": [
            " 32%|███▏      | 62/196 [00:05<00:12, 10.63it/s]"
          ],
          "name": "stderr"
        },
        {
          "output_type": "stream",
          "text": [
            "Train Epoch: 10 [15360/50176 (31%)]\tLoss: 1.403748\n"
          ],
          "name": "stdout"
        },
        {
          "output_type": "stream",
          "text": [
            " 37%|███▋      | 72/196 [00:06<00:11, 10.64it/s]"
          ],
          "name": "stderr"
        },
        {
          "output_type": "stream",
          "text": [
            "Train Epoch: 10 [17920/50176 (36%)]\tLoss: 1.411668\n"
          ],
          "name": "stdout"
        },
        {
          "output_type": "stream",
          "text": [
            " 42%|████▏     | 82/196 [00:07<00:10, 10.59it/s]"
          ],
          "name": "stderr"
        },
        {
          "output_type": "stream",
          "text": [
            "Train Epoch: 10 [20480/50176 (41%)]\tLoss: 1.383874\n"
          ],
          "name": "stdout"
        },
        {
          "output_type": "stream",
          "text": [
            " 47%|████▋     | 92/196 [00:08<00:09, 10.65it/s]"
          ],
          "name": "stderr"
        },
        {
          "output_type": "stream",
          "text": [
            "Train Epoch: 10 [23040/50176 (46%)]\tLoss: 1.377502\n"
          ],
          "name": "stdout"
        },
        {
          "output_type": "stream",
          "text": [
            " 52%|█████▏    | 102/196 [00:09<00:08, 10.67it/s]"
          ],
          "name": "stderr"
        },
        {
          "output_type": "stream",
          "text": [
            "Train Epoch: 10 [25600/50176 (51%)]\tLoss: 1.390651\n"
          ],
          "name": "stdout"
        },
        {
          "output_type": "stream",
          "text": [
            " 57%|█████▋    | 112/196 [00:10<00:07, 10.58it/s]"
          ],
          "name": "stderr"
        },
        {
          "output_type": "stream",
          "text": [
            "Train Epoch: 10 [28160/50176 (56%)]\tLoss: 1.396970\n"
          ],
          "name": "stdout"
        },
        {
          "output_type": "stream",
          "text": [
            " 62%|██████▏   | 122/196 [00:11<00:06, 10.68it/s]"
          ],
          "name": "stderr"
        },
        {
          "output_type": "stream",
          "text": [
            "Train Epoch: 10 [30720/50176 (61%)]\tLoss: 1.397991\n"
          ],
          "name": "stdout"
        },
        {
          "output_type": "stream",
          "text": [
            " 67%|██████▋   | 132/196 [00:12<00:06, 10.62it/s]"
          ],
          "name": "stderr"
        },
        {
          "output_type": "stream",
          "text": [
            "Train Epoch: 10 [33280/50176 (66%)]\tLoss: 1.384159\n"
          ],
          "name": "stdout"
        },
        {
          "output_type": "stream",
          "text": [
            " 72%|███████▏  | 142/196 [00:13<00:05, 10.62it/s]"
          ],
          "name": "stderr"
        },
        {
          "output_type": "stream",
          "text": [
            "Train Epoch: 10 [35840/50176 (71%)]\tLoss: 1.395219\n"
          ],
          "name": "stdout"
        },
        {
          "output_type": "stream",
          "text": [
            " 78%|███████▊  | 152/196 [00:14<00:04, 10.61it/s]"
          ],
          "name": "stderr"
        },
        {
          "output_type": "stream",
          "text": [
            "Train Epoch: 10 [38400/50176 (77%)]\tLoss: 1.391804\n"
          ],
          "name": "stdout"
        },
        {
          "output_type": "stream",
          "text": [
            " 83%|████████▎ | 162/196 [00:15<00:03, 10.57it/s]"
          ],
          "name": "stderr"
        },
        {
          "output_type": "stream",
          "text": [
            "Train Epoch: 10 [40960/50176 (82%)]\tLoss: 1.412645\n"
          ],
          "name": "stdout"
        },
        {
          "output_type": "stream",
          "text": [
            " 88%|████████▊ | 172/196 [00:16<00:02, 10.56it/s]"
          ],
          "name": "stderr"
        },
        {
          "output_type": "stream",
          "text": [
            "Train Epoch: 10 [43520/50176 (87%)]\tLoss: 1.377508\n"
          ],
          "name": "stdout"
        },
        {
          "output_type": "stream",
          "text": [
            " 93%|█████████▎| 182/196 [00:17<00:01, 10.46it/s]"
          ],
          "name": "stderr"
        },
        {
          "output_type": "stream",
          "text": [
            "Train Epoch: 10 [46080/50176 (92%)]\tLoss: 1.401243\n"
          ],
          "name": "stdout"
        },
        {
          "output_type": "stream",
          "text": [
            " 98%|█████████▊| 192/196 [00:18<00:00, 10.50it/s]"
          ],
          "name": "stderr"
        },
        {
          "output_type": "stream",
          "text": [
            "Train Epoch: 10 [48640/50176 (97%)]\tLoss: 1.429187\n"
          ],
          "name": "stdout"
        },
        {
          "output_type": "stream",
          "text": [
            "100%|██████████| 196/196 [00:18<00:00, 10.51it/s]"
          ],
          "name": "stderr"
        },
        {
          "output_type": "stream",
          "text": [
            "\n",
            "perplexity:  4.034295590110981\n"
          ],
          "name": "stdout"
        },
        {
          "output_type": "stream",
          "text": [
            "\n"
          ],
          "name": "stderr"
        },
        {
          "output_type": "stream",
          "text": [
            "Input\tonly way left to get water, because Voldemort had planned it so ... He flung himself over to the edg\n",
            "GT\tnly way left to get water, because Voldemort had planned it so ... He flung himself over to the edge\n",
            "pred\tuey whs tott th tot thlc   aucause yoldemort wad tuacted tn womt . ta soing tim elf tuer th the snge\n",
            "\n",
            "\n",
            "Input\ts that had his arm. It released him, falling backward into the water with a splash; he scrambled to \n",
            "GT\t that had his arm. It released him, falling backward into the water with a splash; he scrambled to h\n",
            "pred\t Mhat hed hem mlm  \"  weaeased tim  hoileng trck ard tnto the chler ahth h btrint  oe sarameled oo h\n",
            "\n",
            "\n",
            "Input\tath, and his feet left the ground as they lifted him and began to carry him, slowly and surely, back\n",
            "GT\tth, and his feet left the ground as they lifted him and began to carry him, slowly and surely, back \n",
            "pred\tdh  hnd tes miet aott the sround tn the  wokeed tim and sufan to hoteiitim  hhiwly asd shde y  auck \n",
            "\n",
            "\n",
            "Input\t . . . Dumbledore scooped the locket from the bottom of the stone basin and stowed it inside his rob\n",
            "GT\t. . . Dumbledore scooped the locket from the bottom of the stone basin and stowed it inside his robe\n",
            "pred\t\" . . .umbledore shroled toe sook d ooom the soytlm of the ctane socinehnd hhaoad ht wn tde tim mobe\n",
            "\n",
            "\n",
            "Input\t\"sir, I forgot -- about fire -- they were coming at me and I panicked --\" \"Quite understandable,\" mu\n",
            "GT\tsir, I forgot -- about fire -- they were coming at me and I panicked --\" \"Quite understandable,\" mur\n",
            "pred\tIor, y wouget t  ynout yons y\" yhe 'ware soming tn ty tld t wustseed t\"  \"Iuite ssderstand yle \" sut\n",
            "\n",
            "\n",
            "\n",
            "Test set: Average loss: 1.4238, Accuracy: 724832/1254400 (58%)\n",
            "\n",
            "generated max\t\t Harry Potter, Voldemort, and Dumbledore walk into a bar. \"I want to see you all the short of the stairs of the course of the course of the course of the course of the course of the course of the course of the course of the course of the course of the course\n",
            "generated sample\t Harry Potter, Voldemort, and Dumbledore walk into a bar. Harry and Hermione were say from the chance Art. Harry said shouldn't hands maving the stairs aboutent the curse chose, ruppis had peening the care away that's out the 'reakess go mags ago &oving,\" sa\n",
            "generated sample\t Harry Potter, Voldemort, and Dumbledore walk into a bar. All odd the glasson of Krumblood who heart wante al one down he had ban alowed the stiving aboutting .;. Plass was much flight?\" he saved, wolded the cid and do stat to when Howrize Maving Mustawnere\"\n",
            "generated sample\t Harry Potter, Voldemort, and Dumbledore walk into a bar. Ron and Hermione's mother shead as alve things. It which Why then a pouric about furh you bad around Blace he door invereratels -\"\" \"I want tyou use\" \"I saw you bolan. I've got to a kither owl tostair\n",
            "generated sample\t Harry Potter, Voldemort, and Dumbledore walk into a bar. Ohe comboint of the voice strudging at the air was again, and Goldn't's murdered,\" shaked Arrible suddenless. \"Not a teast,\" said Ron, said Harry, his Sluggering continued quie for him, \"boise much li\n",
            "generated sample\t Harry Potter, Voldemort, and Dumbledore walk into a bar.   \"I've give him shaking never grinns aly.  \"It's craise run!\" she said suchoo blowlagain that myouten the drible limanish Batter convunces what it was he took across the hole who onfessor shrteQ It's\n",
            "generated sample\t Harry Potter, Voldemort, and Dumbledore walk into a bar. Harry blated his eyed out of his voices: yoursing continued. * you close you made such holded by the Noxesbool,\" snapked?\"  Frangle samedice steeped, around his edve onto the shadowwerfeled. \"Quite su\n",
            "generated sample\t Harry Potter, Voldemort, and Dumbledore walk into a bar. Harry asked the roD She dod he finoudled as thouse out of the waverim come when the properent twapted race you alled how was have it? Still face off to her you's have brought crais you showly I was pu\n",
            "generated sample\t Harry Potter, Voldemort, and Dumbledore walk into a bar. \"To your notich!\" said Harry. \"grease found you are you going the knote Modgerting muttered. How does yourse-re is sneaking alone enought you're sorrible points,\" said Harry my sound on the order one \n",
            "generated sample\t Harry Potter, Voldemort, and Dumbledore walk into a bar. Professor Mrs. Sorate, shinny what?\" \"Hot you keah, I coubbby been leaved merelaborishmelt changurating himself he did to have they was looking to the whom I'm goddentie,\" said The pucking on the Harr\n",
            "generated sample\t Harry Potter, Voldemort, and Dumbledore walk into a bar. I while I find you and going to say I-letter to know Alack? My and Hagrid's other black when yHrangs,\" said Chases. \"I swall want before Harry so-Ron anongs making alone. The door wandered us. Codding\n"
          ],
          "name": "stdout"
        },
        {
          "output_type": "stream",
          "text": [
            "\r  0%|          | 0/196 [00:00<?, ?it/s]"
          ],
          "name": "stderr"
        },
        {
          "output_type": "stream",
          "text": [
            "generated beam\t\t Harry Potter, Voldemort, and Dumbledore walk into a bar. \"Codees some why the Gupin) I've have already forgiden mood Law once on the head obls. Harry Fraff moubed my cho why where ?\" Itsley, which shated on the droppens over.  \"It's that anyway to stay' \"NA\n",
            "\n"
          ],
          "name": "stdout"
        },
        {
          "output_type": "stream",
          "text": [
            "  1%|          | 2/196 [00:00<00:39,  4.88it/s]"
          ],
          "name": "stderr"
        },
        {
          "output_type": "stream",
          "text": [
            "Train Epoch: 11 [0/50176 (0%)]\tLoss: 1.414560\n"
          ],
          "name": "stdout"
        },
        {
          "output_type": "stream",
          "text": [
            "  6%|▌         | 12/196 [00:01<00:20,  8.89it/s]"
          ],
          "name": "stderr"
        },
        {
          "output_type": "stream",
          "text": [
            "Train Epoch: 11 [2560/50176 (5%)]\tLoss: 1.374137\n"
          ],
          "name": "stdout"
        },
        {
          "output_type": "stream",
          "text": [
            " 11%|█         | 22/196 [00:02<00:16, 10.29it/s]"
          ],
          "name": "stderr"
        },
        {
          "output_type": "stream",
          "text": [
            "Train Epoch: 11 [5120/50176 (10%)]\tLoss: 1.411219\n"
          ],
          "name": "stdout"
        },
        {
          "output_type": "stream",
          "text": [
            " 16%|█▋        | 32/196 [00:03<00:15, 10.55it/s]"
          ],
          "name": "stderr"
        },
        {
          "output_type": "stream",
          "text": [
            "Train Epoch: 11 [7680/50176 (15%)]\tLoss: 1.395087\n"
          ],
          "name": "stdout"
        },
        {
          "output_type": "stream",
          "text": [
            " 21%|██▏       | 42/196 [00:04<00:14, 10.65it/s]"
          ],
          "name": "stderr"
        },
        {
          "output_type": "stream",
          "text": [
            "Train Epoch: 11 [10240/50176 (20%)]\tLoss: 1.389783\n"
          ],
          "name": "stdout"
        },
        {
          "output_type": "stream",
          "text": [
            " 27%|██▋       | 52/196 [00:05<00:13, 10.59it/s]"
          ],
          "name": "stderr"
        },
        {
          "output_type": "stream",
          "text": [
            "Train Epoch: 11 [12800/50176 (26%)]\tLoss: 1.397082\n"
          ],
          "name": "stdout"
        },
        {
          "output_type": "stream",
          "text": [
            " 32%|███▏      | 62/196 [00:06<00:12, 10.64it/s]"
          ],
          "name": "stderr"
        },
        {
          "output_type": "stream",
          "text": [
            "Train Epoch: 11 [15360/50176 (31%)]\tLoss: 1.404267\n"
          ],
          "name": "stdout"
        },
        {
          "output_type": "stream",
          "text": [
            " 37%|███▋      | 72/196 [00:06<00:11, 10.54it/s]"
          ],
          "name": "stderr"
        },
        {
          "output_type": "stream",
          "text": [
            "Train Epoch: 11 [17920/50176 (36%)]\tLoss: 1.408597\n"
          ],
          "name": "stdout"
        },
        {
          "output_type": "stream",
          "text": [
            " 42%|████▏     | 82/196 [00:07<00:10, 10.44it/s]"
          ],
          "name": "stderr"
        },
        {
          "output_type": "stream",
          "text": [
            "Train Epoch: 11 [20480/50176 (41%)]\tLoss: 1.371205\n"
          ],
          "name": "stdout"
        },
        {
          "output_type": "stream",
          "text": [
            " 47%|████▋     | 92/196 [00:08<00:09, 10.58it/s]"
          ],
          "name": "stderr"
        },
        {
          "output_type": "stream",
          "text": [
            "Train Epoch: 11 [23040/50176 (46%)]\tLoss: 1.378524\n"
          ],
          "name": "stdout"
        },
        {
          "output_type": "stream",
          "text": [
            " 52%|█████▏    | 102/196 [00:09<00:08, 10.60it/s]"
          ],
          "name": "stderr"
        },
        {
          "output_type": "stream",
          "text": [
            "Train Epoch: 11 [25600/50176 (51%)]\tLoss: 1.388458\n"
          ],
          "name": "stdout"
        },
        {
          "output_type": "stream",
          "text": [
            " 57%|█████▋    | 112/196 [00:10<00:08, 10.48it/s]"
          ],
          "name": "stderr"
        },
        {
          "output_type": "stream",
          "text": [
            "Train Epoch: 11 [28160/50176 (56%)]\tLoss: 1.395666\n"
          ],
          "name": "stdout"
        },
        {
          "output_type": "stream",
          "text": [
            " 62%|██████▏   | 122/196 [00:11<00:06, 10.59it/s]"
          ],
          "name": "stderr"
        },
        {
          "output_type": "stream",
          "text": [
            "Train Epoch: 11 [30720/50176 (61%)]\tLoss: 1.396046\n"
          ],
          "name": "stdout"
        },
        {
          "output_type": "stream",
          "text": [
            " 67%|██████▋   | 132/196 [00:12<00:05, 10.67it/s]"
          ],
          "name": "stderr"
        },
        {
          "output_type": "stream",
          "text": [
            "Train Epoch: 11 [33280/50176 (66%)]\tLoss: 1.371724\n"
          ],
          "name": "stdout"
        },
        {
          "output_type": "stream",
          "text": [
            " 72%|███████▏  | 142/196 [00:13<00:05, 10.49it/s]"
          ],
          "name": "stderr"
        },
        {
          "output_type": "stream",
          "text": [
            "Train Epoch: 11 [35840/50176 (71%)]\tLoss: 1.386231\n"
          ],
          "name": "stdout"
        },
        {
          "output_type": "stream",
          "text": [
            " 78%|███████▊  | 152/196 [00:14<00:04, 10.52it/s]"
          ],
          "name": "stderr"
        },
        {
          "output_type": "stream",
          "text": [
            "Train Epoch: 11 [38400/50176 (77%)]\tLoss: 1.437191\n"
          ],
          "name": "stdout"
        },
        {
          "output_type": "stream",
          "text": [
            " 83%|████████▎ | 162/196 [00:15<00:03, 10.59it/s]"
          ],
          "name": "stderr"
        },
        {
          "output_type": "stream",
          "text": [
            "Train Epoch: 11 [40960/50176 (82%)]\tLoss: 1.419041\n"
          ],
          "name": "stdout"
        },
        {
          "output_type": "stream",
          "text": [
            " 88%|████████▊ | 172/196 [00:16<00:02, 10.53it/s]"
          ],
          "name": "stderr"
        },
        {
          "output_type": "stream",
          "text": [
            "Train Epoch: 11 [43520/50176 (87%)]\tLoss: 1.382574\n"
          ],
          "name": "stdout"
        },
        {
          "output_type": "stream",
          "text": [
            " 93%|█████████▎| 182/196 [00:17<00:01, 10.50it/s]"
          ],
          "name": "stderr"
        },
        {
          "output_type": "stream",
          "text": [
            "Train Epoch: 11 [46080/50176 (92%)]\tLoss: 1.399190\n"
          ],
          "name": "stdout"
        },
        {
          "output_type": "stream",
          "text": [
            " 98%|█████████▊| 192/196 [00:18<00:00, 10.63it/s]"
          ],
          "name": "stderr"
        },
        {
          "output_type": "stream",
          "text": [
            "Train Epoch: 11 [48640/50176 (97%)]\tLoss: 1.399073\n"
          ],
          "name": "stdout"
        },
        {
          "output_type": "stream",
          "text": [
            "100%|██████████| 196/196 [00:18<00:00, 10.47it/s]"
          ],
          "name": "stderr"
        },
        {
          "output_type": "stream",
          "text": [
            "\n",
            "perplexity:  4.016772530895056\n"
          ],
          "name": "stdout"
        },
        {
          "output_type": "stream",
          "text": [
            "\n"
          ],
          "name": "stderr"
        },
        {
          "output_type": "stream",
          "text": [
            "Input\tonly way left to get water, because Voldemort had planned it so ... He flung himself over to the edg\n",
            "GT\tnly way left to get water, because Voldemort had planned it so ... He flung himself over to the edge\n",
            "pred\tuey ohn titt th tot thlcr  aucause toldemort wad buanted tn womt.. Ie doing tim elf tner th the cnge\n",
            "\n",
            "\n",
            "Input\ts that had his arm. It released him, falling backward into the water with a splash; he scrambled to \n",
            "GT\t that had his arm. It released him, falling backward into the water with a splash; he scrambled to h\n",
            "pred\t Mhet hed bes erm  \"t weaeated tim  aoiling alck ard tnto the ciler.ahth h ctrint  oe sarambled oh h\n",
            "\n",
            "\n",
            "Input\tath, and his feet left the ground as they lifted him and began to carry him, slowly and surely, back\n",
            "GT\tth, and his feet left the ground as they lifted him and began to carry him, slowly and surely, back \n",
            "pred\tdh  and tes eiet aott the sround an the  wokeed tim and sefan to horeiiaim  ahiwly and shre y  auck \n",
            "\n",
            "\n",
            "Input\t . . . Dumbledore scooped the locket from the bottom of the stone basin and stowed it inside his rob\n",
            "GT\t. . . Dumbledore scooped the locket from the bottom of the stone basin and stowed it inside his robe\n",
            "pred\t\" . . .umbledore waroled the sink d ooom the soytlm of the ccane socin wnd throad tt wn tde tim mobe\n",
            "\n",
            "\n",
            "Input\t\"sir, I forgot -- about fire -- they were coming at me and I panicked --\" \"Quite understandable,\" mu\n",
            "GT\tsir, I forgot -- about fire -- they were coming at me and I panicked --\" \"Quite understandable,\" mur\n",
            "pred\tIhr, I dougot t  Inout tons y- Ihe 'ware toning tn te tny t wrrtseed t\"  \"Iuite snderstand nle   set\n",
            "\n",
            "\n",
            "\n",
            "Test set: Average loss: 1.4049, Accuracy: 729535/1254400 (58%)\n",
            "\n",
            "Saved /content/checkpoints/011.pt\n",
            "\n",
            "generated max\t\t Harry Potter, Voldemort, and Dumbledore walk into a bar. He was standing and straight and straight and straightened and straightened and straightened and straightened and straightened and straightened and straightened and straightened and straightened and s\n",
            "generated sample\t Harry Potter, Voldemort, and Dumbledore walk into a bar. \"And you wlan't my fungy ripped in the For in a rial of your foreholiFe, Harry. As,\" she said the sudden agition of Mrs. They did Malfoy knop when He trotten the oblinetaling the answered from him lit\n",
            "generated sample\t Harry Potter, Voldemort, and Dumbledore walk into a bar. I'm sometime... Harry can up elowing here of the Owl's moved been pucyed here, Ron migged blown the --but you knocked me've that's you back interest your Snamy Iffaped if Yurd the childn't yet's know \n",
            "generated sample\t Harry Potter, Voldemort, and Dumbledore walk into a bar. Mich raise, and which was white from MrS. Years and complite the Ron's cours. Ron and After you are as stols and the Birtrif Harry, Berelall Gradon.\" \"I fine yer'. In I don' we need to lime the scrabb\n",
            "generated sample\t Harry Potter, Voldemort, and Dumbledore walk into a bar.  \"The cool -? I don't who was way if you ring me juxical you've sumbloped you know you've orsucY from him, not inter;t you can?\" Snupped Runistricken, or. This, Professor MEEWH ANNExTEN  The I did doe\n",
            "generated sample\t Harry Potter, Voldemort, and Dumbledore walk into a bar. The ditah one failing make for the waye of Clustering Harry and Ron.   Coming Harry's feetling when the colvet one hogodd like him, which shim another break one change.\" \"And what I car?\" Ron, inccall\n",
            "generated sample\t Harry Potter, Voldemort, and Dumbledore walk into a bar. They drown in Frone Potter of with light in Minally. St, his right found out of every idnable, and are you need then Slittering ane Dumbledore - you dred you offfinger merel-samoting,\" Harry was pluti\n",
            "generated sample\t Harry Potter, Voldemort, and Dumbledore walk into a bar. Making Dumbledore you can care you forgh -- \"did yom,\" yauch M-Ro, WHE HETERT?TEI'    \"DId 'luck she ording I might Harry doesn't you skre's four, you crathen you answer, she protected,\" said Dumbley.\n",
            "generated sample\t Harry Potter, Voldemort, and Dumbledore walk into a bar. \"Oh will go up with your voice %outs,\" said Harry, and Mcrow Prophen sadden. \"Why?\" He sIgnoting grumply. \"Ey found miss Slug'll one of Bload blooding to podfunce the jeaths -- We come on the string. \n",
            "generated sample\t Harry Potter, Voldemort, and Dumbledore walk into a bar. In Luich Th= Grudner doormed atticuse Moaning \"You barely think I\"S the wizard Cope owl hope of Voods. Professor TuR0, and Mr. WUAKEEOD A*TOE HO4E TEELAYE CHES IP\" This Rous\" Madame Harry died not any\n",
            "generated sample\t Harry Potter, Voldemort, and Dumbledore walk into a bar. I'm something\"the Kitter I Acremine of your much?\" said MrG Fave Dun: thone showing now, and then some banger the let And OqOLPEN FGWY ID An ANBOEA INE YONE!\" EROLTYEWA_M ARm Rom room Hermione. Pefore\n"
          ],
          "name": "stdout"
        },
        {
          "output_type": "stream",
          "text": [
            "\r  0%|          | 0/196 [00:00<?, ?it/s]"
          ],
          "name": "stderr"
        },
        {
          "output_type": "stream",
          "text": [
            "generated beam\t\t Harry Potter, Voldemort, and Dumbledore walk into a bar.  \"\"Oon't he just go glot  \" serm again by the Impering McG)Axame Eiding immedous to discruped the long to Crepape if the crainine pott of Cloudgy judging grinning on two air wrone and enam in his mout\n",
            "\n"
          ],
          "name": "stdout"
        },
        {
          "output_type": "stream",
          "text": [
            "  1%|          | 2/196 [00:00<00:39,  4.93it/s]"
          ],
          "name": "stderr"
        },
        {
          "output_type": "stream",
          "text": [
            "Train Epoch: 12 [0/50176 (0%)]\tLoss: 1.397518\n"
          ],
          "name": "stdout"
        },
        {
          "output_type": "stream",
          "text": [
            "  6%|▌         | 12/196 [00:01<00:20,  8.91it/s]"
          ],
          "name": "stderr"
        },
        {
          "output_type": "stream",
          "text": [
            "Train Epoch: 12 [2560/50176 (5%)]\tLoss: 1.368557\n"
          ],
          "name": "stdout"
        },
        {
          "output_type": "stream",
          "text": [
            " 11%|█         | 22/196 [00:02<00:16, 10.39it/s]"
          ],
          "name": "stderr"
        },
        {
          "output_type": "stream",
          "text": [
            "Train Epoch: 12 [5120/50176 (10%)]\tLoss: 1.404533\n"
          ],
          "name": "stdout"
        },
        {
          "output_type": "stream",
          "text": [
            " 16%|█▋        | 32/196 [00:03<00:15, 10.55it/s]"
          ],
          "name": "stderr"
        },
        {
          "output_type": "stream",
          "text": [
            "Train Epoch: 12 [7680/50176 (15%)]\tLoss: 1.402295\n"
          ],
          "name": "stdout"
        },
        {
          "output_type": "stream",
          "text": [
            " 21%|██▏       | 42/196 [00:04<00:14, 10.62it/s]"
          ],
          "name": "stderr"
        },
        {
          "output_type": "stream",
          "text": [
            "Train Epoch: 12 [10240/50176 (20%)]\tLoss: 1.393265\n"
          ],
          "name": "stdout"
        },
        {
          "output_type": "stream",
          "text": [
            " 27%|██▋       | 52/196 [00:05<00:13, 10.54it/s]"
          ],
          "name": "stderr"
        },
        {
          "output_type": "stream",
          "text": [
            "Train Epoch: 12 [12800/50176 (26%)]\tLoss: 1.391110\n"
          ],
          "name": "stdout"
        },
        {
          "output_type": "stream",
          "text": [
            " 32%|███▏      | 62/196 [00:05<00:12, 10.68it/s]"
          ],
          "name": "stderr"
        },
        {
          "output_type": "stream",
          "text": [
            "Train Epoch: 12 [15360/50176 (31%)]\tLoss: 1.384565\n"
          ],
          "name": "stdout"
        },
        {
          "output_type": "stream",
          "text": [
            " 37%|███▋      | 72/196 [00:06<00:11, 10.60it/s]"
          ],
          "name": "stderr"
        },
        {
          "output_type": "stream",
          "text": [
            "Train Epoch: 12 [17920/50176 (36%)]\tLoss: 1.389163\n"
          ],
          "name": "stdout"
        },
        {
          "output_type": "stream",
          "text": [
            " 42%|████▏     | 82/196 [00:07<00:10, 10.58it/s]"
          ],
          "name": "stderr"
        },
        {
          "output_type": "stream",
          "text": [
            "Train Epoch: 12 [20480/50176 (41%)]\tLoss: 1.373435\n"
          ],
          "name": "stdout"
        },
        {
          "output_type": "stream",
          "text": [
            " 47%|████▋     | 92/196 [00:08<00:09, 10.65it/s]"
          ],
          "name": "stderr"
        },
        {
          "output_type": "stream",
          "text": [
            "Train Epoch: 12 [23040/50176 (46%)]\tLoss: 1.387030\n"
          ],
          "name": "stdout"
        },
        {
          "output_type": "stream",
          "text": [
            " 52%|█████▏    | 102/196 [00:09<00:08, 10.60it/s]"
          ],
          "name": "stderr"
        },
        {
          "output_type": "stream",
          "text": [
            "Train Epoch: 12 [25600/50176 (51%)]\tLoss: 1.397785\n"
          ],
          "name": "stdout"
        },
        {
          "output_type": "stream",
          "text": [
            " 57%|█████▋    | 112/196 [00:10<00:07, 10.61it/s]"
          ],
          "name": "stderr"
        },
        {
          "output_type": "stream",
          "text": [
            "Train Epoch: 12 [28160/50176 (56%)]\tLoss: 1.392021\n"
          ],
          "name": "stdout"
        },
        {
          "output_type": "stream",
          "text": [
            " 62%|██████▏   | 122/196 [00:11<00:06, 10.58it/s]"
          ],
          "name": "stderr"
        },
        {
          "output_type": "stream",
          "text": [
            "Train Epoch: 12 [30720/50176 (61%)]\tLoss: 1.384502\n"
          ],
          "name": "stdout"
        },
        {
          "output_type": "stream",
          "text": [
            " 67%|██████▋   | 132/196 [00:12<00:06, 10.63it/s]"
          ],
          "name": "stderr"
        },
        {
          "output_type": "stream",
          "text": [
            "Train Epoch: 12 [33280/50176 (66%)]\tLoss: 1.367078\n"
          ],
          "name": "stdout"
        },
        {
          "output_type": "stream",
          "text": [
            " 72%|███████▏  | 142/196 [00:13<00:05, 10.60it/s]"
          ],
          "name": "stderr"
        },
        {
          "output_type": "stream",
          "text": [
            "Train Epoch: 12 [35840/50176 (71%)]\tLoss: 1.382386\n"
          ],
          "name": "stdout"
        },
        {
          "output_type": "stream",
          "text": [
            " 78%|███████▊  | 152/196 [00:14<00:04, 10.58it/s]"
          ],
          "name": "stderr"
        },
        {
          "output_type": "stream",
          "text": [
            "Train Epoch: 12 [38400/50176 (77%)]\tLoss: 1.383928\n"
          ],
          "name": "stdout"
        },
        {
          "output_type": "stream",
          "text": [
            " 83%|████████▎ | 162/196 [00:15<00:03, 10.49it/s]"
          ],
          "name": "stderr"
        },
        {
          "output_type": "stream",
          "text": [
            "Train Epoch: 12 [40960/50176 (82%)]\tLoss: 1.397493\n"
          ],
          "name": "stdout"
        },
        {
          "output_type": "stream",
          "text": [
            " 88%|████████▊ | 172/196 [00:16<00:02, 10.56it/s]"
          ],
          "name": "stderr"
        },
        {
          "output_type": "stream",
          "text": [
            "Train Epoch: 12 [43520/50176 (87%)]\tLoss: 1.379837\n"
          ],
          "name": "stdout"
        },
        {
          "output_type": "stream",
          "text": [
            " 93%|█████████▎| 182/196 [00:17<00:01, 10.56it/s]"
          ],
          "name": "stderr"
        },
        {
          "output_type": "stream",
          "text": [
            "Train Epoch: 12 [46080/50176 (92%)]\tLoss: 1.396226\n"
          ],
          "name": "stdout"
        },
        {
          "output_type": "stream",
          "text": [
            " 98%|█████████▊| 192/196 [00:18<00:00, 10.48it/s]"
          ],
          "name": "stderr"
        },
        {
          "output_type": "stream",
          "text": [
            "Train Epoch: 12 [48640/50176 (97%)]\tLoss: 1.401875\n"
          ],
          "name": "stdout"
        },
        {
          "output_type": "stream",
          "text": [
            "100%|██████████| 196/196 [00:18<00:00, 10.49it/s]"
          ],
          "name": "stderr"
        },
        {
          "output_type": "stream",
          "text": [
            "\n",
            "perplexity:  3.9946361192818984\n"
          ],
          "name": "stdout"
        },
        {
          "output_type": "stream",
          "text": [
            "\n"
          ],
          "name": "stderr"
        },
        {
          "output_type": "stream",
          "text": [
            "Input\tonly way left to get water, because Voldemort had planned it so ... He flung himself over to the edg\n",
            "GT\tnly way left to get water, because Voldemort had planned it so ... He flung himself over to the edge\n",
            "pred\tuey ahn tiat th tot thlcr  aucause toldemort wad buanted tn aomt . te doing tim elf auer th the cnge\n",
            "\n",
            "\n",
            "Input\ts that had his arm. It released him, falling backward into the water with a splash; he scrambled to \n",
            "GT\t that had his arm. It released him, falling backward into the water with a splash; he scrambled to h\n",
            "pred\t Mhat hed bem mrm  \"t weaeated tim  aorling alck ard anto the caler ahth a ctritt  oe harambled oh h\n",
            "\n",
            "\n",
            "Input\tath, and his feet left the ground as they lifted him and began to carry him, slowly and surely, back\n",
            "GT\tth, and his feet left the ground as they lifted him and began to carry him, slowly and surely, back \n",
            "pred\tdh  and tes miet aott the cround an the  wokted aim and sefan to horey aim  ahiwly atd stre y  aurk \n",
            "\n",
            "\n",
            "Input\t . . . Dumbledore scooped the locket from the bottom of the stone basin and stowed it inside his rob\n",
            "GT\t. . . Dumbledore scooped the locket from the bottom of the stone basin and stowed it inside his robe\n",
            "pred\t\" . . .umbledore waroled toe diok d ooom the coytlm of the ctane socin wnd Hhaoad an an ide tim mobe\n",
            "\n",
            "\n",
            "Input\t\"sir, I forgot -- about fire -- they were coming at me and I panicked --\" \"Quite understandable,\" mu\n",
            "GT\tsir, I forgot -- about fire -- they were coming at me and I panicked --\" \"Quite understandable,\" mur\n",
            "pred\tIor, I douget t  Inout tons t- Ihe  ware toning tn te tny t wrrts ed t-  \"Iuite asderstand nle   sut\n",
            "\n",
            "\n",
            "\n",
            "Test set: Average loss: 1.4053, Accuracy: 730434/1254400 (58%)\n",
            "\n",
            "Saved /content/checkpoints/012.pt\n",
            "\n",
            "generated max\t\t Harry Potter, Voldemort, and Dumbledore walk into a bar. \"I want to think you can think you can think you can think you can think you can think you can think you can think you can think you can think you can think you can think you can think you can think y\n",
            "generated sample\t Harry Potter, Voldemort, and Dumbledore walk into a bar. The Gry Fritch, would the chair mane alone out of higher, linched and handowed at Bill. He'd be the wizard had stare a number of attic sudden larg and Uquating Mis. The Robes table out Snape \"Erin, yo\n",
            "generated sample\t Harry Potter, Voldemort, and Dumbledore walk into a bar. \"Harry doing here the top jext momentia fife that you trying to blond you had the wand on the one belong tome thrope hand back to knorm an antional of the -drif in a row back, syrible double at the co\n",
            "generated sample\t Harry Potter, Voldemort, and Dumbledore walk into a bar. And when argue Now what I'd see you telling him that he did rip you talk I can in guitting anything up in the place door, and \"I must foole that Hagrid Not was you anyway, you sprained out ug the Mini\n",
            "generated sample\t Harry Potter, Voldemort, and Dumbledore walk into a bar. Harry Slitwered when what Kogeter would have forgotten King, how mettle pay enough the Goody owl to from her. .\" Hoologeed Predaster.  Morry addressed it as down and \"Shruggle Crouch,\" why you lanward\n",
            "generated sample\t Harry Potter, Voldemort, and Dumbledore walk into a bar. \"Nove a five make - or what this your brain and any-he, syruggled in the are sfartic' on the back Pands ming Zenrisis forbolf fieffer him of ord when they he got forgive it, the bircle on the day swea\n",
            "generated sample\t Harry Potter, Voldemort, and Dumbledore walk into a bar. Ron and Hermione Need very robes and fou my second on the Digg else powarvatic Blood in his roar . . . behind ouch the kive Thand Harry was from the school. \"Of any )Ir?\" Knock Hermione swanded out wh\n",
            "generated sample\t Harry Potter, Voldemort, and Dumbledore walk into a bar. Or what he did my dear for Dargeropus believe a moh of the door scrummed, when  He said in a tran a fiee month white viry from but the wordrow. White life suddenly had him to around Hermione and if yo\n",
            "generated sample\t Harry Potter, Voldemort, and Dumbledore walk into a bar. \"A return than one however would have a chair of the hts-plat forget, who was held the door way, on at the scying of a voice sound was alwhing or another that in this counter. Thy trium him alone you \n",
            "generated sample\t Harry Potter, Voldemort, and Dumbledore walk into a bar. Him cortaur snime, the one on Ron and Potter, can hip sclit and put Herie wall. \"You had there I -- NXvial Daugh Hermione hip for Him PorIze, Inderester --\" \"Hagrid totallook off out, sound to fint Ka\n",
            "generated sample\t Harry Potter, Voldemort, and Dumbledore walk into a bar. He were suddered? Professor Scried ~edric scrative. He do they set you right back to the window-ile underaturement however made what Had (t. Thy nearest somehore boyd intides around How Looding Quible\n"
          ],
          "name": "stdout"
        },
        {
          "output_type": "stream",
          "text": [
            "\r  0%|          | 0/196 [00:00<?, ?it/s]"
          ],
          "name": "stderr"
        },
        {
          "output_type": "stream",
          "text": [
            "generated beam\t\t Harry Potter, Voldemort, and Dumbledore walk into a bar. t was clathering over the twile slamets as Duggle can through the door of him, and raised Harry and cursed up an out of Ron and Grimace Slitwyere died, and over the one of except who had left as it ga\n",
            "\n"
          ],
          "name": "stdout"
        },
        {
          "output_type": "stream",
          "text": [
            "  2%|▏         | 3/196 [00:00<00:38,  5.06it/s]"
          ],
          "name": "stderr"
        },
        {
          "output_type": "stream",
          "text": [
            "Train Epoch: 13 [0/50176 (0%)]\tLoss: 1.398957\n"
          ],
          "name": "stdout"
        },
        {
          "output_type": "stream",
          "text": [
            "  7%|▋         | 13/196 [00:01<00:20,  9.05it/s]"
          ],
          "name": "stderr"
        },
        {
          "output_type": "stream",
          "text": [
            "Train Epoch: 13 [2560/50176 (5%)]\tLoss: 1.365588\n"
          ],
          "name": "stdout"
        },
        {
          "output_type": "stream",
          "text": [
            " 12%|█▏        | 23/196 [00:02<00:16, 10.31it/s]"
          ],
          "name": "stderr"
        },
        {
          "output_type": "stream",
          "text": [
            "Train Epoch: 13 [5120/50176 (10%)]\tLoss: 1.407306\n"
          ],
          "name": "stdout"
        },
        {
          "output_type": "stream",
          "text": [
            " 17%|█▋        | 33/196 [00:03<00:15, 10.52it/s]"
          ],
          "name": "stderr"
        },
        {
          "output_type": "stream",
          "text": [
            "Train Epoch: 13 [7680/50176 (15%)]\tLoss: 1.402297\n"
          ],
          "name": "stdout"
        },
        {
          "output_type": "stream",
          "text": [
            " 22%|██▏       | 43/196 [00:04<00:14, 10.53it/s]"
          ],
          "name": "stderr"
        },
        {
          "output_type": "stream",
          "text": [
            "Train Epoch: 13 [10240/50176 (20%)]\tLoss: 1.392854\n"
          ],
          "name": "stdout"
        },
        {
          "output_type": "stream",
          "text": [
            " 27%|██▋       | 53/196 [00:05<00:13, 10.63it/s]"
          ],
          "name": "stderr"
        },
        {
          "output_type": "stream",
          "text": [
            "Train Epoch: 13 [12800/50176 (26%)]\tLoss: 1.394274\n"
          ],
          "name": "stdout"
        },
        {
          "output_type": "stream",
          "text": [
            " 32%|███▏      | 63/196 [00:06<00:12, 10.50it/s]"
          ],
          "name": "stderr"
        },
        {
          "output_type": "stream",
          "text": [
            "Train Epoch: 13 [15360/50176 (31%)]\tLoss: 1.383321\n"
          ],
          "name": "stdout"
        },
        {
          "output_type": "stream",
          "text": [
            " 37%|███▋      | 73/196 [00:07<00:11, 10.52it/s]"
          ],
          "name": "stderr"
        },
        {
          "output_type": "stream",
          "text": [
            "Train Epoch: 13 [17920/50176 (36%)]\tLoss: 1.395687\n"
          ],
          "name": "stdout"
        },
        {
          "output_type": "stream",
          "text": [
            " 42%|████▏     | 83/196 [00:08<00:10, 10.47it/s]"
          ],
          "name": "stderr"
        },
        {
          "output_type": "stream",
          "text": [
            "Train Epoch: 13 [20480/50176 (41%)]\tLoss: 1.372234\n"
          ],
          "name": "stdout"
        },
        {
          "output_type": "stream",
          "text": [
            " 47%|████▋     | 93/196 [00:08<00:09, 10.43it/s]"
          ],
          "name": "stderr"
        },
        {
          "output_type": "stream",
          "text": [
            "Train Epoch: 13 [23040/50176 (46%)]\tLoss: 1.372656\n"
          ],
          "name": "stdout"
        },
        {
          "output_type": "stream",
          "text": [
            " 53%|█████▎    | 103/196 [00:09<00:08, 10.53it/s]"
          ],
          "name": "stderr"
        },
        {
          "output_type": "stream",
          "text": [
            "Train Epoch: 13 [25600/50176 (51%)]\tLoss: 1.379466\n"
          ],
          "name": "stdout"
        },
        {
          "output_type": "stream",
          "text": [
            " 58%|█████▊    | 113/196 [00:10<00:07, 10.53it/s]"
          ],
          "name": "stderr"
        },
        {
          "output_type": "stream",
          "text": [
            "Train Epoch: 13 [28160/50176 (56%)]\tLoss: 1.391247\n"
          ],
          "name": "stdout"
        },
        {
          "output_type": "stream",
          "text": [
            " 63%|██████▎   | 123/196 [00:11<00:06, 10.57it/s]"
          ],
          "name": "stderr"
        },
        {
          "output_type": "stream",
          "text": [
            "Train Epoch: 13 [30720/50176 (61%)]\tLoss: 1.389660\n"
          ],
          "name": "stdout"
        },
        {
          "output_type": "stream",
          "text": [
            " 68%|██████▊   | 133/196 [00:12<00:05, 10.51it/s]"
          ],
          "name": "stderr"
        },
        {
          "output_type": "stream",
          "text": [
            "Train Epoch: 13 [33280/50176 (66%)]\tLoss: 1.364272\n"
          ],
          "name": "stdout"
        },
        {
          "output_type": "stream",
          "text": [
            " 73%|███████▎  | 143/196 [00:13<00:05, 10.46it/s]"
          ],
          "name": "stderr"
        },
        {
          "output_type": "stream",
          "text": [
            "Train Epoch: 13 [35840/50176 (71%)]\tLoss: 1.373216\n"
          ],
          "name": "stdout"
        },
        {
          "output_type": "stream",
          "text": [
            " 78%|███████▊  | 153/196 [00:14<00:04, 10.49it/s]"
          ],
          "name": "stderr"
        },
        {
          "output_type": "stream",
          "text": [
            "Train Epoch: 13 [38400/50176 (77%)]\tLoss: 1.371447\n"
          ],
          "name": "stdout"
        },
        {
          "output_type": "stream",
          "text": [
            " 83%|████████▎ | 163/196 [00:15<00:03, 10.39it/s]"
          ],
          "name": "stderr"
        },
        {
          "output_type": "stream",
          "text": [
            "Train Epoch: 13 [40960/50176 (82%)]\tLoss: 1.408353\n"
          ],
          "name": "stdout"
        },
        {
          "output_type": "stream",
          "text": [
            " 88%|████████▊ | 173/196 [00:16<00:02, 10.46it/s]"
          ],
          "name": "stderr"
        },
        {
          "output_type": "stream",
          "text": [
            "Train Epoch: 13 [43520/50176 (87%)]\tLoss: 1.390262\n"
          ],
          "name": "stdout"
        },
        {
          "output_type": "stream",
          "text": [
            " 93%|█████████▎| 183/196 [00:17<00:01, 10.45it/s]"
          ],
          "name": "stderr"
        },
        {
          "output_type": "stream",
          "text": [
            "Train Epoch: 13 [46080/50176 (92%)]\tLoss: 1.394245\n"
          ],
          "name": "stdout"
        },
        {
          "output_type": "stream",
          "text": [
            " 98%|█████████▊| 193/196 [00:18<00:00, 10.55it/s]"
          ],
          "name": "stderr"
        },
        {
          "output_type": "stream",
          "text": [
            "Train Epoch: 13 [48640/50176 (97%)]\tLoss: 1.387613\n"
          ],
          "name": "stdout"
        },
        {
          "output_type": "stream",
          "text": [
            "100%|██████████| 196/196 [00:18<00:00, 10.44it/s]"
          ],
          "name": "stderr"
        },
        {
          "output_type": "stream",
          "text": [
            "\n",
            "perplexity:  3.9854772387669213\n"
          ],
          "name": "stdout"
        },
        {
          "output_type": "stream",
          "text": [
            "\n"
          ],
          "name": "stderr"
        },
        {
          "output_type": "stream",
          "text": [
            "Input\tonly way left to get water, because Voldemort had planned it so ... He flung himself over to the edg\n",
            "GT\tnly way left to get water, because Voldemort had planned it so ... He flung himself over to the edge\n",
            "pred\tuey ahn tott th tot thlc   aucause toldemort wad tuanted tn iomt . te doing tim elf tuer th the snge\n",
            "\n",
            "\n",
            "Input\ts that had his arm. It released him, falling backward into the water with a splash; he scrambled to \n",
            "GT\t that had his arm. It released him, falling backward into the water with a splash; he scrambled to h\n",
            "pred\t Moat hed sem flm   t weaeased tim  hocling alck ard tnto the caler ahth h ctritt  oe darambled to t\n",
            "\n",
            "\n",
            "Input\tath, and his feet left the ground as they lifted him and began to carry him, slowly and surely, back\n",
            "GT\tth, and his feet left the ground as they lifted him and began to carry him, slowly and surely, back \n",
            "pred\tdh  tnd tes fiet sott the sround an the  sokted tim and sefan to toreyitim  ahiwly and stre y  auck \n",
            "\n",
            "\n",
            "Input\t . . . Dumbledore scooped the locket from the bottom of the stone basin and stowed it inside his rob\n",
            "GT\t. . . Dumbledore scooped the locket from the bottom of the stone basin and stowed it inside his robe\n",
            "pred\t\" . . .umbledore saroled toe sink d ooom the soytlm of the stane socinesnd shaoad tn wntide tim mobe\n",
            "\n",
            "\n",
            "Input\t\"sir, I forgot -- about fire -- they were coming at me and I panicked --\" \"Quite understandable,\" mu\n",
            "GT\tsir, I forgot -- about fire -- they were coming at me and I panicked --\" \"Quite understandable,\" mur\n",
            "pred\tIhr, y douget t  tnout tons t- yhe  were soning tn te tnd t duntseed t   \"Iuite snderstand nle   set\n",
            "\n",
            "\n",
            "\n",
            "Test set: Average loss: 1.3962, Accuracy: 731587/1254400 (58%)\n",
            "\n",
            "Saved /content/checkpoints/013.pt\n",
            "\n",
            "generated max\t\t Harry Potter, Voldemort, and Dumbledore walk into a bar.  \"I don't know what you can do you think you can think you want to see the stairs and the scream of the stairs and the stairs and standing to the stairs and standing at the stairs and standing at the \n",
            "generated sample\t Harry Potter, Voldemort, and Dumbledore walk into a bar. Dumbledore said = only a cedrian minute toast inf the crummld crand way around and satiling... . . It's snarlly as though something your muchbal phands black what I fruzt convinder anything and who le\n",
            "generated sample\t Harry Potter, Voldemort, and Dumbledore walk into a bar. Even shove still pulled to him flew eyew ers. \"Oon's exily frament.' The ast attaszed out. Her put had a dragons voice enchive your liwed the standwand of the godden crystant;. \"Not to all at five... \n",
            "generated sample\t Harry Potter, Voldemort, and Dumbledore walk into a bar. Hermione sand him a tuy line time. 'Addeps try not that he: you kill walf if world my everything fetting the pittering - All, I wondering me've o to twently joile to say you can caurade much pleak why\n",
            "generated sample\t Harry Potter, Voldemort, and Dumbledore walk into a bar. The scream on the relia shall some dask widen's next trolling sharp to what your books serent your grip yet mets glate your mystle screaming plays gount intired to CAG E[Bb leapt to Crophess Sirius wh\n",
            "generated sample\t Harry Potter, Voldemort, and Dumbledore walk into a bar.   \"Dim, you conic not try attent, that they will be last yealine by shall! Appair I Snape told he dressing your --rotice What are yer -- you much yourself and like the door pom remembered the door t-d\n",
            "generated sample\t Harry Potter, Voldemort, and Dumbledore walk into a bar. When kept trubbling plattered hour above one off times.  \"At diff understand stearting   he dumbned those she wanded at the hose oblight- liky efform that she couldn't hair not into that?\"   Ron knowe\n",
            "generated sample\t Harry Potter, Voldemort, and Dumbledore walk into a bar.  \"  \"I don't know what He might wait me doing it into the rum- sure yer-face, He two under me impost you don't stand you know, wonderwause.\"  Harry when that\"sley lime the spite sounds yealls, the wro\n",
            "generated sample\t Harry Potter, Voldemort, and Dumbledore walk into a bar.  It it's remain judger the drying to teate,\" said Harry; the Ron squaked, to fatch the hote some diffined Harry pointed as though Froffice he snadged uncountant a cut for whats was saw you knows huddl\n",
            "generated sample\t Harry Potter, Voldemort, and Dumbledore walk into a bar.  \"I'm not, to avaze   Afters -- doesn't weld-- he looked. .\"  Mprovet and it was going for a night of the lift, around her slike, and said Mrs. Vome But and he did not avoin the floor and meetes that \n",
            "generated sample\t Harry Potter, Voldemort, and Dumbledore walk into a bar.  . .  \"What had the dust watched the pourted irreat. And Kthing wing in your offer? Firely is well-- kill the Ministranger,\" sure, the changing stood time. Ff all owl, anyway \"  Intable that Harry hol\n"
          ],
          "name": "stdout"
        },
        {
          "output_type": "stream",
          "text": [
            "\r  0%|          | 0/196 [00:00<?, ?it/s]"
          ],
          "name": "stderr"
        },
        {
          "output_type": "stream",
          "text": [
            "generated beam\t\t Harry Potter, Voldemort, and Dumbledore walk into a bar. Low. ~ ord coolered in the knote.   Ministry four shrilled our orrimon Person --\"\" said Harry, \"Ron office Harry done effensive the desected cleames like blind to foub Krea, Slasher off, arti thing, i\n",
            "\n"
          ],
          "name": "stdout"
        },
        {
          "output_type": "stream",
          "text": [
            "  1%|          | 2/196 [00:00<00:40,  4.84it/s]"
          ],
          "name": "stderr"
        },
        {
          "output_type": "stream",
          "text": [
            "Train Epoch: 14 [0/50176 (0%)]\tLoss: 1.388436\n"
          ],
          "name": "stdout"
        },
        {
          "output_type": "stream",
          "text": [
            "  6%|▌         | 12/196 [00:01<00:20,  8.90it/s]"
          ],
          "name": "stderr"
        },
        {
          "output_type": "stream",
          "text": [
            "Train Epoch: 14 [2560/50176 (5%)]\tLoss: 1.361260\n"
          ],
          "name": "stdout"
        },
        {
          "output_type": "stream",
          "text": [
            " 11%|█         | 22/196 [00:02<00:17, 10.22it/s]"
          ],
          "name": "stderr"
        },
        {
          "output_type": "stream",
          "text": [
            "Train Epoch: 14 [5120/50176 (10%)]\tLoss: 1.410260\n"
          ],
          "name": "stdout"
        },
        {
          "output_type": "stream",
          "text": [
            " 16%|█▋        | 32/196 [00:03<00:15, 10.49it/s]"
          ],
          "name": "stderr"
        },
        {
          "output_type": "stream",
          "text": [
            "Train Epoch: 14 [7680/50176 (15%)]\tLoss: 1.409632\n"
          ],
          "name": "stdout"
        },
        {
          "output_type": "stream",
          "text": [
            " 21%|██▏       | 42/196 [00:04<00:14, 10.52it/s]"
          ],
          "name": "stderr"
        },
        {
          "output_type": "stream",
          "text": [
            "Train Epoch: 14 [10240/50176 (20%)]\tLoss: 1.389607\n"
          ],
          "name": "stdout"
        },
        {
          "output_type": "stream",
          "text": [
            " 27%|██▋       | 52/196 [00:05<00:13, 10.55it/s]"
          ],
          "name": "stderr"
        },
        {
          "output_type": "stream",
          "text": [
            "Train Epoch: 14 [12800/50176 (26%)]\tLoss: 1.380021\n"
          ],
          "name": "stdout"
        },
        {
          "output_type": "stream",
          "text": [
            " 32%|███▏      | 62/196 [00:06<00:12, 10.57it/s]"
          ],
          "name": "stderr"
        },
        {
          "output_type": "stream",
          "text": [
            "Train Epoch: 14 [15360/50176 (31%)]\tLoss: 1.387086\n"
          ],
          "name": "stdout"
        },
        {
          "output_type": "stream",
          "text": [
            " 37%|███▋      | 72/196 [00:06<00:11, 10.62it/s]"
          ],
          "name": "stderr"
        },
        {
          "output_type": "stream",
          "text": [
            "Train Epoch: 14 [17920/50176 (36%)]\tLoss: 1.391105\n"
          ],
          "name": "stdout"
        },
        {
          "output_type": "stream",
          "text": [
            " 42%|████▏     | 82/196 [00:07<00:10, 10.64it/s]"
          ],
          "name": "stderr"
        },
        {
          "output_type": "stream",
          "text": [
            "Train Epoch: 14 [20480/50176 (41%)]\tLoss: 1.363058\n"
          ],
          "name": "stdout"
        },
        {
          "output_type": "stream",
          "text": [
            " 47%|████▋     | 92/196 [00:08<00:09, 10.54it/s]"
          ],
          "name": "stderr"
        },
        {
          "output_type": "stream",
          "text": [
            "Train Epoch: 14 [23040/50176 (46%)]\tLoss: 1.363334\n"
          ],
          "name": "stdout"
        },
        {
          "output_type": "stream",
          "text": [
            " 52%|█████▏    | 102/196 [00:09<00:08, 10.50it/s]"
          ],
          "name": "stderr"
        },
        {
          "output_type": "stream",
          "text": [
            "Train Epoch: 14 [25600/50176 (51%)]\tLoss: 1.383973\n"
          ],
          "name": "stdout"
        },
        {
          "output_type": "stream",
          "text": [
            " 57%|█████▋    | 112/196 [00:10<00:08, 10.47it/s]"
          ],
          "name": "stderr"
        },
        {
          "output_type": "stream",
          "text": [
            "Train Epoch: 14 [28160/50176 (56%)]\tLoss: 1.398121\n"
          ],
          "name": "stdout"
        },
        {
          "output_type": "stream",
          "text": [
            " 62%|██████▏   | 122/196 [00:11<00:07, 10.55it/s]"
          ],
          "name": "stderr"
        },
        {
          "output_type": "stream",
          "text": [
            "Train Epoch: 14 [30720/50176 (61%)]\tLoss: 1.386088\n"
          ],
          "name": "stdout"
        },
        {
          "output_type": "stream",
          "text": [
            " 67%|██████▋   | 132/196 [00:12<00:06, 10.52it/s]"
          ],
          "name": "stderr"
        },
        {
          "output_type": "stream",
          "text": [
            "Train Epoch: 14 [33280/50176 (66%)]\tLoss: 1.357212\n"
          ],
          "name": "stdout"
        },
        {
          "output_type": "stream",
          "text": [
            " 72%|███████▏  | 142/196 [00:13<00:05, 10.63it/s]"
          ],
          "name": "stderr"
        },
        {
          "output_type": "stream",
          "text": [
            "Train Epoch: 14 [35840/50176 (71%)]\tLoss: 1.374205\n"
          ],
          "name": "stdout"
        },
        {
          "output_type": "stream",
          "text": [
            " 78%|███████▊  | 152/196 [00:14<00:04, 10.54it/s]"
          ],
          "name": "stderr"
        },
        {
          "output_type": "stream",
          "text": [
            "Train Epoch: 14 [38400/50176 (77%)]\tLoss: 1.367427\n"
          ],
          "name": "stdout"
        },
        {
          "output_type": "stream",
          "text": [
            " 83%|████████▎ | 162/196 [00:15<00:03, 10.52it/s]"
          ],
          "name": "stderr"
        },
        {
          "output_type": "stream",
          "text": [
            "Train Epoch: 14 [40960/50176 (82%)]\tLoss: 1.400046\n"
          ],
          "name": "stdout"
        },
        {
          "output_type": "stream",
          "text": [
            " 88%|████████▊ | 172/196 [00:16<00:02, 10.40it/s]"
          ],
          "name": "stderr"
        },
        {
          "output_type": "stream",
          "text": [
            "Train Epoch: 14 [43520/50176 (87%)]\tLoss: 1.392887\n"
          ],
          "name": "stdout"
        },
        {
          "output_type": "stream",
          "text": [
            " 93%|█████████▎| 182/196 [00:17<00:01, 10.43it/s]"
          ],
          "name": "stderr"
        },
        {
          "output_type": "stream",
          "text": [
            "Train Epoch: 14 [46080/50176 (92%)]\tLoss: 1.401387\n"
          ],
          "name": "stdout"
        },
        {
          "output_type": "stream",
          "text": [
            " 98%|█████████▊| 192/196 [00:18<00:00, 10.44it/s]"
          ],
          "name": "stderr"
        },
        {
          "output_type": "stream",
          "text": [
            "Train Epoch: 14 [48640/50176 (97%)]\tLoss: 1.383648\n"
          ],
          "name": "stdout"
        },
        {
          "output_type": "stream",
          "text": [
            "100%|██████████| 196/196 [00:18<00:00, 10.44it/s]"
          ],
          "name": "stderr"
        },
        {
          "output_type": "stream",
          "text": [
            "\n",
            "perplexity:  3.981000596891292\n"
          ],
          "name": "stdout"
        },
        {
          "output_type": "stream",
          "text": [
            "\n"
          ],
          "name": "stderr"
        },
        {
          "output_type": "stream",
          "text": [
            "Input\tonly way left to get water, because Voldemort had planned it so ... He flung himself over to the edg\n",
            "GT\tnly way left to get water, because Voldemort had planned it so ... He flung himself over to the edge\n",
            "pred\tu y thn toat th tot thsc   aucause holdemort wad buanted tn iomt . te woing tim elf tuer th the snge\n",
            "\n",
            "\n",
            "Input\ts that had his arm. It released him, falling backward into the water with a splash; he scrambled to \n",
            "GT\t that had his arm. It released him, falling backward into the water with a splash; he scrambled to h\n",
            "pred\t Moat hed hes lrm  \"t weaeased tim  hoiling aack ard tnto the caler.ahth h ltritt  oe harambled oo h\n",
            "\n",
            "\n",
            "Input\tath, and his feet left the ground as they lifted him and began to carry him, slowly and surely, back\n",
            "GT\tth, and his feet left the ground as they lifted him and began to carry him, slowly and surely, back \n",
            "pred\tdh  and tes eiet aoat the sround an the  wokted tim and telan to horryitim  hhiwly atd ttre y  aurk \n",
            "\n",
            "\n",
            "Input\t . . . Dumbledore scooped the locket from the bottom of the stone basin and stowed it inside his rob\n",
            "GT\t. . . Dumbledore scooped the locket from the bottom of the stone basin and stowed it inside his robe\n",
            "pred\t\" . . .umbledore waroled toe sink d ooom the soytlm of the ctane socinehnd htaoad an antide tis hobe\n",
            "\n",
            "\n",
            "Input\t\"sir, I forgot -- about fire -- they were coming at me and I panicked --\" \"Quite understandable,\" mu\n",
            "GT\tsir, I forgot -- about fire -- they were coming at me and I panicked --\" \"Quite understandable,\" mur\n",
            "pred\tIhr, a wougottt  Inout tons t- Ihe 'ware toning tn te tnd t wurtshed t-  \"Iuite snderstand nle   sut\n",
            "\n",
            "\n",
            "\n",
            "Test set: Average loss: 1.3881, Accuracy: 736123/1254400 (59%)\n",
            "\n",
            "Saved /content/checkpoints/014.pt\n",
            "\n",
            "generated max\t\t Harry Potter, Voldemort, and Dumbledore walk into a bar. \"I want to think the stairs of the corridor to the stairs and the stairs of the corridor that he was standing at the stairs and the stairs and the stairs of the corridor that he had been her eyes was \n",
            "generated sample\t Harry Potter, Voldemort, and Dumbledore walk into a bar. He suspemed to his fiefland at the stair. \"Fighering you want blutes will you movs not chummered, i'more however boyler what a planfty diventuine had a ruffed into the lot of down what looked up awaze\n",
            "generated sample\t Harry Potter, Voldemort, and Dumbledore walk into a bar. Slooming both-curped again. \"I have kepped your foot dorting dispreas, the don''  \"Conercrus, I cridden exaisverant you ambrode chawn out and all into unumpre don' tiescine the too whore the I'very fr\n",
            "generated sample\t Harry Potter, Voldemort, and Dumbledore walk into a bar. \"Of the comforts mind mirle's had rumined the sime. He hendid4yed him. I've told every one.\"  And the some frue windows. \"It wastered our snct Muggle,\" \"Oh ...\". TIrellimys orss off withough as linger\n",
            "generated sample\t Harry Potter, Voldemort, and Dumbledore walk into a bar. \"Can had been the cold sho'd in a bed. \"I. Euch grinith hand us too to what it was?\" he turned to the door of the conterted of the door the girluney \"I mean home out afternoon,\" said was still staking\n",
            "generated sample\t Harry Potter, Voldemort, and Dumbledore walk into a bar. \"URafter !\"  \"Excar--\" Filch then beamined stuff to the Dursleer exautions and however, lich taben him around the combled. \"Eay!' come inled nothing well notside than once there if you wanted, walking\n",
            "generated sample\t Harry Potter, Voldemort, and Dumbledore walk into a bar.  \"Dith one worm to nothing any ojen? Oh,'then ideQ -- I don' whistle dark for next while for. And Goyle had runny ever was staming forwas of voice into the contents of my old, Frophen in the castle fo\n",
            "generated sample\t Harry Potter, Voldemort, and Dumbledore walk into a bar. Hermione gave out away the evide 7-CRE1H  \"Sore that Professor Enchans!\" Howere -\" Harry wasn the door. \"Ourse, I wants?\" \"Hermione's glibberin. Hi'corneline hofes listen him, why yough around!\" Modem\n",
            "generated sample\t Harry Potter, Voldemort, and Dumbledore walk into a bar. \"Orthurry word!\" said Harry criemed. \"This with, -It sak one amon that Days limped Peduirs like to move on edfice. \"Oh, noway. And the Ministrime Weasleys was evpided in.\" \"And the samech bookshalt, I\n",
            "generated sample\t Harry Potter, Voldemort, and Dumbledore walk into a bar. Harry drained the sinus. Nored hand a corridor opents waving slidwing night, there had back urganted let elebenorm, in die mean than his bees spined at him shrilledly, exived him horrose with the stai\n",
            "generated sample\t Harry Potter, Voldemort, and Dumbledore walk into a bar. He pulled having up intritus this tining to the back of the librors, croubbbing his read turned on himself over with him spept criting his disappear The light had been primed frant waited him another \n"
          ],
          "name": "stdout"
        },
        {
          "output_type": "stream",
          "text": [
            "\r  0%|          | 0/196 [00:00<?, ?it/s]"
          ],
          "name": "stderr"
        },
        {
          "output_type": "stream",
          "text": [
            "generated beam\t\t Harry Potter, Voldemort, and Dumbledore walk into a bar. istone sharbly fatier shinking his head word around him aparently. \"Hanwtollet, now.  \"This that you moved with each office.\"  Nor -\" Snapured his plain indigning to the first polital pointing around,\n",
            "\n"
          ],
          "name": "stdout"
        },
        {
          "output_type": "stream",
          "text": [
            "  1%|          | 2/196 [00:00<00:39,  4.86it/s]"
          ],
          "name": "stderr"
        },
        {
          "output_type": "stream",
          "text": [
            "Train Epoch: 15 [0/50176 (0%)]\tLoss: 1.381170\n"
          ],
          "name": "stdout"
        },
        {
          "output_type": "stream",
          "text": [
            "  6%|▌         | 12/196 [00:01<00:20,  8.91it/s]"
          ],
          "name": "stderr"
        },
        {
          "output_type": "stream",
          "text": [
            "Train Epoch: 15 [2560/50176 (5%)]\tLoss: 1.360702\n"
          ],
          "name": "stdout"
        },
        {
          "output_type": "stream",
          "text": [
            " 11%|█         | 22/196 [00:02<00:16, 10.24it/s]"
          ],
          "name": "stderr"
        },
        {
          "output_type": "stream",
          "text": [
            "Train Epoch: 15 [5120/50176 (10%)]\tLoss: 1.402282\n"
          ],
          "name": "stdout"
        },
        {
          "output_type": "stream",
          "text": [
            " 16%|█▋        | 32/196 [00:03<00:15, 10.51it/s]"
          ],
          "name": "stderr"
        },
        {
          "output_type": "stream",
          "text": [
            "Train Epoch: 15 [7680/50176 (15%)]\tLoss: 1.390660\n"
          ],
          "name": "stdout"
        },
        {
          "output_type": "stream",
          "text": [
            " 21%|██▏       | 42/196 [00:04<00:14, 10.56it/s]"
          ],
          "name": "stderr"
        },
        {
          "output_type": "stream",
          "text": [
            "Train Epoch: 15 [10240/50176 (20%)]\tLoss: 1.367552\n"
          ],
          "name": "stdout"
        },
        {
          "output_type": "stream",
          "text": [
            " 27%|██▋       | 52/196 [00:05<00:13, 10.63it/s]"
          ],
          "name": "stderr"
        },
        {
          "output_type": "stream",
          "text": [
            "Train Epoch: 15 [12800/50176 (26%)]\tLoss: 1.385613\n"
          ],
          "name": "stdout"
        },
        {
          "output_type": "stream",
          "text": [
            " 32%|███▏      | 62/196 [00:06<00:12, 10.63it/s]"
          ],
          "name": "stderr"
        },
        {
          "output_type": "stream",
          "text": [
            "Train Epoch: 15 [15360/50176 (31%)]\tLoss: 1.391911\n"
          ],
          "name": "stdout"
        },
        {
          "output_type": "stream",
          "text": [
            " 37%|███▋      | 72/196 [00:06<00:11, 10.58it/s]"
          ],
          "name": "stderr"
        },
        {
          "output_type": "stream",
          "text": [
            "Train Epoch: 15 [17920/50176 (36%)]\tLoss: 1.381409\n"
          ],
          "name": "stdout"
        },
        {
          "output_type": "stream",
          "text": [
            " 42%|████▏     | 82/196 [00:07<00:10, 10.54it/s]"
          ],
          "name": "stderr"
        },
        {
          "output_type": "stream",
          "text": [
            "Train Epoch: 15 [20480/50176 (41%)]\tLoss: 1.357186\n"
          ],
          "name": "stdout"
        },
        {
          "output_type": "stream",
          "text": [
            " 47%|████▋     | 92/196 [00:08<00:09, 10.57it/s]"
          ],
          "name": "stderr"
        },
        {
          "output_type": "stream",
          "text": [
            "Train Epoch: 15 [23040/50176 (46%)]\tLoss: 1.392025\n"
          ],
          "name": "stdout"
        },
        {
          "output_type": "stream",
          "text": [
            " 52%|█████▏    | 102/196 [00:09<00:08, 10.51it/s]"
          ],
          "name": "stderr"
        },
        {
          "output_type": "stream",
          "text": [
            "Train Epoch: 15 [25600/50176 (51%)]\tLoss: 1.392874\n"
          ],
          "name": "stdout"
        },
        {
          "output_type": "stream",
          "text": [
            " 57%|█████▋    | 112/196 [00:10<00:08, 10.48it/s]"
          ],
          "name": "stderr"
        },
        {
          "output_type": "stream",
          "text": [
            "Train Epoch: 15 [28160/50176 (56%)]\tLoss: 1.383827\n"
          ],
          "name": "stdout"
        },
        {
          "output_type": "stream",
          "text": [
            " 62%|██████▏   | 122/196 [00:11<00:07, 10.51it/s]"
          ],
          "name": "stderr"
        },
        {
          "output_type": "stream",
          "text": [
            "Train Epoch: 15 [30720/50176 (61%)]\tLoss: 1.374556\n"
          ],
          "name": "stdout"
        },
        {
          "output_type": "stream",
          "text": [
            " 67%|██████▋   | 132/196 [00:12<00:06, 10.54it/s]"
          ],
          "name": "stderr"
        },
        {
          "output_type": "stream",
          "text": [
            "Train Epoch: 15 [33280/50176 (66%)]\tLoss: 1.352315\n"
          ],
          "name": "stdout"
        },
        {
          "output_type": "stream",
          "text": [
            " 72%|███████▏  | 142/196 [00:13<00:05, 10.51it/s]"
          ],
          "name": "stderr"
        },
        {
          "output_type": "stream",
          "text": [
            "Train Epoch: 15 [35840/50176 (71%)]\tLoss: 1.376299\n"
          ],
          "name": "stdout"
        },
        {
          "output_type": "stream",
          "text": [
            " 78%|███████▊  | 152/196 [00:14<00:04, 10.33it/s]"
          ],
          "name": "stderr"
        },
        {
          "output_type": "stream",
          "text": [
            "Train Epoch: 15 [38400/50176 (77%)]\tLoss: 1.374762\n"
          ],
          "name": "stdout"
        },
        {
          "output_type": "stream",
          "text": [
            " 83%|████████▎ | 162/196 [00:15<00:03, 10.59it/s]"
          ],
          "name": "stderr"
        },
        {
          "output_type": "stream",
          "text": [
            "Train Epoch: 15 [40960/50176 (82%)]\tLoss: 1.410854\n"
          ],
          "name": "stdout"
        },
        {
          "output_type": "stream",
          "text": [
            " 88%|████████▊ | 172/196 [00:16<00:02, 10.52it/s]"
          ],
          "name": "stderr"
        },
        {
          "output_type": "stream",
          "text": [
            "Train Epoch: 15 [43520/50176 (87%)]\tLoss: 1.387517\n"
          ],
          "name": "stdout"
        },
        {
          "output_type": "stream",
          "text": [
            " 93%|█████████▎| 182/196 [00:17<00:01, 10.49it/s]"
          ],
          "name": "stderr"
        },
        {
          "output_type": "stream",
          "text": [
            "Train Epoch: 15 [46080/50176 (92%)]\tLoss: 1.385665\n"
          ],
          "name": "stdout"
        },
        {
          "output_type": "stream",
          "text": [
            " 98%|█████████▊| 192/196 [00:18<00:00, 10.45it/s]"
          ],
          "name": "stderr"
        },
        {
          "output_type": "stream",
          "text": [
            "Train Epoch: 15 [48640/50176 (97%)]\tLoss: 1.388057\n"
          ],
          "name": "stdout"
        },
        {
          "output_type": "stream",
          "text": [
            "100%|██████████| 196/196 [00:18<00:00, 10.44it/s]"
          ],
          "name": "stderr"
        },
        {
          "output_type": "stream",
          "text": [
            "\n",
            "perplexity:  3.9608070031254026\n"
          ],
          "name": "stdout"
        },
        {
          "output_type": "stream",
          "text": [
            "\n"
          ],
          "name": "stderr"
        },
        {
          "output_type": "stream",
          "text": [
            "Input\tonly way left to get water, because Voldemort had planned it so ... He flung himself over to the edg\n",
            "GT\tnly way left to get water, because Voldemort had planned it so ... He flung himself over to the edge\n",
            "pred\tuey ohn toat th tot thlc   tucause holdemort wad tuanted tn iomt . te woing tim elf tuer th the snge\n",
            "\n",
            "\n",
            "Input\ts that had his arm. It released him, falling backward into the water with a splash; he scrambled to \n",
            "GT\t that had his arm. It released him, falling backward into the water with a splash; he scrambled to h\n",
            "pred\t Moat hed bes frm   t weaeased tim  hoiling arck ard tnto the saler ahth h stritt  oe harambled oo h\n",
            "\n",
            "\n",
            "Input\tath, and his feet left the ground as they lifted him and began to carry him, slowly and surely, back\n",
            "GT\tth, and his feet left the ground as they lifted him and began to carry him, slowly and surely, back \n",
            "pred\tdh  tnd tes eiet aoat the sround an the  wokted tim and selan to horryitim  hhiwly and stre y  auck \n",
            "\n",
            "\n",
            "Input\t . . . Dumbledore scooped the locket from the bottom of the stone basin and stowed it inside his rob\n",
            "GT\t. . . Dumbledore scooped the locket from the bottom of the stone basin and stowed it inside his robe\n",
            "pred\t\" . . .umbledore waroled ioe sonk d ooom the soytlm of the stane socinehnd htaoad an intide tim wobe\n",
            "\n",
            "\n",
            "Input\t\"sir, I forgot -- about fire -- they were coming at me and I panicked --\" \"Quite understandable,\" mu\n",
            "GT\tsir, I forgot -- about fire -- they were coming at me and I panicked --\" \"Quite understandable,\" mur\n",
            "pred\tIhr, I wougottt  Inout tons t- Ihe  were toming tn te tnd t wurtseed t   \"Iuite snderstand gle   sut\n",
            "\n",
            "\n",
            "\n",
            "Test set: Average loss: 1.3880, Accuracy: 735041/1254400 (59%)\n",
            "\n",
            "generated max\t\t Harry Potter, Voldemort, and Dumbledore walk into a bar.  \"I want to the second to the scream of the stairs and the stairs of the stairs of the stairs and standing at the stairs and standing at the stairs and standing at the stairs and standing at the stair\n",
            "generated sample\t Harry Potter, Voldemort, and Dumbledore walk into a bar.   \"AKall, your gray!\" which courded his most antinibly onten Figgling Thorolation What doy threase upo intideslages dling nody off, the change over Snape looked over the wall after the voice Ron the d\n",
            "generated sample\t Harry Potter, Voldemort, and Dumbledore walk into a bar. \"So one of sumpering off mething con!\" And Harry looked up, refiling that moved every rime sluggers, he was listening full to retugh to hear off out else to go over and Harry had your note shrieked an\n",
            "generated sample\t Harry Potter, Voldemort, and Dumbledore walk into a bar. at the glood.  The Weasley one of the fourd on she was waited up at it, and stared apodime slijped stapining his eyes. She stunned to his Funga. And buring Harry thought leading him into a lock bound \n",
            "generated sample\t Harry Potter, Voldemort, and Dumbledore walk into a bar. \"our flins shriut cark... not the tose reflabbed club. Fang yourhalf' and our friggling. I mead them in the corridar immeriant half\" HArry standed witch with Harry) Thanse Hagrid!. \"My can't just crou\n",
            "generated sample\t Harry Potter, Voldemort, and Dumbledore walk into a bar. Drance Harry around him and stuffed him out alone knockededs and wall child he reput stawing up the not anothem him blacked glute out and asked.  \"Share you canedished mirstle.. Certo fighed make the \n",
            "generated sample\t Harry Potter, Voldemort, and Dumbledore walk into a bar. \"Hristment!\" She did yough.\" \"Sho, Mr. Weasley!\" he said, \"Buggancouired me feen to set Evan aller Maxforant hands, noise worth's carried crailed twissessior    then? Of course is difficular reloge, E\n",
            "generated sample\t Harry Potter, Voldemort, and Dumbledore walk into a bar. Good hear her lafe, ofboding boys hand gnate extrancinages offoratiecSlefted to the Maricket\" Howerer order the stones, and hurried out of the shedden of our sque hooped. \"When's almost,\" said Profess\n",
            "generated sample\t Harry Potter, Voldemort, and Dumbledore walk into a bar.   \"The teachole thind intitests doinct on a lot at the tubble-orm was continking it out a difit him,\" \"It say east the ground is inprovients for HAUp.\" Cedrive was slights cauchling to the sort of inv\n",
            "generated sample\t Harry Potter, Voldemort, and Dumbledore walk into a bar.  \"I get the barroint? you were you added- and Horris--\" \"- he wanted to read the gnatime Fortive. I remind the Moving's obviously.\"  \"Not looking nothing used fuming him; he houncousled anyone cominga\n",
            "generated sample\t Harry Potter, Voldemort, and Dumbledore walk into a bar.  Flime Moldemort's wall that swiphed off tobuts.   \"I want ferst?(I what the invinedles doored the ordinace would'voaning enching conited the classrenot culling a thing wa. Why - regling me to speak.\"\n"
          ],
          "name": "stdout"
        },
        {
          "output_type": "stream",
          "text": [
            "\r  0%|          | 0/196 [00:00<?, ?it/s]"
          ],
          "name": "stderr"
        },
        {
          "output_type": "stream",
          "text": [
            "generated beam\t\t Harry Potter, Voldemort, and Dumbledore walk into a bar. I'll have your occured what you gnouged; Percy hurryed into it, gready realing the wears Fred want to Hermione looked a noidal. \"Not gixched your screety door to the pkinfine \"Birth, if your scatest b\n",
            "\n"
          ],
          "name": "stdout"
        },
        {
          "output_type": "stream",
          "text": [
            "  1%|          | 2/196 [00:00<00:39,  4.89it/s]"
          ],
          "name": "stderr"
        },
        {
          "output_type": "stream",
          "text": [
            "Train Epoch: 16 [0/50176 (0%)]\tLoss: 1.379675\n"
          ],
          "name": "stdout"
        },
        {
          "output_type": "stream",
          "text": [
            "  6%|▌         | 12/196 [00:01<00:20,  8.82it/s]"
          ],
          "name": "stderr"
        },
        {
          "output_type": "stream",
          "text": [
            "Train Epoch: 16 [2560/50176 (5%)]\tLoss: 1.358155\n"
          ],
          "name": "stdout"
        },
        {
          "output_type": "stream",
          "text": [
            " 11%|█         | 22/196 [00:02<00:16, 10.33it/s]"
          ],
          "name": "stderr"
        },
        {
          "output_type": "stream",
          "text": [
            "Train Epoch: 16 [5120/50176 (10%)]\tLoss: 1.400996\n"
          ],
          "name": "stdout"
        },
        {
          "output_type": "stream",
          "text": [
            " 16%|█▋        | 32/196 [00:03<00:15, 10.58it/s]"
          ],
          "name": "stderr"
        },
        {
          "output_type": "stream",
          "text": [
            "Train Epoch: 16 [7680/50176 (15%)]\tLoss: 1.414352\n"
          ],
          "name": "stdout"
        },
        {
          "output_type": "stream",
          "text": [
            " 21%|██▏       | 42/196 [00:04<00:14, 10.68it/s]"
          ],
          "name": "stderr"
        },
        {
          "output_type": "stream",
          "text": [
            "Train Epoch: 16 [10240/50176 (20%)]\tLoss: 1.394328\n"
          ],
          "name": "stdout"
        },
        {
          "output_type": "stream",
          "text": [
            " 27%|██▋       | 52/196 [00:05<00:13, 10.59it/s]"
          ],
          "name": "stderr"
        },
        {
          "output_type": "stream",
          "text": [
            "Train Epoch: 16 [12800/50176 (26%)]\tLoss: 1.367543\n"
          ],
          "name": "stdout"
        },
        {
          "output_type": "stream",
          "text": [
            " 32%|███▏      | 62/196 [00:06<00:12, 10.62it/s]"
          ],
          "name": "stderr"
        },
        {
          "output_type": "stream",
          "text": [
            "Train Epoch: 16 [15360/50176 (31%)]\tLoss: 1.376920\n"
          ],
          "name": "stdout"
        },
        {
          "output_type": "stream",
          "text": [
            " 37%|███▋      | 72/196 [00:06<00:11, 10.57it/s]"
          ],
          "name": "stderr"
        },
        {
          "output_type": "stream",
          "text": [
            "Train Epoch: 16 [17920/50176 (36%)]\tLoss: 1.380831\n"
          ],
          "name": "stdout"
        },
        {
          "output_type": "stream",
          "text": [
            " 42%|████▏     | 82/196 [00:07<00:10, 10.53it/s]"
          ],
          "name": "stderr"
        },
        {
          "output_type": "stream",
          "text": [
            "Train Epoch: 16 [20480/50176 (41%)]\tLoss: 1.363025\n"
          ],
          "name": "stdout"
        },
        {
          "output_type": "stream",
          "text": [
            " 47%|████▋     | 92/196 [00:08<00:09, 10.45it/s]"
          ],
          "name": "stderr"
        },
        {
          "output_type": "stream",
          "text": [
            "Train Epoch: 16 [23040/50176 (46%)]\tLoss: 1.360112\n"
          ],
          "name": "stdout"
        },
        {
          "output_type": "stream",
          "text": [
            " 52%|█████▏    | 102/196 [00:09<00:08, 10.48it/s]"
          ],
          "name": "stderr"
        },
        {
          "output_type": "stream",
          "text": [
            "Train Epoch: 16 [25600/50176 (51%)]\tLoss: 1.384506\n"
          ],
          "name": "stdout"
        },
        {
          "output_type": "stream",
          "text": [
            " 57%|█████▋    | 112/196 [00:10<00:07, 10.55it/s]"
          ],
          "name": "stderr"
        },
        {
          "output_type": "stream",
          "text": [
            "Train Epoch: 16 [28160/50176 (56%)]\tLoss: 1.385633\n"
          ],
          "name": "stdout"
        },
        {
          "output_type": "stream",
          "text": [
            " 62%|██████▏   | 122/196 [00:11<00:07, 10.54it/s]"
          ],
          "name": "stderr"
        },
        {
          "output_type": "stream",
          "text": [
            "Train Epoch: 16 [30720/50176 (61%)]\tLoss: 1.398361\n"
          ],
          "name": "stdout"
        },
        {
          "output_type": "stream",
          "text": [
            " 67%|██████▋   | 132/196 [00:12<00:06, 10.52it/s]"
          ],
          "name": "stderr"
        },
        {
          "output_type": "stream",
          "text": [
            "Train Epoch: 16 [33280/50176 (66%)]\tLoss: 1.362837\n"
          ],
          "name": "stdout"
        },
        {
          "output_type": "stream",
          "text": [
            " 72%|███████▏  | 142/196 [00:13<00:05, 10.50it/s]"
          ],
          "name": "stderr"
        },
        {
          "output_type": "stream",
          "text": [
            "Train Epoch: 16 [35840/50176 (71%)]\tLoss: 1.368463\n"
          ],
          "name": "stdout"
        },
        {
          "output_type": "stream",
          "text": [
            " 78%|███████▊  | 152/196 [00:14<00:04, 10.57it/s]"
          ],
          "name": "stderr"
        },
        {
          "output_type": "stream",
          "text": [
            "Train Epoch: 16 [38400/50176 (77%)]\tLoss: 1.351342\n"
          ],
          "name": "stdout"
        },
        {
          "output_type": "stream",
          "text": [
            " 83%|████████▎ | 162/196 [00:15<00:03, 10.56it/s]"
          ],
          "name": "stderr"
        },
        {
          "output_type": "stream",
          "text": [
            "Train Epoch: 16 [40960/50176 (82%)]\tLoss: 1.390002\n"
          ],
          "name": "stdout"
        },
        {
          "output_type": "stream",
          "text": [
            " 88%|████████▊ | 172/196 [00:16<00:02, 10.50it/s]"
          ],
          "name": "stderr"
        },
        {
          "output_type": "stream",
          "text": [
            "Train Epoch: 16 [43520/50176 (87%)]\tLoss: 1.375862\n"
          ],
          "name": "stdout"
        },
        {
          "output_type": "stream",
          "text": [
            " 93%|█████████▎| 182/196 [00:17<00:01, 10.46it/s]"
          ],
          "name": "stderr"
        },
        {
          "output_type": "stream",
          "text": [
            "Train Epoch: 16 [46080/50176 (92%)]\tLoss: 1.377962\n"
          ],
          "name": "stdout"
        },
        {
          "output_type": "stream",
          "text": [
            " 98%|█████████▊| 192/196 [00:18<00:00, 10.48it/s]"
          ],
          "name": "stderr"
        },
        {
          "output_type": "stream",
          "text": [
            "Train Epoch: 16 [48640/50176 (97%)]\tLoss: 1.384758\n"
          ],
          "name": "stdout"
        },
        {
          "output_type": "stream",
          "text": [
            "100%|██████████| 196/196 [00:18<00:00, 10.45it/s]"
          ],
          "name": "stderr"
        },
        {
          "output_type": "stream",
          "text": [
            "\n",
            "perplexity:  3.9536892243717014\n"
          ],
          "name": "stdout"
        },
        {
          "output_type": "stream",
          "text": [
            "\n"
          ],
          "name": "stderr"
        },
        {
          "output_type": "stream",
          "text": [
            "Input\tonly way left to get water, because Voldemort had planned it so ... He flung himself over to the edg\n",
            "GT\tnly way left to get water, because Voldemort had planned it so ... He flung himself over to the edge\n",
            "pred\tu y shn toat th tot thlc   aucause holdemort wad buanted tn womt . te woing him elf auer th the snge\n",
            "\n",
            "\n",
            "Input\ts that had his arm. It released him, falling backward into the water with a splash; he scrambled to \n",
            "GT\t that had his arm. It released him, falling backward into the water with a splash; he scrambled to h\n",
            "pred\t Moat hed bes slm  \"t weaeated tim  hocling alck ard tnto the caler.ahth h ctritt  oe sarambled oo h\n",
            "\n",
            "\n",
            "Input\tath, and his feet left the ground as they lifted him and began to carry him, slowly and surely, back\n",
            "GT\tth, and his feet left the ground as they lifted him and began to carry him, slowly and surely, back \n",
            "pred\tdh  tnd tes caet aoat the sround on the  wokeed tim and selan to holry tim  hhiwly atd stre y  auck \n",
            "\n",
            "\n",
            "Input\t . . . Dumbledore scooped the locket from the bottom of the stone basin and stowed it inside his rob\n",
            "GT\t. . . Dumbledore scooped the locket from the bottom of the stone basin and stowed it inside his robe\n",
            "pred\t\" . . .umbledore waroled toe sook d ooom the soytlm of the stane slcinesnd staoad an an ide tim cobe\n",
            "\n",
            "\n",
            "Input\t\"sir, I forgot -- about fire -- they were coming at me and I panicked --\" \"Quite understandable,\" mu\n",
            "GT\tsir, I forgot -- about fire -- they were coming at me and I panicked --\" \"Quite understandable,\" mur\n",
            "pred\tIhr, y wougottt  Inout tons y- Ihe  ware soling tn te tld s wuntseed t-  \"Iuite snderstand nle   sut\n",
            "\n",
            "\n",
            "\n",
            "Test set: Average loss: 1.4001, Accuracy: 734282/1254400 (59%)\n",
            "\n",
            "generated max\t\t Harry Potter, Voldemort, and Dumbledore walk into a bar. He was standing at the stairs and standing at the stairs and standing at the stairs and standing at the stairs and standing at the stairs and standing at the stairs and standing at the stairs and stan\n",
            "generated sample\t Harry Potter, Voldemort, and Dumbledore walk into a bar.  \"Would well that he - why you had the good like what you can't come the Dumbledore looked evet to get you to meaning into the Knockgaurs's office; Scread Professor Juvine, I tumbled you going to the \n",
            "generated sample\t Harry Potter, Voldemort, and Dumbledore walk into a bar.  Croggbort opened Harry was thin. \"Yone spirit. But the outside or looked mustage into him; out -\" yere you die..\" He was crying to bear and which lipping in the comoup down and stayed ear group atten\n",
            "generated sample\t Harry Potter, Voldemort, and Dumbledore walk into a bar. . \"What would hurry to Harry alowen, Listening. It she say slivered off and his eying like the pozes. He down the booking the crowd or a Speak of Fawten his edge stained into the thing Harry had the n\n",
            "generated sample\t Harry Potter, Voldemort, and Dumbledore walk into a bar. Muggle had slipping now the his Kwink and fazinished run to tee Leath Harry's slealer. Ron and Uthough. He shiff him hot take just nothing, what Harry got the stood Dumbledore and Hermione was commini\n",
            "generated sample\t Harry Potter, Voldemort, and Dumbledore walk into a bar. What Ron said forward. \"Nodd consented tall more one the contain Along Slucky and her beds curidged Elswand who wouldn't kippidred the Nobbelitors covered. \"Quice what all offering the gollation agait\n",
            "generated sample\t Harry Potter, Voldemort, and Dumbledore walk into a bar. \"Have bace again -\" \"Occused in want out how only about your . He knowing me the Fings read a petuniate.   why who would heal of your matter Dumbledore *-Shaped How did you'll be certaible of came Mud\n",
            "generated sample\t Harry Potter, Voldemort, and Dumbledore walk into a bar. He had belonied to him, would he could see holding Dudleys the hove extron Sortin would'voines black for a splake of guape studentin' \"go and want to take the old 'f the Death Cam. Were yould wonderin\n",
            "generated sample\t Harry Potter, Voldemort, and Dumbledore walk into a bar.  \"Do why' he rip. That AIt o worrtain I wn amonan't she goes roaging crossinily. Harry away dreading shaking her own early lotting than evening into the twing moving along to terring over toward his b\n",
            "generated sample\t Harry Potter, Voldemort, and Dumbledore walk into a bar. Harry Harry he jood start too. Ron and Hermione wanting zoodoganes; Grumbledough, to his long purple over to every meas drink tiped occhase of the really same! \"He dicked down clup, Now change Pater h\n",
            "generated sample\t Harry Potter, Voldemort, and Dumbledore walk into a bar. E sleeped up that mouth left bluttern ouch slidych glass Malfoy stoning sharpers precating Harry and his eye plate into invinished at the coonday never got at the tobe head, and he had sudden this kni\n"
          ],
          "name": "stdout"
        },
        {
          "output_type": "stream",
          "text": [
            "\r  0%|          | 0/196 [00:00<?, ?it/s]"
          ],
          "name": "stderr"
        },
        {
          "output_type": "stream",
          "text": [
            "generated beam\t\t Harry Potter, Voldemort, and Dumbledore walk into a bar. Howay!\" He sempoded truning her wand around the room into the cig, and he doubted him-again. \"It ?\" he said in anotagh Nock. He huddered to gleak out of your mind. This blate stairs  \" Sirk bircles sc\n",
            "\n"
          ],
          "name": "stdout"
        },
        {
          "output_type": "stream",
          "text": [
            "  1%|          | 2/196 [00:00<00:39,  4.89it/s]"
          ],
          "name": "stderr"
        },
        {
          "output_type": "stream",
          "text": [
            "Train Epoch: 17 [0/50176 (0%)]\tLoss: 1.392553\n"
          ],
          "name": "stdout"
        },
        {
          "output_type": "stream",
          "text": [
            "  7%|▋         | 13/196 [00:01<00:19,  9.35it/s]"
          ],
          "name": "stderr"
        },
        {
          "output_type": "stream",
          "text": [
            "Train Epoch: 17 [2560/50176 (5%)]\tLoss: 1.359716\n"
          ],
          "name": "stdout"
        },
        {
          "output_type": "stream",
          "text": [
            " 12%|█▏        | 23/196 [00:02<00:16, 10.34it/s]"
          ],
          "name": "stderr"
        },
        {
          "output_type": "stream",
          "text": [
            "Train Epoch: 17 [5120/50176 (10%)]\tLoss: 1.393250\n"
          ],
          "name": "stdout"
        },
        {
          "output_type": "stream",
          "text": [
            " 17%|█▋        | 33/196 [00:03<00:15, 10.60it/s]"
          ],
          "name": "stderr"
        },
        {
          "output_type": "stream",
          "text": [
            "Train Epoch: 17 [7680/50176 (15%)]\tLoss: 1.381465\n"
          ],
          "name": "stdout"
        },
        {
          "output_type": "stream",
          "text": [
            " 22%|██▏       | 43/196 [00:04<00:14, 10.57it/s]"
          ],
          "name": "stderr"
        },
        {
          "output_type": "stream",
          "text": [
            "Train Epoch: 17 [10240/50176 (20%)]\tLoss: 1.366099\n"
          ],
          "name": "stdout"
        },
        {
          "output_type": "stream",
          "text": [
            " 27%|██▋       | 53/196 [00:05<00:13, 10.54it/s]"
          ],
          "name": "stderr"
        },
        {
          "output_type": "stream",
          "text": [
            "Train Epoch: 17 [12800/50176 (26%)]\tLoss: 1.364273\n"
          ],
          "name": "stdout"
        },
        {
          "output_type": "stream",
          "text": [
            " 32%|███▏      | 63/196 [00:06<00:12, 10.51it/s]"
          ],
          "name": "stderr"
        },
        {
          "output_type": "stream",
          "text": [
            "Train Epoch: 17 [15360/50176 (31%)]\tLoss: 1.377830\n"
          ],
          "name": "stdout"
        },
        {
          "output_type": "stream",
          "text": [
            " 37%|███▋      | 73/196 [00:07<00:11, 10.51it/s]"
          ],
          "name": "stderr"
        },
        {
          "output_type": "stream",
          "text": [
            "Train Epoch: 17 [17920/50176 (36%)]\tLoss: 1.400995\n"
          ],
          "name": "stdout"
        },
        {
          "output_type": "stream",
          "text": [
            " 42%|████▏     | 83/196 [00:08<00:10, 10.47it/s]"
          ],
          "name": "stderr"
        },
        {
          "output_type": "stream",
          "text": [
            "Train Epoch: 17 [20480/50176 (41%)]\tLoss: 1.364713\n"
          ],
          "name": "stdout"
        },
        {
          "output_type": "stream",
          "text": [
            " 47%|████▋     | 93/196 [00:08<00:09, 10.49it/s]"
          ],
          "name": "stderr"
        },
        {
          "output_type": "stream",
          "text": [
            "Train Epoch: 17 [23040/50176 (46%)]\tLoss: 1.361683\n"
          ],
          "name": "stdout"
        },
        {
          "output_type": "stream",
          "text": [
            " 53%|█████▎    | 103/196 [00:09<00:08, 10.46it/s]"
          ],
          "name": "stderr"
        },
        {
          "output_type": "stream",
          "text": [
            "Train Epoch: 17 [25600/50176 (51%)]\tLoss: 1.369317\n"
          ],
          "name": "stdout"
        },
        {
          "output_type": "stream",
          "text": [
            " 58%|█████▊    | 113/196 [00:10<00:07, 10.51it/s]"
          ],
          "name": "stderr"
        },
        {
          "output_type": "stream",
          "text": [
            "Train Epoch: 17 [28160/50176 (56%)]\tLoss: 1.374526\n"
          ],
          "name": "stdout"
        },
        {
          "output_type": "stream",
          "text": [
            " 63%|██████▎   | 123/196 [00:11<00:06, 10.56it/s]"
          ],
          "name": "stderr"
        },
        {
          "output_type": "stream",
          "text": [
            "Train Epoch: 17 [30720/50176 (61%)]\tLoss: 1.376291\n"
          ],
          "name": "stdout"
        },
        {
          "output_type": "stream",
          "text": [
            " 68%|██████▊   | 133/196 [00:12<00:06, 10.43it/s]"
          ],
          "name": "stderr"
        },
        {
          "output_type": "stream",
          "text": [
            "Train Epoch: 17 [33280/50176 (66%)]\tLoss: 1.368089\n"
          ],
          "name": "stdout"
        },
        {
          "output_type": "stream",
          "text": [
            " 73%|███████▎  | 143/196 [00:13<00:05, 10.49it/s]"
          ],
          "name": "stderr"
        },
        {
          "output_type": "stream",
          "text": [
            "Train Epoch: 17 [35840/50176 (71%)]\tLoss: 1.368208\n"
          ],
          "name": "stdout"
        },
        {
          "output_type": "stream",
          "text": [
            " 78%|███████▊  | 153/196 [00:14<00:04, 10.46it/s]"
          ],
          "name": "stderr"
        },
        {
          "output_type": "stream",
          "text": [
            "Train Epoch: 17 [38400/50176 (77%)]\tLoss: 1.355361\n"
          ],
          "name": "stdout"
        },
        {
          "output_type": "stream",
          "text": [
            " 83%|████████▎ | 163/196 [00:15<00:03, 10.49it/s]"
          ],
          "name": "stderr"
        },
        {
          "output_type": "stream",
          "text": [
            "Train Epoch: 17 [40960/50176 (82%)]\tLoss: 1.395810\n"
          ],
          "name": "stdout"
        },
        {
          "output_type": "stream",
          "text": [
            " 88%|████████▊ | 173/196 [00:16<00:02, 10.56it/s]"
          ],
          "name": "stderr"
        },
        {
          "output_type": "stream",
          "text": [
            "Train Epoch: 17 [43520/50176 (87%)]\tLoss: 1.379500\n"
          ],
          "name": "stdout"
        },
        {
          "output_type": "stream",
          "text": [
            " 93%|█████████▎| 183/196 [00:17<00:01, 10.58it/s]"
          ],
          "name": "stderr"
        },
        {
          "output_type": "stream",
          "text": [
            "Train Epoch: 17 [46080/50176 (92%)]\tLoss: 1.386387\n"
          ],
          "name": "stdout"
        },
        {
          "output_type": "stream",
          "text": [
            " 98%|█████████▊| 193/196 [00:18<00:00, 10.54it/s]"
          ],
          "name": "stderr"
        },
        {
          "output_type": "stream",
          "text": [
            "Train Epoch: 17 [48640/50176 (97%)]\tLoss: 1.381075\n"
          ],
          "name": "stdout"
        },
        {
          "output_type": "stream",
          "text": [
            "100%|██████████| 196/196 [00:18<00:00, 10.43it/s]"
          ],
          "name": "stderr"
        },
        {
          "output_type": "stream",
          "text": [
            "\n",
            "perplexity:  3.9460197568166264\n"
          ],
          "name": "stdout"
        },
        {
          "output_type": "stream",
          "text": [
            "\n"
          ],
          "name": "stderr"
        },
        {
          "output_type": "stream",
          "text": [
            "Input\tonly way left to get water, because Voldemort had planned it so ... He flung himself over to the edg\n",
            "GT\tnly way left to get water, because Voldemort had planned it so ... He flung himself over to the edge\n",
            "pred\tu y aan toat th tot thsc   aucause holdemort wad tuanted tn iomt . te doing oim elf auer th the dnge\n",
            "\n",
            "\n",
            "Input\ts that had his arm. It released him, falling backward into the water with a splash; he scrambled to \n",
            "GT\t that had his arm. It released him, falling backward into the water with a splash; he scrambled to h\n",
            "pred\t Moat hed bes erm  \"t weaeased tim  aocling arck ard anto the coler ahth a rtritt  oe darambled oo t\n",
            "\n",
            "\n",
            "Input\tath, and his feet left the ground as they lifted him and began to carry him, slowly and surely, back\n",
            "GT\tth, and his feet left the ground as they lifted him and began to carry him, slowly and surely, back \n",
            "pred\tdh  and tes eaet aoat the sround an the  dokeed tim and selan to toreyitim  ahiwly and stre y  auck \n",
            "\n",
            "\n",
            "Input\t . . . Dumbledore scooped the locket from the bottom of the stone basin and stowed it inside his rob\n",
            "GT\t. . . Dumbledore scooped the locket from the bottom of the stone basin and stowed it inside his robe\n",
            "pred\t\" . . tumbledore waroled ioe dook d ooom the ooytlm of the ctane socinesnd ttaoad an antide tim mobe\n",
            "\n",
            "\n",
            "Input\t\"sir, I forgot -- about fire -- they were coming at me and I panicked --\" \"Quite understandable,\" mu\n",
            "GT\tsir, I forgot -- about fire -- they were coming at me and I panicked --\" \"Quite understandable,\" mur\n",
            "pred\twhr, y wougot t  anout tons y- yhe 'dore toning tn te tnd t wurtseed t-  \"Iuite snderstand gle   sut\n",
            "\n",
            "\n",
            "\n",
            "Test set: Average loss: 1.3896, Accuracy: 735241/1254400 (59%)\n",
            "\n",
            "generated max\t\t Harry Potter, Voldemort, and Dumbledore walk into a bar.  \"I don't know what you could see you think you could see you think you could see you think you could see you think you could see you think you could see you think you could see you think you could se\n",
            "generated sample\t Harry Potter, Voldemort, and Dumbledore walk into a bar. He were, the bight sounded the trought onine; the scrormed on offerent more down and rateling Widged feely and mevered them on turn, even jotly about a little grother speak out of the door. Dominias w\n",
            "generated sample\t Harry Potter, Voldemort, and Dumbledore walk into a bar. Lormione sensed the momems. KHarry thought Harried Perkiser Edeatures indresated much and all the wrong dif indung into it. I've had changed bacry off the Mhair End Potter's hey seemed to speak looked\n",
            "generated sample\t Harry Potter, Voldemort, and Dumbledore walk into a bar. Istrood any aspeet and artu infitch the older sort of course your plut your force tEre order for Hermione's excited what Snaptiond then bellaws. I'm soreted to hear even, you are who want to, Juttered\n",
            "generated sample\t Harry Potter, Voldemort, and Dumbledore walk into a bar. It was quitting at the solite olders to hear another our and burnwint on sere of the bottle, hit and exerited of the robes because he could shoke. I wasn't voines and strode intanner,\" shi? Hording mo\n",
            "generated sample\t Harry Potter, Voldemort, and Dumbledore walk into a bar. The crame on's and thinks noddar was yourbediff and your eart from him. \"That you've got and exsive planty porrission - yh(' {an ago thire. Ron, and understantly pooding winging another ready. Hermion\n",
            "generated sample\t Harry Potter, Voldemort, and Dumbledore walk into a bar.  \"Jou'd she said. He sat the one she thought it around our a dringled end of his chair voiles and given under to head any owar flore tall and the gold else or and the the Madless he had down the door \n",
            "generated sample\t Harry Potter, Voldemort, and Dumbledore walk into a bar. I aKved out afternoon with once slippened invoived and Now what he dressed muce the either? I don't know you're sirtly much you couldn't real an irroom... you could say more shanting,\" said Dumpeding \n",
            "generated sample\t Harry Potter, Voldemort, and Dumbledore walk into a bar. The bove and rune   fold straighs mart of the table.  \"The olcabice sir!\" Hermione coiled along Gruchuror Hermione and really knowing dropped our and entered the gotter to his voice moved air. \"2ou th\n",
            "generated sample\t Harry Potter, Voldemort, and Dumbledore walk into a bar.  \"I'vere you thinks part, not toling, it' Tooking go on all. A is a would in distranged clunk one of good... I don't understand oke, you'ring abrived, Dumbledore's hand buried with and was  found for \n",
            "generated sample\t Harry Potter, Voldemort, and Dumbledore walk into a bar. Lupiny on her Ron and Dumbledore was doing forward after Ron chang can'the other brough the bint, the dought,\" Er eyes said an' ign't every setable in ristmering muttering than everyladers; he could s\n"
          ],
          "name": "stdout"
        },
        {
          "output_type": "stream",
          "text": [
            "\r  0%|          | 0/196 [00:00<?, ?it/s]"
          ],
          "name": "stderr"
        },
        {
          "output_type": "stream",
          "text": [
            "generated beam\t\t Harry Potter, Voldemort, and Dumbledore walk into a bar. ho read the other. \"Is the Durelessor word and the owlergen-door - I'm our jut,\" said Harry soundfing grumbled at the duriosal office. \"What\" he antided out around the resitional confestling ome of Si\n",
            "\n"
          ],
          "name": "stdout"
        },
        {
          "output_type": "stream",
          "text": [
            "  2%|▏         | 3/196 [00:00<00:37,  5.12it/s]"
          ],
          "name": "stderr"
        },
        {
          "output_type": "stream",
          "text": [
            "Train Epoch: 18 [0/50176 (0%)]\tLoss: 1.381881\n"
          ],
          "name": "stdout"
        },
        {
          "output_type": "stream",
          "text": [
            "  7%|▋         | 13/196 [00:01<00:20,  9.00it/s]"
          ],
          "name": "stderr"
        },
        {
          "output_type": "stream",
          "text": [
            "Train Epoch: 18 [2560/50176 (5%)]\tLoss: 1.357410\n"
          ],
          "name": "stdout"
        },
        {
          "output_type": "stream",
          "text": [
            " 12%|█▏        | 23/196 [00:02<00:16, 10.31it/s]"
          ],
          "name": "stderr"
        },
        {
          "output_type": "stream",
          "text": [
            "Train Epoch: 18 [5120/50176 (10%)]\tLoss: 1.390632\n"
          ],
          "name": "stdout"
        },
        {
          "output_type": "stream",
          "text": [
            " 17%|█▋        | 33/196 [00:03<00:15, 10.60it/s]"
          ],
          "name": "stderr"
        },
        {
          "output_type": "stream",
          "text": [
            "Train Epoch: 18 [7680/50176 (15%)]\tLoss: 1.370592\n"
          ],
          "name": "stdout"
        },
        {
          "output_type": "stream",
          "text": [
            " 22%|██▏       | 43/196 [00:04<00:14, 10.57it/s]"
          ],
          "name": "stderr"
        },
        {
          "output_type": "stream",
          "text": [
            "Train Epoch: 18 [10240/50176 (20%)]\tLoss: 1.361210\n"
          ],
          "name": "stdout"
        },
        {
          "output_type": "stream",
          "text": [
            " 27%|██▋       | 53/196 [00:05<00:13, 10.65it/s]"
          ],
          "name": "stderr"
        },
        {
          "output_type": "stream",
          "text": [
            "Train Epoch: 18 [12800/50176 (26%)]\tLoss: 1.368811\n"
          ],
          "name": "stdout"
        },
        {
          "output_type": "stream",
          "text": [
            " 32%|███▏      | 63/196 [00:06<00:12, 10.57it/s]"
          ],
          "name": "stderr"
        },
        {
          "output_type": "stream",
          "text": [
            "Train Epoch: 18 [15360/50176 (31%)]\tLoss: 1.379730\n"
          ],
          "name": "stdout"
        },
        {
          "output_type": "stream",
          "text": [
            " 37%|███▋      | 73/196 [00:07<00:11, 10.49it/s]"
          ],
          "name": "stderr"
        },
        {
          "output_type": "stream",
          "text": [
            "Train Epoch: 18 [17920/50176 (36%)]\tLoss: 1.382909\n"
          ],
          "name": "stdout"
        },
        {
          "output_type": "stream",
          "text": [
            " 42%|████▏     | 83/196 [00:07<00:10, 10.50it/s]"
          ],
          "name": "stderr"
        },
        {
          "output_type": "stream",
          "text": [
            "Train Epoch: 18 [20480/50176 (41%)]\tLoss: 1.363858\n"
          ],
          "name": "stdout"
        },
        {
          "output_type": "stream",
          "text": [
            " 47%|████▋     | 93/196 [00:08<00:09, 10.46it/s]"
          ],
          "name": "stderr"
        },
        {
          "output_type": "stream",
          "text": [
            "Train Epoch: 18 [23040/50176 (46%)]\tLoss: 1.358265\n"
          ],
          "name": "stdout"
        },
        {
          "output_type": "stream",
          "text": [
            " 53%|█████▎    | 103/196 [00:09<00:08, 10.53it/s]"
          ],
          "name": "stderr"
        },
        {
          "output_type": "stream",
          "text": [
            "Train Epoch: 18 [25600/50176 (51%)]\tLoss: 1.371920\n"
          ],
          "name": "stdout"
        },
        {
          "output_type": "stream",
          "text": [
            " 58%|█████▊    | 113/196 [00:10<00:07, 10.51it/s]"
          ],
          "name": "stderr"
        },
        {
          "output_type": "stream",
          "text": [
            "Train Epoch: 18 [28160/50176 (56%)]\tLoss: 1.382947\n"
          ],
          "name": "stdout"
        },
        {
          "output_type": "stream",
          "text": [
            " 63%|██████▎   | 123/196 [00:11<00:07, 10.42it/s]"
          ],
          "name": "stderr"
        },
        {
          "output_type": "stream",
          "text": [
            "Train Epoch: 18 [30720/50176 (61%)]\tLoss: 1.386676\n"
          ],
          "name": "stdout"
        },
        {
          "output_type": "stream",
          "text": [
            " 68%|██████▊   | 133/196 [00:12<00:05, 10.53it/s]"
          ],
          "name": "stderr"
        },
        {
          "output_type": "stream",
          "text": [
            "Train Epoch: 18 [33280/50176 (66%)]\tLoss: 1.354762\n"
          ],
          "name": "stdout"
        },
        {
          "output_type": "stream",
          "text": [
            " 73%|███████▎  | 143/196 [00:13<00:05, 10.51it/s]"
          ],
          "name": "stderr"
        },
        {
          "output_type": "stream",
          "text": [
            "Train Epoch: 18 [35840/50176 (71%)]\tLoss: 1.372369\n"
          ],
          "name": "stdout"
        },
        {
          "output_type": "stream",
          "text": [
            " 78%|███████▊  | 153/196 [00:14<00:04, 10.52it/s]"
          ],
          "name": "stderr"
        },
        {
          "output_type": "stream",
          "text": [
            "Train Epoch: 18 [38400/50176 (77%)]\tLoss: 1.364670\n"
          ],
          "name": "stdout"
        },
        {
          "output_type": "stream",
          "text": [
            " 83%|████████▎ | 163/196 [00:15<00:03, 10.48it/s]"
          ],
          "name": "stderr"
        },
        {
          "output_type": "stream",
          "text": [
            "Train Epoch: 18 [40960/50176 (82%)]\tLoss: 1.381328\n"
          ],
          "name": "stdout"
        },
        {
          "output_type": "stream",
          "text": [
            " 88%|████████▊ | 173/196 [00:16<00:02, 10.48it/s]"
          ],
          "name": "stderr"
        },
        {
          "output_type": "stream",
          "text": [
            "Train Epoch: 18 [43520/50176 (87%)]\tLoss: 1.377410\n"
          ],
          "name": "stdout"
        },
        {
          "output_type": "stream",
          "text": [
            " 93%|█████████▎| 183/196 [00:17<00:01, 10.37it/s]"
          ],
          "name": "stderr"
        },
        {
          "output_type": "stream",
          "text": [
            "Train Epoch: 18 [46080/50176 (92%)]\tLoss: 1.386890\n"
          ],
          "name": "stdout"
        },
        {
          "output_type": "stream",
          "text": [
            " 98%|█████████▊| 193/196 [00:18<00:00, 10.43it/s]"
          ],
          "name": "stderr"
        },
        {
          "output_type": "stream",
          "text": [
            "Train Epoch: 18 [48640/50176 (97%)]\tLoss: 1.379413\n"
          ],
          "name": "stdout"
        },
        {
          "output_type": "stream",
          "text": [
            "100%|██████████| 196/196 [00:18<00:00, 10.44it/s]"
          ],
          "name": "stderr"
        },
        {
          "output_type": "stream",
          "text": [
            "\n",
            "perplexity:  3.930153848148596\n"
          ],
          "name": "stdout"
        },
        {
          "output_type": "stream",
          "text": [
            "\n"
          ],
          "name": "stderr"
        },
        {
          "output_type": "stream",
          "text": [
            "Input\tonly way left to get water, because Voldemort had planned it so ... He flung himself over to the edg\n",
            "GT\tnly way left to get water, because Voldemort had planned it so ... He flung himself over to the edge\n",
            "pred\tu y thn toat th tot thlcr  aucause holdemort wad tuanted tn womt . ta doing tim elf tuer th the cnge\n",
            "\n",
            "\n",
            "Input\ts that had his arm. It released him, falling backward into the water with a splash; he scrambled to \n",
            "GT\t that had his arm. It released him, falling backward into the water with a splash; he scrambled to h\n",
            "pred\t Moat hed bes lrm  \"t weaeased tim  hocling arck ard tnto the caler ahth h ltrith  oa harambled oo h\n",
            "\n",
            "\n",
            "Input\tath, and his feet left the ground as they lifted him and began to carry him, slowly and surely, back\n",
            "GT\tth, and his feet left the ground as they lifted him and began to carry him, slowly and surely, back \n",
            "pred\tdh  tnd tes faet aoat the sround tn the  wokted tim and sulan to horry tim  ahiwly and stre y  auck \n",
            "\n",
            "\n",
            "Input\t . . . Dumbledore scooped the locket from the bottom of the stone basin and stowed it inside his rob\n",
            "GT\t. . . Dumbledore scooped the locket from the bottom of the stone basin and stowed it inside his robe\n",
            "pred\t\" . . yumbledore waroled toe dink d ooom the coytlm of the ccane soninesnd thaoad an an tde tim cobe\n",
            "\n",
            "\n",
            "Input\t\"sir, I forgot -- about fire -- they were coming at me and I panicked --\" \"Quite understandable,\" mu\n",
            "GT\tsir, I forgot -- about fire -- they were coming at me and I panicked --\" \"Quite understandable,\" mur\n",
            "pred\tIhr, y wouget t  Inout tons t- Ihe 'ware toning tn ty tnd t wuntshed t\"  \"Iuite snderstand gle   sut\n",
            "\n",
            "\n",
            "\n",
            "Test set: Average loss: 1.3874, Accuracy: 735907/1254400 (59%)\n",
            "\n",
            "generated max\t\t Harry Potter, Voldemort, and Dumbledore walk into a bar. He was standing and standing and standing at the corridor to the corridor to the corridor to the corridor to the corridor to the corridor to the corridor to the corridor to the corridor to the corrido\n",
            "generated sample\t Harry Potter, Voldemort, and Dumbledore walk into a bar.  \"What is Dumbledore cale to out while the Bistrick sliffe doing when the pursing Dumbledore had this lifes. Perry don't anyone everything't yould drid you perstair, I really were to get to the Durs, \n",
            "generated sample\t Harry Potter, Voldemort, and Dumbledore walk into a bar. \"Twish Dumbledore?\" his mistry said,  sparing around Ry the Charf Potter and Hermione lays believed Fire.  Harry 'madane the samily -\"Yole you thing that's unnolagoration ... let? Fhe Fecth Here like \n",
            "generated sample\t Harry Potter, Voldemort, and Dumbledore walk into a bar. He recase by chetted of somea Hagrivwaring Vonishalls and looking around an orce the champime on the water, his around the finisfry and flickly of the arour broken indisaward heads about omen the corm\n",
            "generated sample\t Harry Potter, Voldemort, and Dumbledore walk into a bar. \"It's one flipy mind your while The hidden carried where one whith he raised like to the little, stay wrong; and the other which he died the dum whishey to squeet the dromments he over the grone wand \n",
            "generated sample\t Harry Potter, Voldemort, and Dumbledore walk into a bar. Harry said Harry's knocknan sexident as the door into his chanterled at the end of the bagging on the eldermasion poaring usually to the ear, lead to the door and sorting up to hid foubly crowded him.\n",
            "generated sample\t Harry Potter, Voldemort, and Dumbledore walk into a bar. But he did any floched in Harry would him the shuffle owl. Jant the steement of handless the intidesse rummon of the phomons looked doing, and bird that the door at the corridor insapped. Panishrang w\n",
            "generated sample\t Harry Potter, Voldemort, and Dumbledore walk into a bar. \"Hagrid cranger knows the thing screambort for I dive dislork than everyone conically: Shy would have have ( interested mood like I proven hair unstacrefully looking to by nouse dract bout indsituces \n",
            "generated sample\t Harry Potter, Voldemort, and Dumbledore walk into a bar. Snape had dutted out of Harry was turn into Stan Krigger, into the table tower and what when arum, looking clut before the meath. Harry rum out of the troll with Gaunt. \"He'd say, he's?\" \"I'm blave do\n",
            "generated sample\t Harry Potter, Voldemort, and Dumbledore walk into a bar. Mrs. Niggh, however while she heated to have into the car Hagrid-candly everythere could summerned the fire.  \"Don't you!\" Harry looked crimenly around the head tollowed, pune wand out oni everything;\n",
            "generated sample\t Harry Potter, Voldemort, and Dumbledore walk into a bar. That!\" said Looding Ron. \"I amward fill he'd voice was quite to hold us.\" \"Bine.\" 'Fhe old mead which hidden how much Gumseless give Snape, controly into me ajough things it wrong to the Unfortice thi\n"
          ],
          "name": "stdout"
        },
        {
          "output_type": "stream",
          "text": [
            "\r  0%|          | 0/196 [00:00<?, ?it/s]"
          ],
          "name": "stderr"
        },
        {
          "output_type": "stream",
          "text": [
            "generated beam\t\t Harry Potter, Voldemort, and Dumbledore walk into a bar. lughorn him Bunning Professor McGonagall. I had sometich had not coues... you looking slyther hopping for Dumbledore holdicted him -\"Probpe Kerpine who thinks it him?\" said Nordin. \"You can sit the st\n",
            "\n"
          ],
          "name": "stdout"
        },
        {
          "output_type": "stream",
          "text": [
            "  1%|          | 2/196 [00:00<00:39,  4.87it/s]"
          ],
          "name": "stderr"
        },
        {
          "output_type": "stream",
          "text": [
            "Train Epoch: 19 [0/50176 (0%)]\tLoss: 1.381854\n"
          ],
          "name": "stdout"
        },
        {
          "output_type": "stream",
          "text": [
            "  6%|▌         | 12/196 [00:01<00:20,  8.80it/s]"
          ],
          "name": "stderr"
        },
        {
          "output_type": "stream",
          "text": [
            "Train Epoch: 19 [2560/50176 (5%)]\tLoss: 1.355431\n"
          ],
          "name": "stdout"
        },
        {
          "output_type": "stream",
          "text": [
            " 11%|█         | 22/196 [00:02<00:16, 10.27it/s]"
          ],
          "name": "stderr"
        },
        {
          "output_type": "stream",
          "text": [
            "Train Epoch: 19 [5120/50176 (10%)]\tLoss: 1.388530\n"
          ],
          "name": "stdout"
        },
        {
          "output_type": "stream",
          "text": [
            " 16%|█▋        | 32/196 [00:03<00:15, 10.49it/s]"
          ],
          "name": "stderr"
        },
        {
          "output_type": "stream",
          "text": [
            "Train Epoch: 19 [7680/50176 (15%)]\tLoss: 1.373545\n"
          ],
          "name": "stdout"
        },
        {
          "output_type": "stream",
          "text": [
            " 21%|██▏       | 42/196 [00:04<00:14, 10.59it/s]"
          ],
          "name": "stderr"
        },
        {
          "output_type": "stream",
          "text": [
            "Train Epoch: 19 [10240/50176 (20%)]\tLoss: 1.362080\n"
          ],
          "name": "stdout"
        },
        {
          "output_type": "stream",
          "text": [
            " 27%|██▋       | 52/196 [00:05<00:13, 10.51it/s]"
          ],
          "name": "stderr"
        },
        {
          "output_type": "stream",
          "text": [
            "Train Epoch: 19 [12800/50176 (26%)]\tLoss: 1.360063\n"
          ],
          "name": "stdout"
        },
        {
          "output_type": "stream",
          "text": [
            " 32%|███▏      | 62/196 [00:06<00:12, 10.60it/s]"
          ],
          "name": "stderr"
        },
        {
          "output_type": "stream",
          "text": [
            "Train Epoch: 19 [15360/50176 (31%)]\tLoss: 1.376727\n"
          ],
          "name": "stdout"
        },
        {
          "output_type": "stream",
          "text": [
            " 37%|███▋      | 72/196 [00:06<00:11, 10.57it/s]"
          ],
          "name": "stderr"
        },
        {
          "output_type": "stream",
          "text": [
            "Train Epoch: 19 [17920/50176 (36%)]\tLoss: 1.378826\n"
          ],
          "name": "stdout"
        },
        {
          "output_type": "stream",
          "text": [
            " 42%|████▏     | 82/196 [00:07<00:10, 10.46it/s]"
          ],
          "name": "stderr"
        },
        {
          "output_type": "stream",
          "text": [
            "Train Epoch: 19 [20480/50176 (41%)]\tLoss: 1.354728\n"
          ],
          "name": "stdout"
        },
        {
          "output_type": "stream",
          "text": [
            " 47%|████▋     | 92/196 [00:08<00:09, 10.48it/s]"
          ],
          "name": "stderr"
        },
        {
          "output_type": "stream",
          "text": [
            "Train Epoch: 19 [23040/50176 (46%)]\tLoss: 1.357699\n"
          ],
          "name": "stdout"
        },
        {
          "output_type": "stream",
          "text": [
            " 52%|█████▏    | 102/196 [00:09<00:08, 10.54it/s]"
          ],
          "name": "stderr"
        },
        {
          "output_type": "stream",
          "text": [
            "Train Epoch: 19 [25600/50176 (51%)]\tLoss: 1.366340\n"
          ],
          "name": "stdout"
        },
        {
          "output_type": "stream",
          "text": [
            " 57%|█████▋    | 112/196 [00:10<00:07, 10.56it/s]"
          ],
          "name": "stderr"
        },
        {
          "output_type": "stream",
          "text": [
            "Train Epoch: 19 [28160/50176 (56%)]\tLoss: 1.374330\n"
          ],
          "name": "stdout"
        },
        {
          "output_type": "stream",
          "text": [
            " 62%|██████▏   | 122/196 [00:11<00:07, 10.46it/s]"
          ],
          "name": "stderr"
        },
        {
          "output_type": "stream",
          "text": [
            "Train Epoch: 19 [30720/50176 (61%)]\tLoss: 1.375219\n"
          ],
          "name": "stdout"
        },
        {
          "output_type": "stream",
          "text": [
            " 67%|██████▋   | 132/196 [00:12<00:06, 10.49it/s]"
          ],
          "name": "stderr"
        },
        {
          "output_type": "stream",
          "text": [
            "Train Epoch: 19 [33280/50176 (66%)]\tLoss: 1.355318\n"
          ],
          "name": "stdout"
        },
        {
          "output_type": "stream",
          "text": [
            " 72%|███████▏  | 142/196 [00:13<00:05, 10.55it/s]"
          ],
          "name": "stderr"
        },
        {
          "output_type": "stream",
          "text": [
            "Train Epoch: 19 [35840/50176 (71%)]\tLoss: 1.377126\n"
          ],
          "name": "stdout"
        },
        {
          "output_type": "stream",
          "text": [
            " 78%|███████▊  | 152/196 [00:14<00:04, 10.43it/s]"
          ],
          "name": "stderr"
        },
        {
          "output_type": "stream",
          "text": [
            "Train Epoch: 19 [38400/50176 (77%)]\tLoss: 1.382901\n"
          ],
          "name": "stdout"
        },
        {
          "output_type": "stream",
          "text": [
            " 83%|████████▎ | 162/196 [00:15<00:03, 10.41it/s]"
          ],
          "name": "stderr"
        },
        {
          "output_type": "stream",
          "text": [
            "Train Epoch: 19 [40960/50176 (82%)]\tLoss: 1.381333\n"
          ],
          "name": "stdout"
        },
        {
          "output_type": "stream",
          "text": [
            " 88%|████████▊ | 172/196 [00:16<00:02, 10.42it/s]"
          ],
          "name": "stderr"
        },
        {
          "output_type": "stream",
          "text": [
            "Train Epoch: 19 [43520/50176 (87%)]\tLoss: 1.354240\n"
          ],
          "name": "stdout"
        },
        {
          "output_type": "stream",
          "text": [
            " 93%|█████████▎| 182/196 [00:17<00:01, 10.42it/s]"
          ],
          "name": "stderr"
        },
        {
          "output_type": "stream",
          "text": [
            "Train Epoch: 19 [46080/50176 (92%)]\tLoss: 1.378016\n"
          ],
          "name": "stdout"
        },
        {
          "output_type": "stream",
          "text": [
            " 98%|█████████▊| 192/196 [00:18<00:00, 10.50it/s]"
          ],
          "name": "stderr"
        },
        {
          "output_type": "stream",
          "text": [
            "Train Epoch: 19 [48640/50176 (97%)]\tLoss: 1.385016\n"
          ],
          "name": "stdout"
        },
        {
          "output_type": "stream",
          "text": [
            "100%|██████████| 196/196 [00:18<00:00, 10.43it/s]"
          ],
          "name": "stderr"
        },
        {
          "output_type": "stream",
          "text": [
            "\n",
            "perplexity:  3.9229760430558147\n"
          ],
          "name": "stdout"
        },
        {
          "output_type": "stream",
          "text": [
            "\n"
          ],
          "name": "stderr"
        },
        {
          "output_type": "stream",
          "text": [
            "Input\tonly way left to get water, because Voldemort had planned it so ... He flung himself over to the edg\n",
            "GT\tnly way left to get water, because Voldemort had planned it so ... He flung himself over to the edge\n",
            "pred\tuey san tiat th tet thlc   aucause holdemort sad buanted tn womt . ae diing tim elf auer th the snge\n",
            "\n",
            "\n",
            "Input\ts that had his arm. It released him, falling backward into the water with a splash; he scrambled to \n",
            "GT\t that had his arm. It released him, falling backward into the water with a splash; he scrambled to h\n",
            "pred\t Moat hed bes lrm  \"t weaeased tim  hocling alck ard tnto the saler ahth h ctrith  oe sarambled th h\n",
            "\n",
            "\n",
            "Input\tath, and his feet left the ground as they lifted him and began to carry him, slowly and surely, back\n",
            "GT\tth, and his feet left the ground as they lifted him and began to carry him, slowly and surely, back \n",
            "pred\tdh  and ses faet aiat the sround sn the  wokeed tim and selan to horey tim  hhiwly and stre y  auck \n",
            "\n",
            "\n",
            "Input\t . . . Dumbledore scooped the locket from the bottom of the stone basin and stowed it inside his rob\n",
            "GT\t. . . Dumbledore scooped the locket from the bottom of the stone basin and stowed it inside his robe\n",
            "pred\t\" . . .umbledore saroled toe sink d aoom the soytlm of the scane slcinesnd staoed an antide tim cobe\n",
            "\n",
            "\n",
            "Input\t\"sir, I forgot -- about fire -- they were coming at me and I panicked --\" \"Quite understandable,\" mu\n",
            "GT\tsir, I forgot -- about fire -- they were coming at me and I panicked --\" \"Quite understandable,\" mur\n",
            "pred\tIhr, y wiugottt  anout tons y\" Ihe  dare soning tn te tnd s wuntshed t\"  \"Iuite snderstand gle   sut\n",
            "\n",
            "\n",
            "\n",
            "Test set: Average loss: 1.3916, Accuracy: 734698/1254400 (59%)\n",
            "\n",
            "generated max\t\t Harry Potter, Voldemort, and Dumbledore walk into a bar. He said something the stairs and standing at the scream of the scream of the scream of the scream of the scream of the scream of the scream of the scream of the scream of the scream of the scream of t\n",
            "generated sample\t Harry Potter, Voldemort, and Dumbledore walk into a bar.  \"Honesouble lot be found on the pointnch. He does not been grush hands withing conviicalle in me, And what was yeah,\" said Snare!\" \"Now, not you frippier to know and Hogwaven Hooding watched year as \n",
            "generated sample\t Harry Potter, Voldemort, and Dumbledore walk into a bar. He had very yellowered into the Class knout once wastely. \"My Quxtle old Monte Faid Hermione  \"Bouth wand quite my head and groining corridor. Crummin's And Berin Harry had reading him sligward the le\n",
            "generated sample\t Harry Potter, Voldemort, and Dumbledore walk into a bar.  \"Whendies who's?, threp: I wanted to spy the 4awling Dumbledore was doing ners made with her shouldeps --AH\" - Harry had the seven has showing when ghost staked off not to wake out\" she carted ( and \n",
            "generated sample\t Harry Potter, Voldemort, and Dumbledore walk into a bar. Makan' pointerfully blaincs Moice given used the spidving out of Swrong Mrs. Weasleys well onto the promble cropped it. \"You and her date you sure you gaze the first lice?\" \"I don't knot see\" \" said a\n",
            "generated sample\t Harry Potter, Voldemort, and Dumbledore walk into a bar. He sure he dooked herself him the door on the indigant of Galler, (egan with grunning to his party crime.  \"Our noting going labor ... you're noticed your much confidence and Audderthing right not mak\n",
            "generated sample\t Harry Potter, Voldemort, and Dumbledore walk into a bar. Luna, shally daught gives the great slow mothern, but Hermione said, \"2inking flicken you agief, and I meash the rool, nothing think - ready, but Malfoy opponed -' I did it, forging Dumbledore what wh\n",
            "generated sample\t Harry Potter, Voldemort, and Dumbledore walk into a bar.   Whis he realized him and fiving Professor Dchonatable to be times flueping rump to him. HE thing all ricknecing him out now Muggle mote?\" \"Mada with I agn' neved trunk wondered into him, Harry  done\n",
            "generated sample\t Harry Potter, Voldemort, and Dumbledore walk into a bar. He like the boly as what laugh, found something cracked down back. Harry offinfed his puntments, and Hrofessor Leville is Dumbledore was surting Dumbledore. \"All uranself. Gunness, Cockfeed Voldemort \n",
            "generated sample\t Harry Potter, Voldemort, and Dumbledore walk into a bar. Ron? But I was saying at Dumbledore, -that dought his table was studgery friends - shriek glatoring bloo wand who was bring sly haking about him and sleeped now that had gold much the remember and lee\n",
            "generated sample\t Harry Potter, Voldemort, and Dumbledore walk into a bar. Then she looked like Daunt he thought it was. Harry,\" said the persuara laughtered. \"Sway graat, pull you skeps for the Mingute caught for How to all the - -\" Left anything himself, which was going ou\n"
          ],
          "name": "stdout"
        },
        {
          "output_type": "stream",
          "text": [
            "\r  0%|          | 0/196 [00:00<?, ?it/s]"
          ],
          "name": "stderr"
        },
        {
          "output_type": "stream",
          "text": [
            "generated beam\t\t Harry Potter, Voldemort, and Dumbledore walk into a bar. \"Harry time. 'y assive ord Of I dungbed the overstairs and his letroy serioned Clarf she're leaving \"I'll clumpate the invistrant lough, this, your tale and got your beside the MiniM\" Brotter sorua1le\n",
            "\n"
          ],
          "name": "stdout"
        },
        {
          "output_type": "stream",
          "text": [
            "  1%|          | 2/196 [00:00<00:39,  4.90it/s]"
          ],
          "name": "stderr"
        },
        {
          "output_type": "stream",
          "text": [
            "Train Epoch: 20 [0/50176 (0%)]\tLoss: 1.385122\n"
          ],
          "name": "stdout"
        },
        {
          "output_type": "stream",
          "text": [
            "  6%|▌         | 12/196 [00:01<00:20,  8.94it/s]"
          ],
          "name": "stderr"
        },
        {
          "output_type": "stream",
          "text": [
            "Train Epoch: 20 [2560/50176 (5%)]\tLoss: 1.357221\n"
          ],
          "name": "stdout"
        },
        {
          "output_type": "stream",
          "text": [
            " 11%|█         | 22/196 [00:02<00:16, 10.24it/s]"
          ],
          "name": "stderr"
        },
        {
          "output_type": "stream",
          "text": [
            "Train Epoch: 20 [5120/50176 (10%)]\tLoss: 1.385853\n"
          ],
          "name": "stdout"
        },
        {
          "output_type": "stream",
          "text": [
            " 16%|█▋        | 32/196 [00:03<00:15, 10.43it/s]"
          ],
          "name": "stderr"
        },
        {
          "output_type": "stream",
          "text": [
            "Train Epoch: 20 [7680/50176 (15%)]\tLoss: 1.377121\n"
          ],
          "name": "stdout"
        },
        {
          "output_type": "stream",
          "text": [
            " 21%|██▏       | 42/196 [00:04<00:14, 10.53it/s]"
          ],
          "name": "stderr"
        },
        {
          "output_type": "stream",
          "text": [
            "Train Epoch: 20 [10240/50176 (20%)]\tLoss: 1.366492\n"
          ],
          "name": "stdout"
        },
        {
          "output_type": "stream",
          "text": [
            " 27%|██▋       | 52/196 [00:05<00:13, 10.44it/s]"
          ],
          "name": "stderr"
        },
        {
          "output_type": "stream",
          "text": [
            "Train Epoch: 20 [12800/50176 (26%)]\tLoss: 1.359008\n"
          ],
          "name": "stdout"
        },
        {
          "output_type": "stream",
          "text": [
            " 32%|███▏      | 62/196 [00:06<00:12, 10.50it/s]"
          ],
          "name": "stderr"
        },
        {
          "output_type": "stream",
          "text": [
            "Train Epoch: 20 [15360/50176 (31%)]\tLoss: 1.375066\n"
          ],
          "name": "stdout"
        },
        {
          "output_type": "stream",
          "text": [
            " 37%|███▋      | 72/196 [00:07<00:11, 10.52it/s]"
          ],
          "name": "stderr"
        },
        {
          "output_type": "stream",
          "text": [
            "Train Epoch: 20 [17920/50176 (36%)]\tLoss: 1.382814\n"
          ],
          "name": "stdout"
        },
        {
          "output_type": "stream",
          "text": [
            " 42%|████▏     | 82/196 [00:07<00:10, 10.52it/s]"
          ],
          "name": "stderr"
        },
        {
          "output_type": "stream",
          "text": [
            "Train Epoch: 20 [20480/50176 (41%)]\tLoss: 1.360145\n"
          ],
          "name": "stdout"
        },
        {
          "output_type": "stream",
          "text": [
            " 47%|████▋     | 92/196 [00:08<00:09, 10.51it/s]"
          ],
          "name": "stderr"
        },
        {
          "output_type": "stream",
          "text": [
            "Train Epoch: 20 [23040/50176 (46%)]\tLoss: 1.350078\n"
          ],
          "name": "stdout"
        },
        {
          "output_type": "stream",
          "text": [
            " 52%|█████▏    | 102/196 [00:09<00:08, 10.45it/s]"
          ],
          "name": "stderr"
        },
        {
          "output_type": "stream",
          "text": [
            "Train Epoch: 20 [25600/50176 (51%)]\tLoss: 1.367948\n"
          ],
          "name": "stdout"
        },
        {
          "output_type": "stream",
          "text": [
            " 57%|█████▋    | 112/196 [00:10<00:07, 10.56it/s]"
          ],
          "name": "stderr"
        },
        {
          "output_type": "stream",
          "text": [
            "Train Epoch: 20 [28160/50176 (56%)]\tLoss: 1.379751\n"
          ],
          "name": "stdout"
        },
        {
          "output_type": "stream",
          "text": [
            " 62%|██████▏   | 122/196 [00:11<00:06, 10.60it/s]"
          ],
          "name": "stderr"
        },
        {
          "output_type": "stream",
          "text": [
            "Train Epoch: 20 [30720/50176 (61%)]\tLoss: 1.370219\n"
          ],
          "name": "stdout"
        },
        {
          "output_type": "stream",
          "text": [
            " 67%|██████▋   | 132/196 [00:12<00:06, 10.51it/s]"
          ],
          "name": "stderr"
        },
        {
          "output_type": "stream",
          "text": [
            "Train Epoch: 20 [33280/50176 (66%)]\tLoss: 1.351665\n"
          ],
          "name": "stdout"
        },
        {
          "output_type": "stream",
          "text": [
            " 72%|███████▏  | 142/196 [00:13<00:05, 10.53it/s]"
          ],
          "name": "stderr"
        },
        {
          "output_type": "stream",
          "text": [
            "Train Epoch: 20 [35840/50176 (71%)]\tLoss: 1.366578\n"
          ],
          "name": "stdout"
        },
        {
          "output_type": "stream",
          "text": [
            " 78%|███████▊  | 152/196 [00:14<00:04, 10.53it/s]"
          ],
          "name": "stderr"
        },
        {
          "output_type": "stream",
          "text": [
            "Train Epoch: 20 [38400/50176 (77%)]\tLoss: 1.360289\n"
          ],
          "name": "stdout"
        },
        {
          "output_type": "stream",
          "text": [
            " 83%|████████▎ | 162/196 [00:15<00:03, 10.49it/s]"
          ],
          "name": "stderr"
        },
        {
          "output_type": "stream",
          "text": [
            "Train Epoch: 20 [40960/50176 (82%)]\tLoss: 1.385641\n"
          ],
          "name": "stdout"
        },
        {
          "output_type": "stream",
          "text": [
            " 88%|████████▊ | 172/196 [00:16<00:02, 10.38it/s]"
          ],
          "name": "stderr"
        },
        {
          "output_type": "stream",
          "text": [
            "Train Epoch: 20 [43520/50176 (87%)]\tLoss: 1.379056\n"
          ],
          "name": "stdout"
        },
        {
          "output_type": "stream",
          "text": [
            " 93%|█████████▎| 182/196 [00:17<00:01, 10.41it/s]"
          ],
          "name": "stderr"
        },
        {
          "output_type": "stream",
          "text": [
            "Train Epoch: 20 [46080/50176 (92%)]\tLoss: 1.378749\n"
          ],
          "name": "stdout"
        },
        {
          "output_type": "stream",
          "text": [
            " 98%|█████████▊| 192/196 [00:18<00:00, 10.43it/s]"
          ],
          "name": "stderr"
        },
        {
          "output_type": "stream",
          "text": [
            "Train Epoch: 20 [48640/50176 (97%)]\tLoss: 1.374167\n"
          ],
          "name": "stdout"
        },
        {
          "output_type": "stream",
          "text": [
            "100%|██████████| 196/196 [00:18<00:00, 10.39it/s]"
          ],
          "name": "stderr"
        },
        {
          "output_type": "stream",
          "text": [
            "\n",
            "perplexity:  3.923646911215707\n"
          ],
          "name": "stdout"
        },
        {
          "output_type": "stream",
          "text": [
            "\n"
          ],
          "name": "stderr"
        },
        {
          "output_type": "stream",
          "text": [
            "Input\tonly way left to get water, because Voldemort had planned it so ... He flung himself over to the edg\n",
            "GT\tnly way left to get water, because Voldemort had planned it so ... He flung himself over to the edge\n",
            "pred\tu y aan ioat th tot thlcr  aucause holdemort wad duayted tn iomt . we doing ois elf auer th the dnge\n",
            "\n",
            "\n",
            "Input\ts that had his arm. It released him, falling backward into the water with a splash; he scrambled to \n",
            "GT\t that had his arm. It released him, falling backward into the water with a splash; he scrambled to h\n",
            "pred\t aoat hed ces frm   t weaeased tim  aocling aack ard anto the caler ahth a ftiith  oa darambled oo h\n",
            "\n",
            "\n",
            "Input\tath, and his feet left the ground as they lifted him and began to carry him, slowly and surely, back\n",
            "GT\tth, and his feet left the ground as they lifted him and began to carry him, slowly and surely, back \n",
            "pred\tdh  and ses faet aogt ahe sround an the  dokeed aim ond sulan to horry aim  ahiwly and stde y  aurk \n",
            "\n",
            "\n",
            "Input\t . . . Dumbledore scooped the locket from the bottom of the stone basin and stowed it inside his rob\n",
            "GT\t. . . Dumbledore scooped the locket from the bottom of the stone basin and stowed it inside his robe\n",
            "pred\t\" . . aumbledore waroped ioe siok d aoom the soytlm of the stane socinesnd staoad an antide tim fobe\n",
            "\n",
            "\n",
            "Input\t\"sir, I forgot -- about fire -- they were coming at me and I panicked --\" \"Quite understandable,\" mu\n",
            "GT\tsir, I forgot -- about fire -- they were coming at me and I panicked --\" \"Quite understandable,\" mur\n",
            "pred\twhr, y wougot t  anout tons y- Iha  dare soming tn te tnd s durtsked i-  \"Iuite snderstand gle   sut\n",
            "\n",
            "\n",
            "\n",
            "Test set: Average loss: 1.3882, Accuracy: 734988/1254400 (59%)\n",
            "\n",
            "generated max\t\t Harry Potter, Voldemort, and Dumbledore walk into a bar.  \"I don't know what you want to think you want to think you want to think you want to think you want to think you want to think you want to think you want to think you want to think you want to think \n",
            "generated sample\t Harry Potter, Voldemort, and Dumbledore walk into a bar. Harry doout himbress. What was her coiling continue echaperore late something, and drawly hear matfre that Fire's Maid Ron both hind effort, but as it willed him up and jumped and barely at Harry. \"I \n",
            "generated sample\t Harry Potter, Voldemort, and Dumbledore walk into a bar. Goody did your kimp.\" sir was sounding into a disgupt. \"Thy cage whlling to the morts. Ft, castive.. If it, if it'all oicender of Harry. You'd not bann unelist your Idiwbers?\" \"You have yet it, that m\n",
            "generated sample\t Harry Potter, Voldemort, and Dumbledore walk into a bar. the grounk short growled you and Harry foult arrived Hermione Horrix he had what into middle of Harry lunging adon. \"I'm not now, it's for Eurday, his, that was glidking up into understond mean cribly\n",
            "generated sample\t Harry Potter, Voldemort, and Dumbledore walk into a bar.   which all over the doost of his from and your enders was purting ripside while you now, it was sir?\" Snape was is divinh like some house of the door was sort over the common unasolvarable..  The rub\n",
            "generated sample\t Harry Potter, Voldemort, and Dumbledore walk into a bar.  \"Koo wore off,\" said Tho contermitier bott find, an unvictired oppodating trough's opportent tall up rise shaking the door.\" Band Harry crumpled ontells up the spider, breakfall to king their slugs, \n",
            "generated sample\t Harry Potter, Voldemort, and Dumbledore walk into a bar. It shouldn't shout of hands off and a but stripsedard impritibly all the math thinks ever snatching ochose and his immering juch dreishround at the shoke of the evary minornaled emptyage ffiqure sort \n",
            "generated sample\t Harry Potter, Voldemort, and Dumbledore walk into a bar. \"What when Voldemort of Smatters, and idea -- I must fot that's a door wand or a could founced it was you, Dudly around something in the catin. Ron could surprise flation of which inchining she had du\n",
            "generated sample\t Harry Potter, Voldemort, and Dumbledore walk into a bar. Harry stunked to the plants you care our note, though Snape serfarded run-standing on his when he ddeaked up door running and which flaked away under the word.  \"What dwath here in your eyes, commofte\n",
            "generated sample\t Harry Potter, Voldemort, and Dumbledore walk into a bar. \"Harry would quiet that with one slideling shrieked. Yed only Keal powarts crue in a Voite little door now. he itsalence, everyone sat deeperstrative to tell you many.\" \"You thank Arthurs? Ind you off\n",
            "generated sample\t Harry Potter, Voldemort, and Dumbledore walk into a bar. epar with hide and waped out ears in front and foot on. \"I'm about that yeh? I'm not. .! of drup world, he dare you stay away friendly endless your eye.  Theye had certained in an ord raised his hand.\n",
            "generated beam\t\t Harry Potter, Voldemort, and Dumbledore walk into a bar. ut and vagas who can but no understairs pudded. But nothing to find up for a runevels, his mouth fouthy later and Thught it, which had did gave crumpled oppine day... It'm for the gring floom. Hooke o\n",
            "\n",
            "Saving final model\n",
            "Saved /content/checkpoints/020.pt\n",
            "\n"
          ],
          "name": "stdout"
        },
        {
          "output_type": "display_data",
          "data": {
            "image/png": "[encoded data removed]",
            "text/plain": [
              "<Figure size 1440x720 with 1 Axes>"
            ]
          },
          "metadata": {
            "tags": [],
            "needs_background": "light"
          }
        },
        {
          "output_type": "display_data",
          "data": {
            "image/png": "[encoded data removed]",
            "text/plain": [
              "<Figure size 1440x720 with 1 Axes>"
            ]
          },
          "metadata": {
            "tags": [],
            "needs_background": "light"
          }
        },
        {
          "output_type": "display_data",
          "data": {
            "image/png": "[encoded data removed]",
            "text/plain": [
              "<Figure size 1440x720 with 1 Axes>"
            ]
          },
          "metadata": {
            "tags": [],
            "needs_background": "light"
          }
        },
        {
          "output_type": "display_data",
          "data": {
            "image/png": "[encoded data removed]",
            "text/plain": [
              "<Figure size 1440x720 with 1 Axes>"
            ]
          },
          "metadata": {
            "tags": [],
            "needs_background": "light"
          }
        },
        {
          "output_type": "display_data",
          "data": {
            "image/png": "[encoded data removed]",
            "text/plain": [
              "<Figure size 1440x720 with 1 Axes>"
            ]
          },
          "metadata": {
            "tags": [],
            "needs_background": "light"
          }
        }
      ]
    },
    {
      "cell_type": "markdown",
      "metadata": {
        "id": "r597GUTVjwZc"
      },
      "source": [
        "#Part 7: Experiments"
      ]
    },
    {
      "cell_type": "code",
      "metadata": {
        "id": "zgLylYlp9kBK",
        "outputId": "017449a5-b593-4211-b800-6c84a51d49d8",
        "colab": {
          "base_uri": "https://localhost:8080/"
        }
      },
      "source": [
        "def eval_final_model(model, vocab, device):\n",
        "    seed_words = 'Harry Potter and the'\n",
        "    sequence_length = 200\n",
        "\n",
        "    generated_sentence = generate_language(model, device, seed_words, sequence_length, vocab, 'max')\n",
        "    print('generated with max\\t', generated_sentence)\n",
        "\n",
        "    for ii in range(10):\n",
        "        generated_sentence = generate_language(model, device, seed_words, sequence_length, vocab, 'sample')\n",
        "        print('generated with sample\\t', generated_sentence)\n",
        "\n",
        "    for ii in range(10):\n",
        "        generated_sentence = generate_language(model, device, seed_words, sequence_length, vocab, 'beam')\n",
        "        print('generated with beam\\t', generated_sentence)\n",
        "\n",
        "eval_final_model(final_model, vocab, device)"
      ],
      "execution_count": null,
      "outputs": [
        {
          "output_type": "stream",
          "text": [
            "generated with max\t Harry Potter and the door was standing at the stairs and stared at the stairs and stared at the stairs and stared at the stairs and stared at the stairs and stared at the stairs and stared at the stairs and stared at the\n",
            "generated with sample\t Harry Potter and the blass found shooted at that, It's unteld stood the Nure Hermione wore. Ya's exbectected?\" said Ron coban at the impressire.  I was very glool. Hermione gave Hunar ron to his devers in her cold man th\n",
            "generated with sample\t Harry Potter and then quick lumb and intrudening trontbled endigelently as Rust the glasse line Murdle and Voines ffoot fouder and screaking over and the shirm in dres, but looking overs he spoke out of swrees and snowd \n",
            "generated with sample\t Harry Potter and the feast old wand finesh great one) the other back slipping at Harry?\" \"No,\" said Harry. \"I a voice of 'ighing Ministry Would short wark to met our staff of school. That let out his head in a rink sudde\n",
            "generated with sample\t Harry Potter and the door stay birelier noished bacing around at each long up into Firewairs who shuddingred understhep usught that incrume in at Rold Good, write wand crowd to Harry about Parvy's ward escaped for a fame\n",
            "generated with sample\t Harry Potter and the dropping and off foot, all out omminer to the difleds over door on himself ofto the prouch now? Ministry of Harry had hear holf in day. \"What yet Mrs. Weasley, come, the support old dies, who saw wiz\n",
            "generated with sample\t Harry Potter and the grass right returning, unuphirt commenved in the gritible. He did her kning Harry, holoded to the fight. He clipped out all. Hermione and Ron's during chair open from Harry and Mundung Ron in one our\n",
            "generated with sample\t Harry Potter and the shage.  At the boxt on the door but off, when the devent and her look bodes and the Kartnle of Harry fore holding Harmlus. \"Ron't jump use by the zout and school stay!\" What that jubbour father him i\n",
            "generated with sample\t Harry Potter and they did even she dooght caught, jaunds. Hawrose rup. Harries wondering into Snape wooderanted.  \"You when he turned to you burn if it's kind his wand to knood to the same of pike at the team littering s\n",
            "generated with sample\t Harry Potter and the scrit murdan emburs.  Whilm he distrueted into the scherple seam on him through the pote outs, certains that had every floor, Harry had hupped Harry would out out of his popinessole gave and his eye \n",
            "generated with sample\t Harry Potter and the rememberge ond conters were vanishs hall. Foom oken standing, runting uncroaked and doine gosting room, hilly, looking and pulling him into a * Harty he found with the cireless tasteh. \"Ind, Hermione\n",
            "generated with beam\t Harry Potter and theSQut Potter said idea spone for an auxors. The voice poared in the lonssens spation and aloth what Lomothing backgured out room tor broud ropen; to unlier him on the Parvation and his head: and what h\n",
            "generated with beam\t Harry Potter and theother fire? \"What is surely while you once to a 1ave clunk run in the skin from Lond; because his water was full hind swapefurely, the moss owen carrying common dre. Vermione was started standing at h\n",
            "generated with beam\t Harry Potter and thesapprovint niguch as I! Anything if you, If?\" better pupped at the hospond and very inched it had noticed the ground toiless all out of his isprodach state box. \"Gump of students shrew to ePplaunt and\n",
            "generated with beam\t Harry Potter and thestone slid rove over. He was here it was clunging around and a visible glassrook number and a very contimie, to go at Shut difty through a going on and holling running alone him thrord against that he\n",
            "generated with beam\t Harry Potter and the only out yountile that around it, out-- which Fle other set of work clitching, that where you even you've got to in[ which Something throug forkhurs, the whole uprous again, it's another bittle metai\n",
            "generated with beam\t Harry Potter and thecrasines clattering aporessed Bufforpet* to make it might courned our a middle of his room in think there it whispered at the wrong pomint was smanning more a huge for carriendly Heliter, and Hermione\n",
            "generated with beam\t Harry Potter and theroom Fore and runched, If a poor to an ovine akaicst or Harry, Ron and Hermione shin, a facing scored live guass in what. I mean, Harry caughh the time and Potta delike in abor Nchess of Gry out of Ha\n",
            "generated with beam\t Harry Potter and theway on inap robes ?\" Hagrid pust mime his nose, and inflits on my gudlefour exams streetlistering to the stone, white at the very crambers of fire and drew group for summering with until water white o\n",
            "generated with beam\t Harry Potter and thegave let what the three hands, want worse looked to the direstine,  Sndiencenicy light to remem out with Harry's house five middard romeds in his coue, and and Professor McGonagall Shat he nawed up a \n",
            "generated with beam\t Harry Potter and thecloud pourn 4y appieve is decious it a repovere of Mulfaroons invening with anabor 6eht was quite undarnare. Rin there was points of and storing inkidital wand open sligghrings around it. My MaW1ng'd \n"
          ],
          "name": "stdout"
        }
      ]
    },
    {
      "cell_type": "markdown",
      "metadata": {
        "id": "pn0RWPBFjzkP"
      },
      "source": [
        "#Part 8: Other things\n",
        "Choose **three** of the following to try. You should create new code cells below rather than modifying your earlier code:\n",
        "\n",
        "\n",
        "1. Train on a different text corpus. The corpus should be at least as large as the provided Harry Potter dataset.\n",
        "    - Options include other books, websites, tweets, wikipedia articles etc.\n",
        "    -  (Hint: this is probably the easiest one)\n",
        "1. Find a better network architecture. Some ideas:\n",
        "    - Look at the various options in https://pytorch.org/docs/stable/nn.html#torch.nn.GRU\n",
        "    - You can make the network wider or deeper.\n",
        "    - You can try to learn separate encoders and decoders.\n",
        "1. Use an LSTM instead of a GRU.\n",
        "    - https://pytorch.org/docs/stable/nn.html#torch.nn.LSTM\n",
        "    - The output of an LSTM is a hidden state **and** a cell state, so you will need to deal with a tuple instead of a single vector.\n",
        "1. Use a Transformer instead of a GRU.\n",
        "    - https://pytorch.org/docs/stable/nn.html#torch.nn.Transformer\n",
        "    - Be sure to get the masks right so you don't condition on the future characters: https://pytorch.org/docs/stable/nn.html#torch.nn.Transformer.generate_square_subsequent_mask may be of use.\n",
        "1. Train a model using student-forcing.\n",
        "    - You will have to modify the network inputs.\n",
        "    - You will need to use `torch.nn.GRUCell` and its like. https://pytorch.org/docs/stable/nn.html#grucell\n",
        "    - You cannot simply feed an empty string to start off a sequence. The sequence must be somehow conditioned on prior ground truth.\n",
        "1. Train a model on words instead of characters.\n",
        "    - You will need to redefine your input/output space vocabulary as well.\n",
        "    - You should replace any words that occur less than 5 times in the dataset with an <unknown\\> token. \n",
        "1. Write a new data loader which picks a random point in the text to start from and returns 10 consecutive sequences starting from that point onward. \n",
        "    - You should also modify the train and test functions to reset the memory when you reset the sequence.\n",
        "    - You should consider an epoch to be feeding in approximately the number of characters in the dataset.\n",
        "    - You may run into issues if your dataset size/epochs are not a multiple of your batch size.\n",
        "1. Train on sentences instead of one long sequence.\n",
        "    - You should still produce output character by character.\n",
        "    - Sentences can end with a . ! ?, but words like Mr. generally do not end a sentence.\n",
        "    - A sentence may also continue in the case of quotations. For example: ``\"Do your homework!\" said the TAs.`` is only one sentence.\n",
        "    - Your parsing does not have to be perfect, but try to incorporate as many of these rules as you can.\n",
        "    - Feel free to use existing NLP tools for finding sentence endings. One is spacy: https://spacy.io/usage/linguistic-features#section-sbd\n",
        "    - All sentences should end with an <eos\\> token. Your output sampling should now stop when it produces the <eos\\> token.\n",
        "\n"
      ]
    },
    {
      "cell_type": "code",
      "metadata": {
        "id": "xNyit0SsOGJh"
      },
      "source": [
        "# 1. new corpus\n",
        "def prepare_data(data_path):\n",
        "    with open(data_path) as f:\n",
        "        # This reads all the data from the file, but does not do any processing on it.\n",
        "        data = f.read()\n",
        "    \n",
        "    # TODO Add more preprocessing\n",
        "    data = re.sub(r\"[\\n\\t\\s]\", \" \", data)\n",
        "    \n",
        "    voc2ind = {}\n",
        "    \n",
        "    # Compute voc2ind and transform the data into an integer representation of the tokens.\n",
        "    index = 0\n",
        "    for char in data:\n",
        "      if char not in voc2ind:\n",
        "        voc2ind[char] = index\n",
        "        index += 1\n",
        "\n",
        "    ind2voc = {val: key for key, val in voc2ind.items()}\n",
        "\n",
        "    data_text = []\n",
        "    for char in data:\n",
        "      data_text.append(voc2ind[char])\n",
        "\n",
        "    length = (int) (len(data_text) * 0.8)\n",
        "    train_text = data_text[0:length]\n",
        "    test_text = data_text[length:]\n",
        "\n",
        "    pickle.dump({'tokens': train_text, 'ind2voc': ind2voc, 'voc2ind':voc2ind}, open(DATA_PATH + 'harry_potter_chars_train.pkl', 'wb'))\n",
        "    pickle.dump({'tokens': test_text, 'ind2voc': ind2voc, 'voc2ind':voc2ind}, open(DATA_PATH + 'harry_potter_chars_test.pkl', 'wb'))\n",
        "\n",
        "prepare_data(DATA_PATH + 'lesmis.txt')\n",
        "\n",
        "\n",
        "class Vocabulary(object):\n",
        "    def __init__(self, data_file):\n",
        "        with open(data_file, 'rb') as data_file:\n",
        "            dataset = pickle.load(data_file)\n",
        "        self.ind2voc = dataset['ind2voc']\n",
        "        self.voc2ind = dataset['voc2ind']\n",
        "\n",
        "    # Returns a string representation of the tokens.\n",
        "    def array_to_words(self, arr):\n",
        "        return ''.join([self.ind2voc[int(ind)] for ind in arr])\n",
        "\n",
        "    # Returns a torch tensor representing each token in words.\n",
        "    def words_to_array(self, words):\n",
        "        return torch.LongTensor([self.voc2ind[word] for word in words])\n",
        "\n",
        "    # Returns the size of the vocabulary.\n",
        "    def __len__(self):\n",
        "        return len(self.voc2ind)"
      ],
      "execution_count": null,
      "outputs": []
    },
    {
      "cell_type": "code",
      "metadata": {
        "id": "KF4BW6L4OH60"
      },
      "source": [
        "# 2. new architecture\n",
        "TEMPERATURE = 0.5\n",
        "\n",
        "class HarryPotterNet(nn.Module):\n",
        "    def __init__(self, vocab_size, feature_size):\n",
        "        super(HarryPotterNet, self).__init__()\n",
        "        self.vocab_size = vocab_size\n",
        "        self.feature_size = feature_size\n",
        "        self.encoder = nn.Embedding(self.vocab_size, self.feature_size)\n",
        "\n",
        "        self.gru = nn.GRU(self.feature_size, self.feature_size, batch_first=True)\n",
        "        self.decoder = nn.Linear(self.feature_size, 300)\n",
        "        self.fc2 = nn.Linear(300, 150)\n",
        "        self.fc3 = nn.Linear(150, self.vocab_size)\n",
        "        \n",
        "        self.best_accuracy = -1\n",
        "    \n",
        "    def forward(self, x, hidden_state=None):\n",
        "        batch_size = x.shape[0]\n",
        "        sequence_length = x.shape[1]\n",
        "        \n",
        "        x = self.encoder(x)\n",
        "        x, hidden_state = self.gru(x, hidden_state)\n",
        "        x = self.decoder(x)\n",
        "        x = self.fc2(x)\n",
        "        x = self.fc3(x)\n",
        "\n",
        "        return x, hidden_state\n",
        "\n",
        "    # This defines the function that gives a probability distribution and implements the temperature computation.\n",
        "    def inference(self, x, hidden_state=None, temperature=1):\n",
        "        x = x.view(-1, 1)\n",
        "        x, hidden_state = self.forward(x, hidden_state)\n",
        "        x = x.view(1, -1)\n",
        "        x = x / max(temperature, 1e-20)\n",
        "        x = F.softmax(x, dim=1)\n",
        "        return x, hidden_state\n",
        "\n",
        "    # Predefined loss function\n",
        "    def loss(self, prediction, label, reduction='mean'):\n",
        "        loss_val = F.cross_entropy(prediction.view(-1, self.vocab_size), label.view(-1), reduction=reduction)\n",
        "        return loss_val\n",
        "\n",
        "    # Saves the current model\n",
        "    def save_model(self, file_path, num_to_keep=1):\n",
        "        pt_util.save(self, file_path, num_to_keep)\n",
        "\n",
        "    # Saves the best model so far\n",
        "    def save_best_model(self, accuracy, file_path, num_to_keep=1):\n",
        "        if accuracy > self.best_accuracy:\n",
        "            self.save_model(file_path, num_to_keep)\n",
        "            self.best_accuracy = accuracy\n",
        "\n",
        "    def load_model(self, file_path):\n",
        "        pt_util.restore(self, file_path)\n",
        "\n",
        "    def load_last_model(self, dir_path):\n",
        "        return pt_util.restore_latest(self, dir_path)"
      ],
      "execution_count": null,
      "outputs": []
    },
    {
      "cell_type": "code",
      "metadata": {
        "id": "8jeBtrqDOV0s"
      },
      "source": [
        "# 2. lstm\n",
        "TEMPERATURE = 0.5\n",
        "\n",
        "class HarryPotterNet(nn.Module):\n",
        "    def __init__(self, vocab_size, feature_size):\n",
        "        super(HarryPotterNet, self).__init__()\n",
        "        self.vocab_size = vocab_size\n",
        "        self.feature_size = feature_size\n",
        "        self.encoder = nn.Embedding(self.vocab_size, self.feature_size)\n",
        "\n",
        "        self.lstm = nn.LSTM(self.feature_size, self.feature_size, num_layers=2, batch_first=True)\n",
        "        self.decoder = nn.Linear(self.feature_size, self.vocab_size)\n",
        "        \n",
        "        self.best_accuracy = -1\n",
        "    \n",
        "    def forward(self, x, hidden_state=None):\n",
        "        batch_size = x.shape[0]\n",
        "        sequence_length = x.shape[1]\n",
        "\n",
        "        x = self.encoder(x)\n",
        "        x, hidden_state = self.lstm(x, hidden_state)\n",
        "        x = self.decoder(x)\n",
        "\n",
        "        return x, hidden_state\n",
        "\n",
        "    # This defines the function that gives a probability distribution and implements the temperature computation.\n",
        "    def inference(self, x, hidden_state=None, temperature=1):\n",
        "        x = x.view(-1, 1)\n",
        "        x, hidden_state = self.forward(x, hidden_state)\n",
        "        x = x.view(1, -1)\n",
        "        x = x / max(temperature, 1e-20)\n",
        "        x = F.softmax(x, dim=1)\n",
        "        return x, hidden_state\n",
        "\n",
        "    # Predefined loss function\n",
        "    def loss(self, prediction, label, reduction='mean'):\n",
        "        loss_val = F.cross_entropy(prediction.view(-1, self.vocab_size), label.view(-1), reduction=reduction)\n",
        "        return loss_val\n",
        "\n",
        "    # Saves the current model\n",
        "    def save_model(self, file_path, num_to_keep=1):\n",
        "        pt_util.save(self, file_path, num_to_keep)\n",
        "\n",
        "    # Saves the best model so far\n",
        "    def save_best_model(self, accuracy, file_path, num_to_keep=1):\n",
        "        if accuracy > self.best_accuracy:\n",
        "            self.save_model(file_path, num_to_keep)\n",
        "            self.best_accuracy = accuracy\n",
        "\n",
        "    def load_model(self, file_path):\n",
        "        pt_util.restore(self, file_path)\n",
        "\n",
        "    def load_last_model(self, dir_path):\n",
        "        return pt_util.restore_latest(self, dir_path)"
      ],
      "execution_count": null,
      "outputs": []
    },
    {
      "cell_type": "markdown",
      "metadata": {
        "id": "vWMlB2U3onZ0"
      },
      "source": [
        "#Part 9: Short answer questions\n",
        "Please answer these questions, and put the answers in a file called short_answer.pdf in your repository.\n",
        "\n",
        "\n",
        "1. Just like last time, provide plots for training error, test error, and test accuracy. Also provide a plot of your train and test perplexity per epoch.\n",
        "    - In class we defined perplexity as `2^(p*log_2(q))`, However the PyTorch cross entropy function uses the natural log. To compute perplexity directly from the cross entropy, you should use `e^p*ln(q)`.\n",
        "    - We encourage you to try multiple network modifications and hyperparameters, but you only need to provide plots for your best model. Please list the modifications and hyperparameters.\n",
        "\n",
        "- We tried a number of modifications but found that the original worked best with a temperature of 0.1. We tried adding extra layers, changing batch size, changing learning rate, and changing sequence length, but none of those options worked well. Otherwise, no changes to the list of hyperparameters or other modifications.\n",
        "\n",
        "![image.png](https://drive.google.com/uc?export=view&id=15S927zO-yIMWOngklUnX2mTvmcCln1Y4)\n",
        "\n",
        "![image.png](https://drive.google.com/uc?export=view&id=1wT51pw_hQrnUKxCc_Fx6KlmVZvtAezhf)\n",
        "\n",
        "![image.png](https://drive.google.com/uc?export=view&id=1UsVpcGfuqLv1G5ogoUeQ3VyQcw1Mra-0)\n",
        "\n",
        "![image.png](https://drive.google.com/uc?export=view&id=1OX3DzuV8zmR1LGFgjMqih4DHbksBLuVr)\n",
        "\n",
        "![image.png](https://drive.google.com/uc?export=view&id=1LLTA4cdViDGFDS8b2mkjHtYWcgBvL2ds)\n",
        "    \n",
        "2. What was your final test accuracy? What was your final test perplexity?\n",
        "- The final test accuracy was about 60%. The final test perplexity was about 4.\n",
        "3. What was your favorite sentence generated via each of the sampling methods? What was the prompt you gave to generate that sentence?\n",
        "- Sentence: What does a boundless UW student say?\n",
        "- max: What does a boundless UW student say? I don't think you think you think you think you think you think you think you think you think you think you think you think you think you think you think you think you think you think you think you th\n",
        "- sample: Harry jut do it, there?\"  \"So who's he wanted a point of ruse insweithe.\"  It was detention for a dright snoce of fiftaden what onto fi7e move than he really gonble to Kryffind and Auddy Wlug still ho\n",
        "- beam: omething, Harry could a got of teath fine presenven door connecting a hungues and blay new to Sopin point, and Harry widen't thin about it,\" said Hagrid stroke around.   The you for the smile nor blue\n",
        "4. Which sampling method seemed to generate the best results? Why do you think that is?\n",
        "- On average beam search seemed to generate the best results, since it provided the most varied results and expanded the possiblities to find reasonable combinations. Sampling search also generated pretty comparable results, but didn't seem to be as coherent in terms of sentence completion.\n",
        "5. For sampling and beam search, try multiple temperatures between 0 and 2. \n",
        "- Which produces the best outputs? Best as in made the most sense, your favorite, or funniest, doesn't really matter how you decide.\n",
        "  - sample method produced the best output (funniest) with a temperature of 0.5: \"You think you.\"  \"Alike \"Dudge duanstanted that my friel you think I''l have to your, fawing, Ron Encle he was looking ot that Lun would spear Flitwin   the twit, for they locked as Ion waped salize \n",
        "- What does a temperature of 0 do? What does a temperature of 0<temp<1 do? What does a temperature of 1 do? What does a temperature of above 1 do? What would a negative temperature do (assuming the code allowed for negative temperature)?\n",
        "  - A temperature of 0 picks the character with the most probability (basically a max) which can lead to looping - eliminates randomness in sampling\n",
        "  - A temperature of 0<temp<1 will add some randomness but still favor the original distribution\n",
        "  - A temperature of 1 will not have an effect on the distribution\n",
        "  - A temperature greater than 1 will create more uniformity when picking values\n",
        "  - A negative temperature would give us values that are greater than 1 which would cause issues for our model\n",
        "    \n",
        "Questions for each of the \"Other things\" sections. Only answer the questions corresponding to the ones you chose.\n",
        "\n",
        "1. New Corpus\n",
        "    1. What corpus did you choose? How many characters were in it?\n",
        "    - We chose the complete text of the book Les Miserables, which contains 3,251,298 characters.\n",
        "    2. What differences did you notice between the sentences generated with the new/vs old corpus.\n",
        "    - We noticed that there was different vocabulary associated with the new corpus, likely meaning that the old and new corpora were written in different time periods. We also noticed a few character errors due to parsing on the new dataset (like unicode characters and things like that). There are more semicolons and longer sentences, meaning that the newer corpus seemed to have a far more sophisticated structure.\n",
        "    3. Provide outputs for each sampling method on the new corpus (you can pick one temperature, but say what it was).\n",
        "    - The temperature used was 0.5. Here are some outputs for the new corpus: \n",
        "    - max: The same time to the single with the same time to the single with the significant of the streets, and the same time to the single with the significant of the streets, and the same time to the single w\n",
        "    - sample: Fome! In the opper of Cosette, from this walking seems. An old MaternoïK PRor I caugh to mean Vosette?”   “æobous extre, which had been which was the side. They meaulted consplains who were all to tha\n",
        "    - beam: make, this pomice. A love with ephanswity, a wooden in that them ang of the poince? Th! Cosette time, in spectation when the antive movemed no resembled towy himself in the little Fait face might mom\n",
        "\n",
        "1. New Architecture\n",
        "    1. What was your design? What did you try that didn't work well?\n",
        "    - Our design was adding more layers (making the network deeper). We thought that adding more layers would create more connections in our network but it ended up giving identical accuracies in the end. We also tried changing several hyperparameters including batch size, learning rate, and also things like temperature. None of the changes gave significant boosts in the accuracies.\n",
        "    2. What was your lowest test perplexity? Provide training and testing plots.\n",
        "  - The lowest test perplexity was about 4.\n",
        "\n",
        "![image.png](https://drive.google.com/uc?export=view&id=1OX3DzuV8zmR1LGFgjMqih4DHbksBLuVr)\n",
        "\n",
        "![image.png](https://drive.google.com/uc?export=view&id=1LLTA4cdViDGFDS8b2mkjHtYWcgBvL2ds)\n",
        "    \n",
        "    3. Provide outputs for each sampling method on the new corpus (you can pick one temperature, but say what it was).\n",
        "\n",
        "    - We used a temperature of 0.5\n",
        "    - max: “The man was not the convent of the convent of the same to the police of the street of the street of the street of the street of the street of the street of the street of the street of the street of\n",
        "    - sample: By night chyed wolld receive allube in the othericif ment on the Pholeer Collaire man. The to’R would mean uspects opsnalon, but You am lofty deas’ not lift gun leasing I am fabking, which bulkly on t\n",
        "    - beam: The Montpertrict to him in himself wall skrug, and Carling directed of all adoracion-do﻿s of the does of wat contablect to him, leaver an indolshap restains, and dame duclor? Joabju no lover. Thatali\n",
        "\n",
        "1. LSTM\n",
        "    1. What new difficulties did you run into while training?\n",
        "    - We had difficulty fitting the dimensions correctly but other than that nothing too much\n",
        "    2. Were results better than the GRU? Provide training and testing plots.\n",
        "    - The results were about the same as the GRU\n",
        "\n",
        "![image.png](https://drive.google.com/uc?export=view&id=1N_jJHzDwiHTTPLCz5C_IzkYcIlrariv1)\n",
        "\n",
        "![image.png](https://drive.google.com/uc?export=view&id=1EddbUXzU7qDKgwjiH_Rw_MSiyLmu9jFe)\n",
        "\n",
        "![image.png](https://drive.google.com/uc?export=view&id=1RE_vmuob8qPVUm4k33-3vqDWps2q4rFz)\n",
        "\n",
        "\n",
        "    3. Provide some outputs for each sampling method (you can pick one temperature, but say what it was).\n",
        "    - We used a temperature of 0.5\n",
        "    - max: They said to the porter of the street of the street of the street of the street of the street of the street of the street of the street of the street of the street of the street of the street of the\n",
        "    - sample: France of aughteous, come yorseably loying; alquying the town; that come tilent to late.  Wess, top understood. And thrust it this whot like to bare the barriers of liftentous shoulders, there was suc\n",
        "    - beam: Mother Helps. God at Jag…:—  “Sest against he collent the priest, thruths:— This schile each opening in the pirtor, on therein anything; there felt it donesses it to then. This arrivides tigety usy po\n",
        "\n",
        "1. Transformer\n",
        "    1. What new difficulties did you run into while training?\n",
        "    2. Were results better than the GRU? Provide training and testing plots.\n",
        "    3. Provide outputs for each sampling method on the new corpus (you can pick one temperature, but say what it was).\n",
        "    \n",
        "1. Student-forcing\n",
        "    1. What new difficulties did you run into while training?\n",
        "    2. Were the results better than with teacher-forcing?\n",
        "    3. Provide some outputs for each sampling method (you can pick one temperature, but say what it was).\n",
        "    \n",
        "1. Words\n",
        "    1. What new difficulties did you run into while training?\n",
        "    2. How large was your vocabulary?\n",
        "    3. Did you find that different batch size, sequence length, and feature size and other hyperparameters were needed? If so, what worked best for you?\n",
        "\n",
        "1. Random Dataloader\n",
        "    1. What new difficulties did you run into while training?\n",
        "    2. Were the results better than with the original dataloader?\n",
        "    3. Provide some outputs for each sampling method (you can pick one temperature, but say what it was). \n",
        "    \n",
        "1. Sentences\n",
        "    1. What new difficulties did you run into while training? What new difficulties did you run into while preprocessing?\n",
        "    2. Were the results better than with the original dataloader?\n",
        "    3. Provide some outputs for each sampling method (you can pick one temperature, but say what it was). \n",
        "\n",
        "\n",
        "    "
      ]
    }
  ]
}